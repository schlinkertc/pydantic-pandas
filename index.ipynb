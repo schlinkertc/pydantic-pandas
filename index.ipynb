{
 "cells": [
  {
   "cell_type": "code",
   "execution_count": null,
   "metadata": {},
   "outputs": [
    {
     "name": "stdout",
     "output_type": "stream",
     "text": [
      "in DF Meta __new__\n",
      "BaseFrame\n",
      "(<class 'pydantic.main.BaseModel'>, <class 'pydantic_pandas.core.PandasDataFrame'>)\n",
      "{'__module__': 'pydantic_pandas.core', '__qualname__': 'BaseFrame', '__doc__': 'Doc from BaseFame', '__init__': <function BaseFrame.__init__ at 0x7f86f11f2830>, '_base_frame_root_validator': <classmethod object at 0x7f86f11ee710>, '__classcell__': <cell at 0x7f86ede05350: empty>}\n"
     ]
    }
   ],
   "source": [
    "#hide\n",
    "from pydantic_pandas.core import *"
   ]
  },
  {
   "cell_type": "markdown",
   "metadata": {},
   "source": [
    "# Pydantic Pandas\n",
    "\n",
    "> Pydantic tool-set for pandas DataFrames and Jupyter"
   ]
  },
  {
   "cell_type": "markdown",
   "metadata": {},
   "source": [
    "This file will become your README and also the index of your documentation."
   ]
  },
  {
   "cell_type": "markdown",
   "metadata": {},
   "source": [
    "## Install"
   ]
  },
  {
   "cell_type": "markdown",
   "metadata": {},
   "source": [
    "`pip install your_project_name`"
   ]
  },
  {
   "cell_type": "markdown",
   "metadata": {},
   "source": [
    "## How to use"
   ]
  },
  {
   "cell_type": "markdown",
   "metadata": {},
   "source": [
    "Fill me in please! Don't forget code examples:"
   ]
  },
  {
   "cell_type": "code",
   "execution_count": null,
   "metadata": {},
   "outputs": [
    {
     "data": {
      "text/plain": [
       "2"
      ]
     },
     "execution_count": null,
     "metadata": {},
     "output_type": "execute_result"
    }
   ],
   "source": [
    "1+1"
   ]
  },
  {
   "cell_type": "code",
   "execution_count": null,
   "metadata": {},
   "outputs": [],
   "source": []
  }
 ],
 "metadata": {
  "kernelspec": {
   "display_name": "Python 3",
   "language": "python",
   "name": "python3"
  }
 },
 "nbformat": 4,
 "nbformat_minor": 4
}

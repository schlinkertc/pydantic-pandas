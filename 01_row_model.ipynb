{
 "cells": [
  {
   "cell_type": "code",
   "execution_count": null,
   "id": "61cb1807-6785-4dfc-be9c-46fa67c95b69",
   "metadata": {},
   "outputs": [],
   "source": [
    "# default_exp row_model"
   ]
  },
  {
   "cell_type": "code",
   "execution_count": null,
   "id": "35d7b3d1-6575-4cdd-b98d-1ccdd49c8da1",
   "metadata": {},
   "outputs": [],
   "source": [
    "#exporti \n",
    "\n",
    "from pydantic_pandas.default_standard_lib import *\n",
    "from pydantic_pandas.core import BaseModel,DataFrame\n",
    "from pandas import notnull\n",
    "from pydantic import ValidationError\n",
    "from pydantic.utils import update_not_none"
   ]
  },
  {
   "cell_type": "markdown",
   "id": "545c7746-285a-4ee7-a5af-c9394e037b98",
   "metadata": {},
   "source": [
    "# Row Model"
   ]
  },
  {
   "cell_type": "code",
   "execution_count": null,
   "id": "8fc0444f-76d8-4ada-b773-815ad399d8e7",
   "metadata": {},
   "outputs": [],
   "source": [
    "#export\n",
    "\n",
    "class RowModel(BaseModel):\n",
    "    class Config:\n",
    "        on_errors: Literal[\n",
    "            'skip',\n",
    "            'raise',\n",
    "            'coerce',\n",
    "        ] = 'raise'\n",
    "        use_alias_for_columns:bool=False"
   ]
  },
  {
   "cell_type": "code",
   "execution_count": null,
   "id": "8af64e4c-2d11-413c-8523-8203c26ad4d5",
   "metadata": {},
   "outputs": [],
   "source": [
    "#exporti\n",
    "\n",
    "def parse_dataframe_records(\n",
    "    row_model:Type[RowModel],\n",
    "    df:DataFrame\n",
    ")->DataFrame:\n",
    "    # replace NaN with None\n",
    "    df = df.where(notnull(df), None)\n",
    "    records = df.to_dict('records')\n",
    "    parsed = []\n",
    "    for record in records:\n",
    "        try:\n",
    "            parsed_record = row_model.parse_obj(record)\n",
    "        except ValidationError as e:\n",
    "            on_errors = getattr(\n",
    "                row_model.Config,\n",
    "                'on_errors',\n",
    "                'raise'\n",
    "            )\n",
    "            if on_errors=='skip':\n",
    "                continue\n",
    "            if on_errors==\"coerce\":\n",
    "                parsed_record = row_model.construct(record)\n",
    "            if on_errors=='raise':\n",
    "                raise\n",
    "        parsed.append(parsed_record)\n",
    "    by_alias = getattr(\n",
    "        row_model.Config,\n",
    "        'use_alias_for_columns',\n",
    "        False\n",
    "    )\n",
    "    parsed_records = [\n",
    "        row.dict(by_alias=by_alias) for row in parsed\n",
    "    ]\n",
    "    df = pd.DataFrame.from_records(parsed_records)\n",
    "    return DataFrame.validate(df)\n",
    "                \n",
    "            \n",
    "        "
   ]
  },
  {
   "cell_type": "code",
   "execution_count": null,
   "id": "3492bc6f-2f35-42ab-8ad0-1b46ae884def",
   "metadata": {},
   "outputs": [],
   "source": [
    "from pydantic_pandas.utils import dummy_df\n",
    "\n",
    "class Record(RowModel):\n",
    "    string:str\n",
    "    number: int\n",
    "\n",
    "df = dummy_df(Record)\n",
    "\n",
    "assert not parse_dataframe_records(\n",
    "    Record,\n",
    "    df\n",
    ").empty"
   ]
  },
  {
   "cell_type": "code",
   "execution_count": null,
   "id": "67303cdf-bfec-49cd-ac2c-83f05a4b3283",
   "metadata": {},
   "outputs": [],
   "source": [
    "#export \n",
    "\n",
    "class TypedRecordFrame(DataFrame):\n",
    "    row_model: Optional[Type[BaseModel]] = None\n",
    "        \n",
    "    @classmethod\n",
    "    def __get_validators__(cls):\n",
    "\n",
    "        yield cls.validate_rows\n",
    "    \n",
    "    \n",
    "    @classmethod\n",
    "    def __modify_schema__(cls, field_schema: Dict[str, Any]) -> None:\n",
    "        row_model=None\n",
    "        if cls.row_model:\n",
    "            row_model = cls.row_model.schema()\n",
    "        update_not_none(\n",
    "            field_schema,\n",
    "            row_model=row_model\n",
    "        )\n",
    "    \n",
    "    @classmethod\n",
    "    def validate_rows(cls, df):\n",
    "        \n",
    "        return parse_dataframe_records(\n",
    "            cls.row_model,\n",
    "            df\n",
    "        )\n"
   ]
  },
  {
   "cell_type": "code",
   "execution_count": null,
   "id": "80b745e9-4147-4cbe-9363-f5c72d93479e",
   "metadata": {},
   "outputs": [],
   "source": [
    "#exporti\n",
    "\n",
    "class RecordFrameMeta(type):\n",
    "    def __getitem__(self, constraint):\n",
    "\n",
    "        return type('RecordFrame', (TypedRecordFrame,), {'row_model': constraint})\n",
    "        "
   ]
  },
  {
   "cell_type": "code",
   "execution_count": null,
   "id": "49a661a2-96d5-4c63-b636-5e3fbf7edc41",
   "metadata": {},
   "outputs": [],
   "source": [
    "#export\n",
    "\n",
    "class RecordFrame(DataFrame, metaclass=RecordFrameMeta):\n",
    "    pass"
   ]
  },
  {
   "cell_type": "code",
   "execution_count": null,
   "id": "537fe223-ccd7-46cb-92ac-208420071e51",
   "metadata": {},
   "outputs": [],
   "source": [
    "#export\n",
    "\n",
    "def recordframe(\n",
    "    *,\n",
    "    row_model: Type[BaseModel] = None\n",
    ") -> Type[RecordFrame]:\n",
    "    # use kwargs then define conf in a dict to aid with IDE type hinting\n",
    "    namespace = dict(row_model=row_model)\n",
    "    return type('RecordFrame', (TypedRecordFrame,), namespace)"
   ]
  },
  {
   "cell_type": "code",
   "execution_count": null,
   "id": "d7cbc348-22b0-495c-b8c4-150988531d4e",
   "metadata": {},
   "outputs": [],
   "source": [
    "#export \n",
    "\n",
    "def record_model(model:Type[RowModel]):\n",
    "    return RecordFrame[model]"
   ]
  },
  {
   "cell_type": "code",
   "execution_count": null,
   "id": "4d30a917-3d83-4729-bf3e-24120dbeee4e",
   "metadata": {},
   "outputs": [],
   "source": [
    "class Record(RowModel):\n",
    "    string:str\n",
    "    number:int"
   ]
  },
  {
   "cell_type": "code",
   "execution_count": null,
   "id": "9ed2bb8d-99f8-4a41-a547-db48bdc1d354",
   "metadata": {},
   "outputs": [],
   "source": [
    "df = dummy_df(Record)"
   ]
  },
  {
   "cell_type": "code",
   "execution_count": null,
   "id": "40164f07-9d7f-40c4-bb8c-ffb038fab5ae",
   "metadata": {},
   "outputs": [
    {
     "data": {
      "text/html": [
       "<div>\n",
       "<style scoped>\n",
       "    .dataframe tbody tr th:only-of-type {\n",
       "        vertical-align: middle;\n",
       "    }\n",
       "\n",
       "    .dataframe tbody tr th {\n",
       "        vertical-align: top;\n",
       "    }\n",
       "\n",
       "    .dataframe thead th {\n",
       "        text-align: right;\n",
       "    }\n",
       "</style>\n",
       "<table border=\"1\" class=\"dataframe\">\n",
       "  <thead>\n",
       "    <tr style=\"text-align: right;\">\n",
       "      <th></th>\n",
       "      <th>string</th>\n",
       "      <th>number</th>\n",
       "    </tr>\n",
       "  </thead>\n",
       "  <tbody>\n",
       "    <tr>\n",
       "      <th>0</th>\n",
       "      <td></td>\n",
       "      <td>0</td>\n",
       "    </tr>\n",
       "    <tr>\n",
       "      <th>1</th>\n",
       "      <td>0</td>\n",
       "      <td>0</td>\n",
       "    </tr>\n",
       "    <tr>\n",
       "      <th>2</th>\n",
       "      <td></td>\n",
       "      <td>0</td>\n",
       "    </tr>\n",
       "    <tr>\n",
       "      <th>3</th>\n",
       "      <td>0</td>\n",
       "      <td>0</td>\n",
       "    </tr>\n",
       "    <tr>\n",
       "      <th>4</th>\n",
       "      <td></td>\n",
       "      <td>0</td>\n",
       "    </tr>\n",
       "  </tbody>\n",
       "</table>\n",
       "</div>"
      ],
      "text/plain": [
       "  string  number\n",
       "0              0\n",
       "1      0       0\n",
       "2              0\n",
       "3      0       0\n",
       "4              0"
      ]
     },
     "execution_count": null,
     "metadata": {},
     "output_type": "execute_result"
    }
   ],
   "source": [
    "RecordFrame[Record].validate_rows(df).head()"
   ]
  },
  {
   "cell_type": "code",
   "execution_count": null,
   "id": "70186bee-e359-4f26-8f08-04a3cd008809",
   "metadata": {},
   "outputs": [
    {
     "data": {
      "text/html": [
       "<div>\n",
       "<style scoped>\n",
       "    .dataframe tbody tr th:only-of-type {\n",
       "        vertical-align: middle;\n",
       "    }\n",
       "\n",
       "    .dataframe tbody tr th {\n",
       "        vertical-align: top;\n",
       "    }\n",
       "\n",
       "    .dataframe thead th {\n",
       "        text-align: right;\n",
       "    }\n",
       "</style>\n",
       "<table border=\"1\" class=\"dataframe\">\n",
       "  <thead>\n",
       "    <tr style=\"text-align: right;\">\n",
       "      <th></th>\n",
       "      <th>string</th>\n",
       "      <th>number</th>\n",
       "    </tr>\n",
       "  </thead>\n",
       "  <tbody>\n",
       "    <tr>\n",
       "      <th>0</th>\n",
       "      <td></td>\n",
       "      <td>0</td>\n",
       "    </tr>\n",
       "    <tr>\n",
       "      <th>1</th>\n",
       "      <td>0</td>\n",
       "      <td>0</td>\n",
       "    </tr>\n",
       "    <tr>\n",
       "      <th>2</th>\n",
       "      <td></td>\n",
       "      <td>0</td>\n",
       "    </tr>\n",
       "    <tr>\n",
       "      <th>3</th>\n",
       "      <td>0</td>\n",
       "      <td>0</td>\n",
       "    </tr>\n",
       "    <tr>\n",
       "      <th>4</th>\n",
       "      <td></td>\n",
       "      <td>0</td>\n",
       "    </tr>\n",
       "  </tbody>\n",
       "</table>\n",
       "</div>"
      ],
      "text/plain": [
       "  string  number\n",
       "0              0\n",
       "1      0       0\n",
       "2              0\n",
       "3      0       0\n",
       "4              0"
      ]
     },
     "execution_count": null,
     "metadata": {},
     "output_type": "execute_result"
    }
   ],
   "source": [
    "recordframe(\n",
    "    row_model=Record\n",
    ").validate_rows(df).head()"
   ]
  },
  {
   "cell_type": "code",
   "execution_count": null,
   "id": "cf7fed0a-e81d-4720-ae8a-adab4e9b40e3",
   "metadata": {},
   "outputs": [
    {
     "data": {
      "text/html": [
       "<div>\n",
       "<style scoped>\n",
       "    .dataframe tbody tr th:only-of-type {\n",
       "        vertical-align: middle;\n",
       "    }\n",
       "\n",
       "    .dataframe tbody tr th {\n",
       "        vertical-align: top;\n",
       "    }\n",
       "\n",
       "    .dataframe thead th {\n",
       "        text-align: right;\n",
       "    }\n",
       "</style>\n",
       "<table border=\"1\" class=\"dataframe\">\n",
       "  <thead>\n",
       "    <tr style=\"text-align: right;\">\n",
       "      <th></th>\n",
       "      <th>string</th>\n",
       "      <th>number</th>\n",
       "    </tr>\n",
       "  </thead>\n",
       "  <tbody>\n",
       "    <tr>\n",
       "      <th>0</th>\n",
       "      <td></td>\n",
       "      <td>0</td>\n",
       "    </tr>\n",
       "    <tr>\n",
       "      <th>1</th>\n",
       "      <td>0</td>\n",
       "      <td>0</td>\n",
       "    </tr>\n",
       "    <tr>\n",
       "      <th>2</th>\n",
       "      <td></td>\n",
       "      <td>0</td>\n",
       "    </tr>\n",
       "    <tr>\n",
       "      <th>3</th>\n",
       "      <td>0</td>\n",
       "      <td>0</td>\n",
       "    </tr>\n",
       "    <tr>\n",
       "      <th>4</th>\n",
       "      <td></td>\n",
       "      <td>0</td>\n",
       "    </tr>\n",
       "  </tbody>\n",
       "</table>\n",
       "</div>"
      ],
      "text/plain": [
       "  string  number\n",
       "0              0\n",
       "1      0       0\n",
       "2              0\n",
       "3      0       0\n",
       "4              0"
      ]
     },
     "execution_count": null,
     "metadata": {},
     "output_type": "execute_result"
    }
   ],
   "source": [
    "@record_model\n",
    "class Record(BaseModel):\n",
    "    string: str\n",
    "    number: int\n",
    "\n",
    "Record.validate_rows(df).head()"
   ]
  },
  {
   "cell_type": "code",
   "execution_count": null,
   "id": "3255c9de-a9f1-4fe5-9bec-39eac0aa3e15",
   "metadata": {},
   "outputs": [
    {
     "name": "stdout",
     "output_type": "stream",
     "text": [
      "Converted 00_core.ipynb.\n",
      "Converted 01_row_model.ipynb.\n",
      "Converted 98_utils.ipynb.\n",
      "Converted 99_default_standard_lib.ipynb.\n",
      "Converted index.ipynb.\n"
     ]
    }
   ],
   "source": [
    "#hide\n",
    "!nbdev_build_lib"
   ]
  },
  {
   "cell_type": "code",
   "execution_count": null,
   "id": "39813a26-ccee-4c7f-90f6-ead5ea6b6944",
   "metadata": {},
   "outputs": [],
   "source": []
  }
 ],
 "metadata": {
  "kernelspec": {
   "display_name": "Python [conda env:py39] *",
   "language": "python",
   "name": "conda-env-py39-py"
  }
 },
 "nbformat": 4,
 "nbformat_minor": 5
}

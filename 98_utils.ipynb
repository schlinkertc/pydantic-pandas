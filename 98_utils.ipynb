{
 "cells": [
  {
   "cell_type": "code",
   "execution_count": null,
   "id": "12b000d3-971e-4612-a989-851e85a41b3e",
   "metadata": {},
   "outputs": [],
   "source": [
    "#default_exp utils"
   ]
  },
  {
   "cell_type": "code",
   "execution_count": null,
   "id": "6bd21475-4322-4574-b568-3b2e71b71f77",
   "metadata": {},
   "outputs": [],
   "source": [
    "#exporti \n",
    "\n",
    "from hypothesis import given, strategies as st\n",
    "import pandas as pd\n",
    "import inspect"
   ]
  },
  {
   "cell_type": "code",
   "execution_count": null,
   "id": "fa4b7b0e-2ca0-43f1-bd16-0610b3e7daab",
   "metadata": {},
   "outputs": [],
   "source": [
    "#hide\n",
    "from nbdev.showdoc import show_doc"
   ]
  },
  {
   "cell_type": "markdown",
   "id": "ce1bceaf-a8a3-4ef9-b4a8-5ecc0a459332",
   "metadata": {},
   "source": [
    "# Utilities"
   ]
  },
  {
   "cell_type": "markdown",
   "id": "264eb38f-5ad8-43b4-bd33-eb9d1b9568f9",
   "metadata": {},
   "source": [
    "## Delegation\n",
    "> Read more about it [in this brilliant post by Jeremy Howard](https://www.fast.ai/2019/08/06/delegation/).  \n",
    "> We will use it to provide the functionality of pd.DataFrame to our BaseFrame Model"
   ]
  },
  {
   "cell_type": "markdown",
   "id": "a92afbc0-ae6b-498e-904f-f2dc105d2f2a",
   "metadata": {},
   "source": [
    "A delegate is a person sent or authorized to represent others. To delegate means to entrust a task or responsibility to another person.  \n",
    "\n",
    "The `delegates` decorator takes the named arguments from one function and injects them into the signature of the function that is being decorated. This allows for auto-completion in a jupyter notebook and add doc string templates."
   ]
  },
  {
   "cell_type": "code",
   "execution_count": null,
   "id": "16f4ad92-3eb3-42a8-be90-22d03db539cc",
   "metadata": {},
   "outputs": [],
   "source": [
    "#export\n",
    "\n",
    "def delegates(to=None, keep=False):\n",
    "    \"Decorator: replace `**kwargs` in signature with params from `to`\"\n",
    "    \n",
    "    def _f(f):\n",
    "        if to is None: \n",
    "            to_f,from_f = f.__base__.__init__,f.__init__\n",
    "        else:          \n",
    "            to_f,from_f = to,f\n",
    "        \n",
    "        sig = inspect.signature(from_f)\n",
    "        sigd = dict(sig.parameters)\n",
    "        k = sigd.pop('kwargs')\n",
    "        s2 = {k:v for k,v in inspect.signature(to_f).parameters.items()\n",
    "              if v.default != inspect.Parameter.empty and k not in sigd}\n",
    "        sigd.update(s2)\n",
    "        if keep: \n",
    "            sigd['kwargs'] = k\n",
    "        from_f.__doc__ = f\"\"\"\n",
    "        doc string from my delegate: `{to_f.__name__}`\n",
    "        \n",
    "        \n",
    "        {to_f.__doc__}\n",
    "        \"\"\"\n",
    "        from_f.__signature__ = sig.replace(parameters=sigd.values())\n",
    "        return f\n",
    "    return _f"
   ]
  },
  {
   "cell_type": "code",
   "execution_count": null,
   "id": "02393b59-2fc3-419f-b11d-3f39cb7ad5ed",
   "metadata": {},
   "outputs": [],
   "source": [
    "import datetime as dt\n",
    "\n",
    "def function_with_many_named_args(\n",
    "    arg_1:str=None,\n",
    "    arg_2:int=None,\n",
    "    arg_3:dt.date=None\n",
    "):\n",
    "    \"\"\"a description doc string\"\"\"\n",
    "    return arg_1,arg_2,arg_3\n",
    "\n",
    "show_doc(function_with_many_named_args)"
   ]
  },
  {
   "cell_type": "code",
   "execution_count": null,
   "id": "982c028f-d4b8-4766-906c-96a24e4be2e9",
   "metadata": {},
   "outputs": [],
   "source": [
    "@delegates(function_with_many_named_args)\n",
    "def just_one_more(extra,**kwargs):\n",
    "\n",
    "    return list(kwargs.values())\n",
    "\n",
    "show_doc(just_one_more)"
   ]
  },
  {
   "cell_type": "markdown",
   "id": "3c67084d-528c-4e34-bbc0-3ac15ab67a10",
   "metadata": {},
   "source": [
    "## Hypothesis Testing"
   ]
  },
  {
   "cell_type": "code",
   "execution_count": null,
   "id": "02741f72-0a74-4ebd-828e-ff262d131618",
   "metadata": {},
   "outputs": [],
   "source": [
    "# export\n",
    "\n",
    "def dummy_df(Model):\n",
    "    instances = []\n",
    "    @given(st.builds(Model))\n",
    "    def test_property(instance):\n",
    "        instances.append(instance.dict())\n",
    "    test_property()\n",
    "    return pd.DataFrame.from_records(instances)"
   ]
  },
  {
   "cell_type": "code",
   "execution_count": null,
   "id": "45565858-c245-42a3-b785-5b8247712e60",
   "metadata": {},
   "outputs": [],
   "source": [
    "from pydantic_pandas.core import BaseModel\n",
    "\n",
    "class Record(BaseModel):\n",
    "    string: str\n",
    "    number: int"
   ]
  },
  {
   "cell_type": "code",
   "execution_count": null,
   "id": "931b2135-4482-4bf9-b7e9-20fbd2e80497",
   "metadata": {},
   "outputs": [
    {
     "name": "stdout",
     "output_type": "stream",
     "text": [
      "<class 'pandas.core.frame.DataFrame'>\n",
      "RangeIndex: 100 entries, 0 to 99\n",
      "Data columns (total 2 columns):\n",
      " #   Column  Non-Null Count  Dtype \n",
      "---  ------  --------------  ----- \n",
      " 0   string  100 non-null    object\n",
      " 1   number  100 non-null    object\n",
      "dtypes: object(2)\n",
      "memory usage: 1.7+ KB\n"
     ]
    }
   ],
   "source": [
    "dummy_df(Record).info()"
   ]
  },
  {
   "cell_type": "code",
   "execution_count": null,
   "id": "b15b717d-06b8-4ae1-9c5b-6c6af98fdb68",
   "metadata": {},
   "outputs": [
    {
     "name": "stdout",
     "output_type": "stream",
     "text": [
      "Converted 00_core.ipynb.\n",
      "Converted 01_row_model.ipynb.\n",
      "Converted 98_utils.ipynb.\n",
      "Converted 99_default_standard_lib.ipynb.\n",
      "Converted index.ipynb.\n"
     ]
    }
   ],
   "source": [
    "#hide\n",
    "!nbdev_build_lib"
   ]
  },
  {
   "cell_type": "code",
   "execution_count": null,
   "id": "e06e98e5-4b72-43f9-8b20-599afbd7ca32",
   "metadata": {},
   "outputs": [],
   "source": []
  }
 ],
 "metadata": {
  "kernelspec": {
   "display_name": "Python [conda env:py39] *",
   "language": "python",
   "name": "conda-env-py39-py"
  }
 },
 "nbformat": 4,
 "nbformat_minor": 5
}

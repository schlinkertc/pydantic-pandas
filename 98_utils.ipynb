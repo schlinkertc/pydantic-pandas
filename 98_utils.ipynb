{
 "cells": [
  {
   "cell_type": "code",
   "execution_count": null,
   "id": "12b000d3-971e-4612-a989-851e85a41b3e",
   "metadata": {},
   "outputs": [],
   "source": [
    "#default_exp utils"
   ]
  },
  {
   "cell_type": "markdown",
   "id": "ce1bceaf-a8a3-4ef9-b4a8-5ecc0a459332",
   "metadata": {},
   "source": [
    "# Utilities"
   ]
  },
  {
   "cell_type": "markdown",
   "id": "264eb38f-5ad8-43b4-bd33-eb9d1b9568f9",
   "metadata": {},
   "source": [
    "## Delegation\n",
    "> Read more about it [in this brilliant post by Jeremy Howard](https://www.fast.ai/2019/08/06/delegation/).  \n",
    "> We will use it to provide the functionality of pd.DataFrame to our BaseFrame Model"
   ]
  },
  {
   "cell_type": "code",
   "execution_count": null,
   "id": "9a0db17d-ac1c-4603-b639-dc806b3d3310",
   "metadata": {},
   "outputs": [],
   "source": [
    "from nbdev.showdoc import *\n",
    "from pydantic_pandas.default_standard_lib import *"
   ]
  },
  {
   "cell_type": "markdown",
   "id": "a92afbc0-ae6b-498e-904f-f2dc105d2f2a",
   "metadata": {},
   "source": [
    "A delegate is a person sent or authorized to represent others. To delegate means to entrust a task or responsibility to another person.  \n",
    "\n",
    "The `delegates` decorator takes the named arguments from one function and injects them into the signature of the function that is being decorated. This allows for auto-completion in a jupyter notebook and add doc string templates."
   ]
  },
  {
   "cell_type": "code",
   "execution_count": null,
   "id": "16f4ad92-3eb3-42a8-be90-22d03db539cc",
   "metadata": {},
   "outputs": [],
   "source": [
    "#export\n",
    "import inspect\n",
    "\n",
    "def delegates(to=None, keep=False):\n",
    "    \"Decorator: replace `**kwargs` in signature with params from `to`\"\n",
    "    \n",
    "    def _f(f):\n",
    "        if to is None: \n",
    "            to_f,from_f = f.__base__.__init__,f.__init__\n",
    "        else:          \n",
    "            to_f,from_f = to,f\n",
    "        \n",
    "        sig = inspect.signature(from_f)\n",
    "        sigd = dict(sig.parameters)\n",
    "        k = sigd.pop('kwargs')\n",
    "        s2 = {k:v for k,v in inspect.signature(to_f).parameters.items()\n",
    "              if v.default != inspect.Parameter.empty and k not in sigd}\n",
    "        sigd.update(s2)\n",
    "        if keep: \n",
    "            sigd['kwargs'] = k\n",
    "        from_f.__doc__ = f\"\"\"\n",
    "        doc string from my delegate: `{to_f.__name__}`\n",
    "        --------\n",
    "        {to_f.__doc__}\n",
    "        \"\"\"\n",
    "        from_f.__signature__ = sig.replace(parameters=sigd.values())\n",
    "        return f\n",
    "    return _f"
   ]
  },
  {
   "cell_type": "code",
   "execution_count": null,
   "id": "ca48c47b-08c0-490c-9cea-1b1a086fae12",
   "metadata": {},
   "outputs": [
    {
     "data": {
      "text/markdown": [
       "<h4 id=\"delegates\" class=\"doc_header\"><code>delegates</code><a href=\"__main__.py#L4\" class=\"source_link\" style=\"float:right\">[source]</a></h4>\n",
       "\n",
       "> <code>delegates</code>(**`to`**=*`None`*, **`keep`**=*`False`*)\n",
       "\n",
       "Decorator: replace `**kwargs` in signature with params from `to`"
      ],
      "text/plain": [
       "<IPython.core.display.Markdown object>"
      ]
     },
     "metadata": {},
     "output_type": "display_data"
    }
   ],
   "source": [
    "show_doc(delegates)"
   ]
  },
  {
   "cell_type": "code",
   "execution_count": null,
   "id": "675b3071-25eb-4067-a07f-98a951cdc5c0",
   "metadata": {},
   "outputs": [],
   "source": [
    "def function_with_many_named_args(second_arg:str=None,_arg:int=None,third_arg:dt.date=None):\n",
    "    \"\"\"a description doc string\"\"\"\n",
    "    return first_arg,second_arg,third_arg"
   ]
  },
  {
   "cell_type": "code",
   "execution_count": null,
   "id": "5ab23934-f41e-4c44-8f2e-0fe006fb4400",
   "metadata": {},
   "outputs": [],
   "source": [
    "@delegates(function_with_many_named_args)\n",
    "def just_one_more(first,**kwargs):\n",
    "\n",
    "    return list(kwargs.values()) + [fourth_arg]"
   ]
  },
  {
   "cell_type": "code",
   "execution_count": null,
   "id": "714f1faf-178d-42db-b997-42eee7d14bd2",
   "metadata": {},
   "outputs": [
    {
     "data": {
      "text/markdown": [
       "<h4 id=\"just_one_more\" class=\"doc_header\"><code>just_one_more</code><a href=\"__main__.py#L1\" class=\"source_link\" style=\"float:right\">[source]</a></h4>\n",
       "\n",
       "> <code>just_one_more</code>(**`first`**, **`second_arg`**:`str`=*`None`*, **`_arg`**:`int`=*`None`*, **`third_arg`**:`date`=*`None`*)\n",
       "\n",
       "doc string from my delegate: `function_with_many_named_args`\n",
       "--------\n",
       "a description doc string"
      ],
      "text/plain": [
       "<IPython.core.display.Markdown object>"
      ]
     },
     "metadata": {},
     "output_type": "display_data"
    }
   ],
   "source": [
    "show_doc(just_one_more)"
   ]
  },
  {
   "cell_type": "code",
   "execution_count": null,
   "id": "b15b717d-06b8-4ae1-9c5b-6c6af98fdb68",
   "metadata": {},
   "outputs": [
    {
     "name": "stdout",
     "output_type": "stream",
     "text": [
      "Converted 00_core.ipynb.\n",
      "Converted 98_utils.ipynb.\n",
      "Converted 99_default_standard_lib.ipynb.\n",
      "Converted core.ipynb.\n",
      "Converted index.ipynb.\n"
     ]
    }
   ],
   "source": [
    "!nbdev_build_lib"
   ]
  }
 ],
 "metadata": {
  "kernelspec": {
   "display_name": "Python [conda env:py39] *",
   "language": "python",
   "name": "conda-env-py39-py"
  }
 },
 "nbformat": 4,
 "nbformat_minor": 5
}

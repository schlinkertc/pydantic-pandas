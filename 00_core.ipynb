{
 "cells": [
  {
   "cell_type": "code",
   "execution_count": null,
   "metadata": {},
   "outputs": [],
   "source": [
    "# default_exp core"
   ]
  },
  {
   "cell_type": "markdown",
   "metadata": {},
   "source": [
    "# pydantic-pandas\n",
    "\n",
    "> API details."
   ]
  },
  {
   "cell_type": "code",
   "execution_count": null,
   "metadata": {},
   "outputs": [],
   "source": [
    "#hide\n",
    "from nbdev.showdoc import *"
   ]
  },
  {
   "cell_type": "code",
   "execution_count": null,
   "metadata": {},
   "outputs": [],
   "source": [
    "#exporti\n",
    "\n",
    "from pandas.core.frame import DataFrame as PandasDataFrame\n",
    "from pydantic import (\n",
    "    validator,\n",
    "    root_validator\n",
    ")\n",
    "from pydantic import BaseModel as PydanticBaseModel\n",
    "from pydantic.main import ModelMetaclass\n",
    "from pydantic_pandas.default_standard_lib import *\n",
    "from pydantic_pandas.utils import delegates\n",
    "from IPython.display import JSON\n",
    "from typing import Any\n",
    "from pandas.api.types import pandas_dtype\n",
    "from pydantic.utils import update_not_none\n",
    "from pydantic import (\n",
    "    root_validator,\n",
    "    ValidationError\n",
    ")"
   ]
  },
  {
   "cell_type": "markdown",
   "metadata": {},
   "source": [
    "## DataFrame"
   ]
  },
  {
   "cell_type": "markdown",
   "metadata": {},
   "source": [
    "> subclass Pandas DataFrame to make it play nicely with pydantic"
   ]
  },
  {
   "cell_type": "code",
   "execution_count": null,
   "metadata": {},
   "outputs": [],
   "source": [
    "#export \n",
    "\n",
    "class DataFrame(PandasDataFrame):\n",
    "    \n",
    "    @classmethod\n",
    "    def __get_validators__(cls):\n",
    "        yield cls.validate\n",
    "    \n",
    "    @classmethod\n",
    "    def __modify_schema__(cls,field_schema):\n",
    "        field_schema.update({'type':'DataFrame'})\n",
    "    \n",
    "    @classmethod\n",
    "    def validate(cls,v):\n",
    "        return cls(v)"
   ]
  },
  {
   "cell_type": "markdown",
   "metadata": {},
   "source": [
    "## Base Model"
   ]
  },
  {
   "cell_type": "markdown",
   "metadata": {},
   "source": [
    "> -  `_repr_json_` for Jupyter display\n",
    "> - json encoders for DataFrame, Array"
   ]
  },
  {
   "cell_type": "code",
   "execution_count": null,
   "metadata": {},
   "outputs": [],
   "source": [
    "#export \n",
    "\n",
    "class BaseModel(PydanticBaseModel):\n",
    "\n",
    "    def _repr_json_(self):\n",
    "        try:\n",
    "            return json.loads(self.json())\n",
    "        except:\n",
    "            pass\n",
    "            \n",
    "    class Config:\n",
    "        json_encoders = {\n",
    "            DataFrame: lambda df: json.loads(df.to_json()),\n",
    "            np.ndarray: lambda arr: arr.tolist(),\n",
    "            pd.Series: lambda ser: json.loads(ser.to_json(date_format='iso'))\n",
    "        }\n",
    "        "
   ]
  },
  {
   "cell_type": "markdown",
   "metadata": {},
   "source": [
    "#### Regular Model"
   ]
  },
  {
   "cell_type": "code",
   "execution_count": null,
   "metadata": {},
   "outputs": [],
   "source": [
    "class Model(BaseModel):\n",
    "    integer: int\n",
    "    string: str"
   ]
  },
  {
   "cell_type": "code",
   "execution_count": null,
   "metadata": {},
   "outputs": [
    {
     "data": {
      "application/json": {
       "integer": 1,
       "string": "a"
      },
      "text/plain": [
       "Model(integer=1, string='a')"
      ]
     },
     "execution_count": null,
     "metadata": {},
     "output_type": "execute_result"
    }
   ],
   "source": [
    "Model(integer=1,string='a')"
   ]
  },
  {
   "cell_type": "markdown",
   "metadata": {},
   "source": [
    "#### Model with a DataFrame"
   ]
  },
  {
   "cell_type": "code",
   "execution_count": null,
   "metadata": {},
   "outputs": [
    {
     "data": {
      "application/json": {
       "df": {
        "a": {
         "0": 1,
         "1": 2,
         "2": 3
        }
       }
      },
      "text/plain": [
       "Model(df=   a\n",
       "0  1\n",
       "1  2\n",
       "2  3)"
      ]
     },
     "execution_count": null,
     "metadata": {},
     "output_type": "execute_result"
    }
   ],
   "source": [
    "class Model(BaseModel):\n",
    "    df: DataFrame\n",
    "Model(df = pd.DataFrame({'a':[1,2,3]}))"
   ]
  },
  {
   "cell_type": "code",
   "execution_count": null,
   "metadata": {},
   "outputs": [
    {
     "data": {
      "text/plain": [
       "{'title': 'Model',\n",
       " 'type': 'object',\n",
       " 'properties': {'df': {'title': 'Df', 'type': 'DataFrame'}},\n",
       " 'required': ['df']}"
      ]
     },
     "execution_count": null,
     "metadata": {},
     "output_type": "execute_result"
    }
   ],
   "source": [
    "Model.schema()"
   ]
  },
  {
   "cell_type": "markdown",
   "metadata": {},
   "source": [
    "## TypedArray"
   ]
  },
  {
   "cell_type": "code",
   "execution_count": null,
   "metadata": {},
   "outputs": [
    {
     "name": "stderr",
     "output_type": "stream",
     "text": [
      "<ipython-input-48-4c5edebb5a2b>:2: DeprecationWarning: Numeric-style type codes are deprecated and will result in an error in the future.\n",
      "  _key_completions_ = list({np.dtype(k).name for k in np.typeDict.keys() if type(k)==str})\n"
     ]
    }
   ],
   "source": [
    "#exporti\n",
    "_key_completions_ = list({np.dtype(k).name for k in np.typeDict.keys() if type(k)==str})"
   ]
  },
  {
   "cell_type": "code",
   "execution_count": null,
   "metadata": {},
   "outputs": [],
   "source": [
    "#export \n",
    "\n",
    "class TypedArray(pd.Series):\n",
    "    dtype: Any = np.object_\n",
    "        \n",
    "    @classmethod\n",
    "    def __get_validators__(cls):\n",
    "\n",
    "        yield cls.validate_array\n",
    "    \n",
    "    @classmethod\n",
    "    def __modify_schema__(cls, field_schema: Dict[str, Any]) -> None:\n",
    "\n",
    "        update_not_none(\n",
    "            field_schema,\n",
    "            type='Numpy Array',\n",
    "            inner_type = cls.dtype\n",
    "        )\n",
    "    \n",
    "    @classmethod\n",
    "    def validate_array(cls, array):\n",
    "        dtype = cls.dtype\n",
    "        \n",
    "        if dtype == dt.date or dtype==dt.datetime or dtype=='datetime64':\n",
    "            dtype = pandas_dtype('datetime64[ns]')\n",
    "            \n",
    "        return pd.Series(array,dtype=pandas_dtype(dtype))\n",
    "\n",
    "\n",
    "#exporti\n",
    "\n",
    "class ArrayMeta(type):\n",
    "    def _ipython_key_completions_(self):\n",
    "        return _key_completions_\n",
    "    \n",
    "    def __getitem__(self, dtype):\n",
    "\n",
    "        return type('ConstrainedArray', (TypedArray,), {'dtype': dtype})\n",
    "    \n",
    "\n",
    "#exporti \n",
    "\n",
    "class ConstrainedArray(DataFrame, metaclass=ArrayMeta):\n",
    "    pass"
   ]
  },
  {
   "cell_type": "code",
   "execution_count": null,
   "metadata": {},
   "outputs": [],
   "source": [
    "class Model(BaseModel):\n",
    "    string: ConstrainedArray[str]\n",
    "    date: ConstrainedArray[dt.date]\n",
    "    number: ConstrainedArray[int]"
   ]
  },
  {
   "cell_type": "code",
   "execution_count": null,
   "metadata": {},
   "outputs": [
    {
     "data": {
      "application/json": {
       "date": {
        "0": "1994-06-01T00:00:00.000Z"
       },
       "number": {
        "0": 1,
        "1": 2,
        "2": 3
       },
       "string": {
        "0": "a",
        "1": "b",
        "2": "c"
       }
      },
      "text/plain": [
       "Model(string=0    a\n",
       "1    b\n",
       "2    c\n",
       "dtype: object, date=0   1994-06-01\n",
       "dtype: datetime64[ns], number=0    1\n",
       "1    2\n",
       "2    3\n",
       "dtype: int64)"
      ]
     },
     "execution_count": null,
     "metadata": {},
     "output_type": "execute_result"
    }
   ],
   "source": [
    "model = Model(\n",
    "    string=['a','b','c'],\n",
    "    number=[1,2,3],\n",
    "    date=['1994-06-01']\n",
    ")\n",
    "model"
   ]
  },
  {
   "cell_type": "code",
   "execution_count": null,
   "metadata": {},
   "outputs": [
    {
     "data": {
      "text/html": [
       "<div>\n",
       "<style scoped>\n",
       "    .dataframe tbody tr th:only-of-type {\n",
       "        vertical-align: middle;\n",
       "    }\n",
       "\n",
       "    .dataframe tbody tr th {\n",
       "        vertical-align: top;\n",
       "    }\n",
       "\n",
       "    .dataframe thead th {\n",
       "        text-align: right;\n",
       "    }\n",
       "</style>\n",
       "<table border=\"1\" class=\"dataframe\">\n",
       "  <thead>\n",
       "    <tr style=\"text-align: right;\">\n",
       "      <th></th>\n",
       "      <th>string</th>\n",
       "      <th>date</th>\n",
       "      <th>number</th>\n",
       "    </tr>\n",
       "  </thead>\n",
       "  <tbody>\n",
       "    <tr>\n",
       "      <th>0</th>\n",
       "      <td>a</td>\n",
       "      <td>1994-06-01</td>\n",
       "      <td>1</td>\n",
       "    </tr>\n",
       "    <tr>\n",
       "      <th>1</th>\n",
       "      <td>b</td>\n",
       "      <td>NaT</td>\n",
       "      <td>2</td>\n",
       "    </tr>\n",
       "    <tr>\n",
       "      <th>2</th>\n",
       "      <td>c</td>\n",
       "      <td>NaT</td>\n",
       "      <td>3</td>\n",
       "    </tr>\n",
       "  </tbody>\n",
       "</table>\n",
       "</div>"
      ],
      "text/plain": [
       "  string       date  number\n",
       "0      a 1994-06-01       1\n",
       "1      b        NaT       2\n",
       "2      c        NaT       3"
      ]
     },
     "execution_count": null,
     "metadata": {},
     "output_type": "execute_result"
    }
   ],
   "source": [
    "pd.DataFrame(model.dict())"
   ]
  },
  {
   "cell_type": "markdown",
   "metadata": {},
   "source": [
    "## Base Frame to add validation to the whole model"
   ]
  },
  {
   "cell_type": "code",
   "execution_count": null,
   "metadata": {},
   "outputs": [],
   "source": [
    "#export\n",
    "\n",
    "class BaseFrame(BaseModel):\n",
    "    index: Any = None\n",
    "    \n",
    "#     class Config:\n",
    "#         allow_population_by_field_name = True\n",
    "    @root_validator\n",
    "    def validate_nan(cls,values):\n",
    "        df = pd.DataFrame(\n",
    "            index= values.pop('index'),\n",
    "            data=values,\n",
    "            \n",
    "        )\n",
    "\n",
    "        for column,field in cls.__fields__.items():\n",
    "            if field.required:\n",
    "                assert df[column].isna().sum() == 0, f\"required column {column} has nan values\"\n",
    "            elif field.default:\n",
    "                df[column] = df[column].fillna(value = field.default)\n",
    "        return df.reset_index().to_dict()\n",
    "    @property\n",
    "    def df(self):\n",
    "        return pd.DataFrame(\n",
    "            index=self.index,\n",
    "            data = self.dict(exclude={'index'})\n",
    "        )"
   ]
  },
  {
   "cell_type": "code",
   "execution_count": null,
   "metadata": {},
   "outputs": [],
   "source": [
    "from pydantic import Field\n",
    "\n",
    "class Model(BaseFrame):\n",
    "    string: ConstrainedArray[str] = Field('default')\n",
    "    date: ConstrainedArray[dt.date] = Field(None,description='a required date field')\n",
    "    number: ConstrainedArray[int] = None"
   ]
  },
  {
   "cell_type": "code",
   "execution_count": null,
   "metadata": {},
   "outputs": [],
   "source": [
    "m = Model(\n",
    "    index = [0,1],\n",
    "    string = ['a','b'],\n",
    "    date = ['1994-06-01',dt.date.today()],\n",
    "    number = [1,2]\n",
    ")"
   ]
  },
  {
   "cell_type": "markdown",
   "metadata": {},
   "source": [
    "#### What about Aliases?"
   ]
  },
  {
   "cell_type": "code",
   "execution_count": null,
   "metadata": {},
   "outputs": [],
   "source": [
    "class Model(BaseFrame):\n",
    "    string:ConstrainedArray[str] = Field(alias='String Column')\n",
    "    numbers:ConstrainedArray[int] = Field(alias='Number Column')"
   ]
  },
  {
   "cell_type": "code",
   "execution_count": null,
   "metadata": {},
   "outputs": [
    {
     "data": {
      "text/html": [
       "<div>\n",
       "<style scoped>\n",
       "    .dataframe tbody tr th:only-of-type {\n",
       "        vertical-align: middle;\n",
       "    }\n",
       "\n",
       "    .dataframe tbody tr th {\n",
       "        vertical-align: top;\n",
       "    }\n",
       "\n",
       "    .dataframe thead th {\n",
       "        text-align: right;\n",
       "    }\n",
       "</style>\n",
       "<table border=\"1\" class=\"dataframe\">\n",
       "  <thead>\n",
       "    <tr style=\"text-align: right;\">\n",
       "      <th></th>\n",
       "      <th>string</th>\n",
       "      <th>numbers</th>\n",
       "    </tr>\n",
       "  </thead>\n",
       "  <tbody>\n",
       "    <tr>\n",
       "      <th>0</th>\n",
       "      <td>a</td>\n",
       "      <td>1</td>\n",
       "    </tr>\n",
       "    <tr>\n",
       "      <th>1</th>\n",
       "      <td>b</td>\n",
       "      <td>2</td>\n",
       "    </tr>\n",
       "    <tr>\n",
       "      <th>2</th>\n",
       "      <td>c</td>\n",
       "      <td>3</td>\n",
       "    </tr>\n",
       "  </tbody>\n",
       "</table>\n",
       "</div>"
      ],
      "text/plain": [
       "  string  numbers\n",
       "0      a        1\n",
       "1      b        2\n",
       "2      c        3"
      ]
     },
     "execution_count": null,
     "metadata": {},
     "output_type": "execute_result"
    }
   ],
   "source": [
    "model = Model.parse_obj({\n",
    "    \"String Column\":['a','b','c'],\n",
    "    \"Number Column\":[1,2,3]\n",
    "}\n",
    ")\n",
    "model.df"
   ]
  },
  {
   "cell_type": "code",
   "execution_count": null,
   "metadata": {},
   "outputs": [
    {
     "data": {
      "text/html": [
       "<div>\n",
       "<style scoped>\n",
       "    .dataframe tbody tr th:only-of-type {\n",
       "        vertical-align: middle;\n",
       "    }\n",
       "\n",
       "    .dataframe tbody tr th {\n",
       "        vertical-align: top;\n",
       "    }\n",
       "\n",
       "    .dataframe thead th {\n",
       "        text-align: right;\n",
       "    }\n",
       "</style>\n",
       "<table border=\"1\" class=\"dataframe\">\n",
       "  <thead>\n",
       "    <tr style=\"text-align: right;\">\n",
       "      <th></th>\n",
       "      <th>index</th>\n",
       "      <th>String Column</th>\n",
       "      <th>Number Column</th>\n",
       "    </tr>\n",
       "  </thead>\n",
       "  <tbody>\n",
       "    <tr>\n",
       "      <th>0</th>\n",
       "      <td>0</td>\n",
       "      <td>a</td>\n",
       "      <td>1</td>\n",
       "    </tr>\n",
       "    <tr>\n",
       "      <th>1</th>\n",
       "      <td>1</td>\n",
       "      <td>b</td>\n",
       "      <td>2</td>\n",
       "    </tr>\n",
       "    <tr>\n",
       "      <th>2</th>\n",
       "      <td>2</td>\n",
       "      <td>c</td>\n",
       "      <td>3</td>\n",
       "    </tr>\n",
       "  </tbody>\n",
       "</table>\n",
       "</div>"
      ],
      "text/plain": [
       "   index String Column  Number Column\n",
       "0      0             a              1\n",
       "1      1             b              2\n",
       "2      2             c              3"
      ]
     },
     "execution_count": null,
     "metadata": {},
     "output_type": "execute_result"
    }
   ],
   "source": [
    "df = pd.DataFrame(model.dict(by_alias=True))\n",
    "df"
   ]
  },
  {
   "cell_type": "code",
   "execution_count": null,
   "metadata": {},
   "outputs": [
    {
     "data": {
      "application/json": {
       "index": {
        "0": 0,
        "1": 1,
        "2": 2
       },
       "numbers": {
        "0": 1,
        "1": 2,
        "2": 3
       },
       "string": {
        "0": "a",
        "1": "b",
        "2": "c"
       }
      },
      "text/plain": [
       "Model(index={0: 0, 1: 1, 2: 2}, string={0: 'a', 1: 'b', 2: 'c'}, numbers={0: 1, 1: 2, 2: 3})"
      ]
     },
     "execution_count": null,
     "metadata": {},
     "output_type": "execute_result"
    }
   ],
   "source": [
    "Model.parse_obj(df)"
   ]
  },
  {
   "cell_type": "markdown",
   "metadata": {},
   "source": [
    "### Validators"
   ]
  },
  {
   "cell_type": "code",
   "execution_count": null,
   "metadata": {},
   "outputs": [],
   "source": [
    "from pydantic import validator\n",
    "\n",
    "class Model(BaseFrame):\n",
    "    numbers: ConstrainedArray[int]\n",
    "    fizz: bool = None\n",
    "    buzz: bool = None\n",
    "    fizz_buzz: bool = None\n",
    "    \n",
    "    @validator('fizz',always=True)\n",
    "    def _is_fizz(cls,v,values):\n",
    "        return values['numbers'].apply(lambda x: x%3==0)\n",
    "    \n",
    "    @validator('buzz',always=True)\n",
    "    def _is_buzz(cls,v,values):\n",
    "        return values['numbers'].apply(lambda x: x%5==0)\n",
    "    \n",
    "    @validator('fizz_buzz',always=True)\n",
    "    def _is_fizz_buzz(cls,v,values):\n",
    "        return pd.DataFrame([values['fizz'],values['buzz']]).sum(axis=0)==2\n",
    "    "
   ]
  },
  {
   "cell_type": "code",
   "execution_count": null,
   "metadata": {},
   "outputs": [
    {
     "data": {
      "text/html": [
       "<div>\n",
       "<style scoped>\n",
       "    .dataframe tbody tr th:only-of-type {\n",
       "        vertical-align: middle;\n",
       "    }\n",
       "\n",
       "    .dataframe tbody tr th {\n",
       "        vertical-align: top;\n",
       "    }\n",
       "\n",
       "    .dataframe thead th {\n",
       "        text-align: right;\n",
       "    }\n",
       "</style>\n",
       "<table border=\"1\" class=\"dataframe\">\n",
       "  <thead>\n",
       "    <tr style=\"text-align: right;\">\n",
       "      <th></th>\n",
       "      <th>numbers</th>\n",
       "      <th>fizz</th>\n",
       "      <th>buzz</th>\n",
       "      <th>fizz_buzz</th>\n",
       "    </tr>\n",
       "  </thead>\n",
       "  <tbody>\n",
       "    <tr>\n",
       "      <th>0</th>\n",
       "      <td>1</td>\n",
       "      <td>False</td>\n",
       "      <td>False</td>\n",
       "      <td>False</td>\n",
       "    </tr>\n",
       "    <tr>\n",
       "      <th>1</th>\n",
       "      <td>2</td>\n",
       "      <td>False</td>\n",
       "      <td>False</td>\n",
       "      <td>False</td>\n",
       "    </tr>\n",
       "    <tr>\n",
       "      <th>2</th>\n",
       "      <td>3</td>\n",
       "      <td>True</td>\n",
       "      <td>False</td>\n",
       "      <td>False</td>\n",
       "    </tr>\n",
       "    <tr>\n",
       "      <th>3</th>\n",
       "      <td>4</td>\n",
       "      <td>False</td>\n",
       "      <td>False</td>\n",
       "      <td>False</td>\n",
       "    </tr>\n",
       "    <tr>\n",
       "      <th>4</th>\n",
       "      <td>5</td>\n",
       "      <td>False</td>\n",
       "      <td>True</td>\n",
       "      <td>False</td>\n",
       "    </tr>\n",
       "  </tbody>\n",
       "</table>\n",
       "</div>"
      ],
      "text/plain": [
       "   numbers   fizz   buzz  fizz_buzz\n",
       "0        1  False  False      False\n",
       "1        2  False  False      False\n",
       "2        3   True  False      False\n",
       "3        4  False  False      False\n",
       "4        5  False   True      False"
      ]
     },
     "execution_count": null,
     "metadata": {},
     "output_type": "execute_result"
    }
   ],
   "source": [
    "df = Model(numbers=range(1,100)).df\n",
    "df.head()"
   ]
  },
  {
   "cell_type": "code",
   "execution_count": null,
   "metadata": {},
   "outputs": [
    {
     "data": {
      "text/plain": [
       "numbers        15\n",
       "fizz         True\n",
       "buzz         True\n",
       "fizz_buzz    True\n",
       "Name: 14, dtype: object"
      ]
     },
     "execution_count": null,
     "metadata": {},
     "output_type": "execute_result"
    }
   ],
   "source": [
    "df.iloc[14]"
   ]
  },
  {
   "cell_type": "code",
   "execution_count": null,
   "metadata": {},
   "outputs": [],
   "source": [
    "class Model(BaseFrame):\n",
    "    numbers: ConstrainedArray[int]\n",
    "    sum: ConstrainedArray[int] = None\n",
    "    \n",
    "    @validator('sum',always=True)\n",
    "    def sum_numbers(cls,v,values):\n",
    "        return values['numbers'].sum()"
   ]
  },
  {
   "cell_type": "code",
   "execution_count": null,
   "metadata": {},
   "outputs": [
    {
     "data": {
      "text/plain": [
       "numbers     6\n",
       "sum        18\n",
       "dtype: int64"
      ]
     },
     "execution_count": null,
     "metadata": {},
     "output_type": "execute_result"
    }
   ],
   "source": [
    "Model(numbers=[1,2,3]).df.sum()"
   ]
  },
  {
   "cell_type": "markdown",
   "metadata": {},
   "source": [
    "### Delegate pandas functions to create custom fields"
   ]
  },
  {
   "cell_type": "code",
   "execution_count": null,
   "metadata": {},
   "outputs": [],
   "source": [
    "from pydantic_pandas.utils import delegates"
   ]
  },
  {
   "cell_type": "code",
   "execution_count": null,
   "metadata": {},
   "outputs": [],
   "source": [
    "class PandasDateTime():\n",
    "    kwargs:dict = {}\n",
    "    \n",
    "    @classmethod\n",
    "    def __get_validators__(cls):\n",
    "        yield cls._to_datetime\n",
    "\n",
    "    @classmethod\n",
    "    def _to_datetime(cls,array):\n",
    "        return pd.to_datetime(array,**cls.kwargs)\n",
    "\n",
    "class PandasNumeric():\n",
    "    kwargs:dict = {}\n",
    "    \n",
    "    @classmethod\n",
    "    def __get_validators__(cls):\n",
    "        yield cls._to_numeric\n",
    "\n",
    "    @classmethod\n",
    "    def _to_numeric(cls,array):\n",
    "        return pd.to_numeric(array,**cls.kwargs)\n"
   ]
  },
  {
   "cell_type": "code",
   "execution_count": null,
   "metadata": {},
   "outputs": [],
   "source": [
    "\n",
    "@delegates(pd.to_datetime)\n",
    "def pandas_datetime(default_value=...,**kwargs):\n",
    "    return type('PandasDateTimeType', (PandasDateTime,), {'kwargs':kwargs})\n",
    "\n",
    "@delegates(pd.to_numeric)\n",
    "def pandas_numeric(default_value=...,**kwargs):\n",
    "    return type('PandasNumericType', (PandasNumeric,), {'kwargs':kwargs})"
   ]
  },
  {
   "cell_type": "code",
   "execution_count": null,
   "metadata": {},
   "outputs": [],
   "source": [
    "class Model(BaseFrame):\n",
    "    date: pandas_datetime(errors='coerce') = None\n",
    "    numbers: pandas_numeric()"
   ]
  },
  {
   "cell_type": "code",
   "execution_count": null,
   "metadata": {},
   "outputs": [
    {
     "data": {
      "application/json": {
       "date": {
        "0": "1994-06-01T00:00:00",
        "1": "NaT"
       },
       "index": {
        "0": 0,
        "1": 1
       },
       "numbers": {
        "0": 0.1111111111111111,
        "1": 2.718281828459045
       }
      },
      "text/plain": [
       "Model(index={0: 0, 1: 1}, date={0: Timestamp('1994-06-01 00:00:00'), 1: NaT}, numbers={0: 0.1111111111111111, 1: 2.718281828459045})"
      ]
     },
     "execution_count": null,
     "metadata": {},
     "output_type": "execute_result"
    }
   ],
   "source": [
    "Model(\n",
    "    date=['1994-06-01','error'],\n",
    "    numbers = [1/9,np.e],\n",
    "    other_numbers = [1/9,np.e],\n",
    ")"
   ]
  },
  {
   "cell_type": "markdown",
   "metadata": {},
   "source": [
    "### Example uses for `RecordFrame`"
   ]
  },
  {
   "cell_type": "markdown",
   "metadata": {},
   "source": [
    "#### DataFrames as Model Attributes"
   ]
  },
  {
   "cell_type": "code",
   "execution_count": null,
   "metadata": {},
   "outputs": [
    {
     "name": "stdout",
     "output_type": "stream",
     "text": [
      "float64\n"
     ]
    }
   ],
   "source": [
    "from pydantic_pandas.row_model import *\n",
    "\n",
    "df = pd.DataFrame(\n",
    "    {\"metric\":['a','b','c'],\n",
    "     \"value\":[1,2,'3']\n",
    "    }\n",
    ")\n",
    "\n",
    "class Record(BaseModel):\n",
    "    metric: str\n",
    "    value: float\n",
    "    not_there: Optional[str]\n",
    "\n",
    "class Model(BaseModel):\n",
    "    # a dataframe that is validated using a row model\n",
    "    validate_with_model: RecordFrame[Record]\n",
    "    #validate_with_columns: RecordFrame['metric','value']\n",
    "    validate_with_conframe: DataFrame = recordframe(\n",
    "        row_model=Record\n",
    "    )\n",
    "\n",
    "model = Model(\n",
    "    validate_with_columns=df,\n",
    "    validate_with_model=df,\n",
    "    validate_with_conframe=df\n",
    ")\n",
    "print(model.validate_with_model.dtypes['value']) # the `Record` Model parse input values into floats"
   ]
  },
  {
   "cell_type": "code",
   "execution_count": null,
   "metadata": {},
   "outputs": [
    {
     "data": {
      "text/plain": [
       "Model(validate_with_model=  metric  value not_there\n",
       "0      a    1.0      None\n",
       "1      b    2.0      None\n",
       "2      c    3.0      None)"
      ]
     },
     "execution_count": null,
     "metadata": {},
     "output_type": "execute_result"
    }
   ],
   "source": [
    "model"
   ]
  },
  {
   "cell_type": "markdown",
   "metadata": {},
   "source": [
    "#### Usage with Validate Agruments Decorator"
   ]
  },
  {
   "cell_type": "code",
   "execution_count": null,
   "metadata": {},
   "outputs": [],
   "source": [
    "from pydantic import validate_arguments,Field\n",
    "\n",
    "@record_model\n",
    "class PlayerBattingStats(BaseModel):\n",
    "    player: str = Field(alias='PLAYER')\n",
    "    at_bats: int = Field(alias='AB')\n",
    "    games: int = Field(alias='G')\n",
    "    home_runs: int = Field(alias='HR')\n",
    "    \n",
    "    class Config:\n",
    "        on_errors = 'skip'"
   ]
  },
  {
   "cell_type": "code",
   "execution_count": null,
   "metadata": {},
   "outputs": [],
   "source": [
    "@validate_arguments\n",
    "def compute_hr_per_game(df:PlayerBattingStats,precision=3):\n",
    "    df['batting_average'] = (df['home_runs']/df['games']).round(precision)\n",
    "    return df"
   ]
  },
  {
   "cell_type": "markdown",
   "metadata": {},
   "source": [
    "This is our raw DataFrame."
   ]
  },
  {
   "cell_type": "code",
   "execution_count": null,
   "metadata": {},
   "outputs": [
    {
     "data": {
      "text/html": [
       "<div>\n",
       "<style scoped>\n",
       "    .dataframe tbody tr th:only-of-type {\n",
       "        vertical-align: middle;\n",
       "    }\n",
       "\n",
       "    .dataframe tbody tr th {\n",
       "        vertical-align: top;\n",
       "    }\n",
       "\n",
       "    .dataframe thead th {\n",
       "        text-align: right;\n",
       "    }\n",
       "</style>\n",
       "<table border=\"1\" class=\"dataframe\">\n",
       "  <thead>\n",
       "    <tr style=\"text-align: right;\">\n",
       "      <th></th>\n",
       "      <th>PLAYER</th>\n",
       "      <th>YRS</th>\n",
       "      <th>G</th>\n",
       "      <th>AB</th>\n",
       "      <th>R</th>\n",
       "      <th>H</th>\n",
       "      <th>2B</th>\n",
       "      <th>3B</th>\n",
       "      <th>HR</th>\n",
       "      <th>RBI</th>\n",
       "      <th>BB</th>\n",
       "      <th>SO</th>\n",
       "      <th>SB</th>\n",
       "      <th>CS</th>\n",
       "      <th>BA</th>\n",
       "    </tr>\n",
       "  </thead>\n",
       "  <tbody>\n",
       "    <tr>\n",
       "      <th>NaN</th>\n",
       "      <td>Babe Ruth</td>\n",
       "      <td>22</td>\n",
       "      <td>2503</td>\n",
       "      <td>8399</td>\n",
       "      <td>2174</td>\n",
       "      <td>2873</td>\n",
       "      <td>506</td>\n",
       "      <td>136</td>\n",
       "      <td>714</td>\n",
       "      <td>1983</td>\n",
       "      <td>2056</td>\n",
       "      <td>1330</td>\n",
       "      <td>123</td>\n",
       "      <td>117</td>\n",
       "      <td>.342</td>\n",
       "    </tr>\n",
       "    <tr>\n",
       "      <th>NaN</th>\n",
       "      <td>PLAYER</td>\n",
       "      <td>YRS</td>\n",
       "      <td>G</td>\n",
       "      <td>AB</td>\n",
       "      <td>R</td>\n",
       "      <td>H</td>\n",
       "      <td>2B</td>\n",
       "      <td>3B</td>\n",
       "      <td>HR</td>\n",
       "      <td>RBI</td>\n",
       "      <td>BB</td>\n",
       "      <td>SO</td>\n",
       "      <td>SB</td>\n",
       "      <td>CS</td>\n",
       "      <td>BA</td>\n",
       "    </tr>\n",
       "    <tr>\n",
       "      <th>11.0</th>\n",
       "      <td>Bill Terry</td>\n",
       "      <td>14</td>\n",
       "      <td>1721</td>\n",
       "      <td>6428</td>\n",
       "      <td>1120</td>\n",
       "      <td>2193</td>\n",
       "      <td>373</td>\n",
       "      <td>112</td>\n",
       "      <td>154</td>\n",
       "      <td>1078</td>\n",
       "      <td>537</td>\n",
       "      <td>449</td>\n",
       "      <td>56</td>\n",
       "      <td>6</td>\n",
       "      <td>.341</td>\n",
       "    </tr>\n",
       "    <tr>\n",
       "      <th>NaN</th>\n",
       "      <td>Pete Browning</td>\n",
       "      <td>13</td>\n",
       "      <td>1183</td>\n",
       "      <td>4820</td>\n",
       "      <td>954</td>\n",
       "      <td>1646</td>\n",
       "      <td>295</td>\n",
       "      <td>85</td>\n",
       "      <td>46</td>\n",
       "      <td>0</td>\n",
       "      <td>466</td>\n",
       "      <td>167</td>\n",
       "      <td>258</td>\n",
       "      <td>0</td>\n",
       "      <td>.341</td>\n",
       "    </tr>\n",
       "    <tr>\n",
       "      <th>NaN</th>\n",
       "      <td>Willie Keeler</td>\n",
       "      <td>19</td>\n",
       "      <td>2123</td>\n",
       "      <td>8591</td>\n",
       "      <td>1719</td>\n",
       "      <td>2932</td>\n",
       "      <td>241</td>\n",
       "      <td>145</td>\n",
       "      <td>33</td>\n",
       "      <td>0</td>\n",
       "      <td>524</td>\n",
       "      <td>36</td>\n",
       "      <td>495</td>\n",
       "      <td>0</td>\n",
       "      <td>.341</td>\n",
       "    </tr>\n",
       "    <tr>\n",
       "      <th>14.0</th>\n",
       "      <td>Lou Gehrig</td>\n",
       "      <td>17</td>\n",
       "      <td>2164</td>\n",
       "      <td>8001</td>\n",
       "      <td>1888</td>\n",
       "      <td>2721</td>\n",
       "      <td>534</td>\n",
       "      <td>163</td>\n",
       "      <td>493</td>\n",
       "      <td>1995</td>\n",
       "      <td>1508</td>\n",
       "      <td>790</td>\n",
       "      <td>102</td>\n",
       "      <td>101</td>\n",
       "      <td>.340</td>\n",
       "    </tr>\n",
       "  </tbody>\n",
       "</table>\n",
       "</div>"
      ],
      "text/plain": [
       "             PLAYER  YRS     G    AB     R     H   2B   3B   HR   RBI    BB  \\\n",
       "NaN       Babe Ruth   22  2503  8399  2174  2873  506  136  714  1983  2056   \n",
       "NaN          PLAYER  YRS     G    AB     R     H   2B   3B   HR   RBI    BB   \n",
       "11.0     Bill Terry   14  1721  6428  1120  2193  373  112  154  1078   537   \n",
       "NaN   Pete Browning   13  1183  4820   954  1646  295   85   46     0   466   \n",
       "NaN   Willie Keeler   19  2123  8591  1719  2932  241  145   33     0   524   \n",
       "14.0     Lou Gehrig   17  2164  8001  1888  2721  534  163  493  1995  1508   \n",
       "\n",
       "        SO   SB   CS    BA  \n",
       "NaN   1330  123  117  .342  \n",
       "NaN     SO   SB   CS    BA  \n",
       "11.0   449   56    6  .341  \n",
       "NaN    167  258    0  .341  \n",
       "NaN     36  495    0  .341  \n",
       "14.0   790  102  101  .340  "
      ]
     },
     "execution_count": null,
     "metadata": {},
     "output_type": "execute_result"
    }
   ],
   "source": [
    "df = pd.read_html(\"https://www.espn.com/mlb/history/leaders\",header=1,index_col=0)[0]\n",
    "df.iloc[9:15]"
   ]
  },
  {
   "cell_type": "markdown",
   "metadata": {},
   "source": [
    "Some headers are mixed into the table and yield bad data. Those rows are removed during validation because they don't conform to the row model."
   ]
  },
  {
   "cell_type": "code",
   "execution_count": null,
   "metadata": {},
   "outputs": [
    {
     "data": {
      "text/html": [
       "<div>\n",
       "<style scoped>\n",
       "    .dataframe tbody tr th:only-of-type {\n",
       "        vertical-align: middle;\n",
       "    }\n",
       "\n",
       "    .dataframe tbody tr th {\n",
       "        vertical-align: top;\n",
       "    }\n",
       "\n",
       "    .dataframe thead th {\n",
       "        text-align: right;\n",
       "    }\n",
       "</style>\n",
       "<table border=\"1\" class=\"dataframe\">\n",
       "  <thead>\n",
       "    <tr style=\"text-align: right;\">\n",
       "      <th></th>\n",
       "      <th>player</th>\n",
       "      <th>at_bats</th>\n",
       "      <th>games</th>\n",
       "      <th>home_runs</th>\n",
       "      <th>batting_average</th>\n",
       "    </tr>\n",
       "  </thead>\n",
       "  <tbody>\n",
       "    <tr>\n",
       "      <th>9</th>\n",
       "      <td>Babe Ruth</td>\n",
       "      <td>8399</td>\n",
       "      <td>2503</td>\n",
       "      <td>714</td>\n",
       "      <td>0.285</td>\n",
       "    </tr>\n",
       "    <tr>\n",
       "      <th>10</th>\n",
       "      <td>Bill Terry</td>\n",
       "      <td>6428</td>\n",
       "      <td>1721</td>\n",
       "      <td>154</td>\n",
       "      <td>0.089</td>\n",
       "    </tr>\n",
       "    <tr>\n",
       "      <th>11</th>\n",
       "      <td>Pete Browning</td>\n",
       "      <td>4820</td>\n",
       "      <td>1183</td>\n",
       "      <td>46</td>\n",
       "      <td>0.039</td>\n",
       "    </tr>\n",
       "    <tr>\n",
       "      <th>12</th>\n",
       "      <td>Willie Keeler</td>\n",
       "      <td>8591</td>\n",
       "      <td>2123</td>\n",
       "      <td>33</td>\n",
       "      <td>0.016</td>\n",
       "    </tr>\n",
       "    <tr>\n",
       "      <th>13</th>\n",
       "      <td>Lou Gehrig</td>\n",
       "      <td>8001</td>\n",
       "      <td>2164</td>\n",
       "      <td>493</td>\n",
       "      <td>0.228</td>\n",
       "    </tr>\n",
       "    <tr>\n",
       "      <th>14</th>\n",
       "      <td>George Sisler</td>\n",
       "      <td>8267</td>\n",
       "      <td>2055</td>\n",
       "      <td>102</td>\n",
       "      <td>0.050</td>\n",
       "    </tr>\n",
       "  </tbody>\n",
       "</table>\n",
       "</div>"
      ],
      "text/plain": [
       "           player  at_bats  games  home_runs  batting_average\n",
       "9       Babe Ruth     8399   2503        714            0.285\n",
       "10     Bill Terry     6428   1721        154            0.089\n",
       "11  Pete Browning     4820   1183         46            0.039\n",
       "12  Willie Keeler     8591   2123         33            0.016\n",
       "13     Lou Gehrig     8001   2164        493            0.228\n",
       "14  George Sisler     8267   2055        102            0.050"
      ]
     },
     "execution_count": null,
     "metadata": {},
     "output_type": "execute_result"
    }
   ],
   "source": [
    "compute_hr_per_game(df).iloc[9:15]"
   ]
  },
  {
   "cell_type": "code",
   "execution_count": null,
   "metadata": {},
   "outputs": [],
   "source": [
    "from pydantic import HttpUrl,validator\n",
    "\n",
    "@record_model\n",
    "class BattingLeaderRecord(BaseModel):\n",
    "    rank: int = Field(alias='RK')\n",
    "    Name: str\n",
    "    AVG: float\n",
    "        \n",
    "    @validator('Name')\n",
    "    def _remove_team_from_name(cls,v):\n",
    "        \"\"\"remove the last 3 letters from the name column\"\"\"\n",
    "        return v[0:-3]"
   ]
  },
  {
   "cell_type": "code",
   "execution_count": null,
   "metadata": {},
   "outputs": [],
   "source": [
    "class BattingAverageLeaders(BaseModel):\n",
    "    url: HttpUrl = \"https://www.espn.com/mlb/stats/player/_/view/batting/table/batting/sort/avg/dir/desc\"\n",
    "    raw_data: DataFrame\n",
    "    normalized_data: BattingLeaderRecord\n",
    "    timestamp:dt.date=Field(\n",
    "        default_factory=lambda: dt.date.today()\n",
    "    )\n",
    "    \n",
    "    def __init__(\n",
    "        self,\n",
    "        url = \"https://www.espn.com/mlb/stats/player/_/view/batting/table/batting/sort/avg/dir/desc\",\n",
    "    ):\n",
    "        raw_data = pd.concat(pd.read_html(url)[0:2],axis=1)\n",
    "        super().__init__(\n",
    "            raw_data=raw_data,\n",
    "            normalized_data=raw_data\n",
    "        )\n",
    "        \n",
    "        "
   ]
  },
  {
   "cell_type": "code",
   "execution_count": null,
   "metadata": {},
   "outputs": [
    {
     "data": {
      "text/html": [
       "<div>\n",
       "<style scoped>\n",
       "    .dataframe tbody tr th:only-of-type {\n",
       "        vertical-align: middle;\n",
       "    }\n",
       "\n",
       "    .dataframe tbody tr th {\n",
       "        vertical-align: top;\n",
       "    }\n",
       "\n",
       "    .dataframe thead th {\n",
       "        text-align: right;\n",
       "    }\n",
       "</style>\n",
       "<table border=\"1\" class=\"dataframe\">\n",
       "  <thead>\n",
       "    <tr style=\"text-align: right;\">\n",
       "      <th></th>\n",
       "      <th>RK</th>\n",
       "      <th>Name</th>\n",
       "      <th>POS</th>\n",
       "      <th>GP</th>\n",
       "      <th>AB</th>\n",
       "      <th>R</th>\n",
       "      <th>H</th>\n",
       "      <th>AVG</th>\n",
       "      <th>2B</th>\n",
       "      <th>3B</th>\n",
       "      <th>HR</th>\n",
       "      <th>RBI</th>\n",
       "      <th>TB</th>\n",
       "      <th>BB</th>\n",
       "      <th>K</th>\n",
       "      <th>SB</th>\n",
       "      <th>OBP</th>\n",
       "      <th>SLG</th>\n",
       "      <th>OPS</th>\n",
       "      <th>WAR</th>\n",
       "    </tr>\n",
       "  </thead>\n",
       "  <tbody>\n",
       "    <tr>\n",
       "      <th>0</th>\n",
       "      <td>1</td>\n",
       "      <td>Giancarlo StantonNYY</td>\n",
       "      <td>DH</td>\n",
       "      <td>1</td>\n",
       "      <td>4</td>\n",
       "      <td>1</td>\n",
       "      <td>3</td>\n",
       "      <td>0.750</td>\n",
       "      <td>0</td>\n",
       "      <td>0</td>\n",
       "      <td>1</td>\n",
       "      <td>1</td>\n",
       "      <td>6</td>\n",
       "      <td>0</td>\n",
       "      <td>1</td>\n",
       "      <td>0</td>\n",
       "      <td>0.750</td>\n",
       "      <td>1.500</td>\n",
       "      <td>2.250</td>\n",
       "      <td>0.0</td>\n",
       "    </tr>\n",
       "    <tr>\n",
       "      <th>1</th>\n",
       "      <td>2</td>\n",
       "      <td>Tommy EdmanSTL</td>\n",
       "      <td>2B</td>\n",
       "      <td>1</td>\n",
       "      <td>5</td>\n",
       "      <td>1</td>\n",
       "      <td>3</td>\n",
       "      <td>0.600</td>\n",
       "      <td>0</td>\n",
       "      <td>0</td>\n",
       "      <td>0</td>\n",
       "      <td>0</td>\n",
       "      <td>3</td>\n",
       "      <td>0</td>\n",
       "      <td>1</td>\n",
       "      <td>2</td>\n",
       "      <td>0.600</td>\n",
       "      <td>0.600</td>\n",
       "      <td>1.200</td>\n",
       "      <td>0.0</td>\n",
       "    </tr>\n",
       "    <tr>\n",
       "      <th>2</th>\n",
       "      <td>3</td>\n",
       "      <td>Kris BryantSF</td>\n",
       "      <td>RF</td>\n",
       "      <td>5</td>\n",
       "      <td>17</td>\n",
       "      <td>1</td>\n",
       "      <td>8</td>\n",
       "      <td>0.471</td>\n",
       "      <td>0</td>\n",
       "      <td>0</td>\n",
       "      <td>1</td>\n",
       "      <td>2</td>\n",
       "      <td>11</td>\n",
       "      <td>1</td>\n",
       "      <td>3</td>\n",
       "      <td>0</td>\n",
       "      <td>0.500</td>\n",
       "      <td>0.647</td>\n",
       "      <td>1.147</td>\n",
       "      <td>0.0</td>\n",
       "    </tr>\n",
       "    <tr>\n",
       "      <th>3</th>\n",
       "      <td>4</td>\n",
       "      <td>Luis RobertCHW</td>\n",
       "      <td>CF</td>\n",
       "      <td>4</td>\n",
       "      <td>15</td>\n",
       "      <td>4</td>\n",
       "      <td>7</td>\n",
       "      <td>0.467</td>\n",
       "      <td>0</td>\n",
       "      <td>0</td>\n",
       "      <td>0</td>\n",
       "      <td>1</td>\n",
       "      <td>7</td>\n",
       "      <td>2</td>\n",
       "      <td>2</td>\n",
       "      <td>0</td>\n",
       "      <td>0.556</td>\n",
       "      <td>0.467</td>\n",
       "      <td>1.022</td>\n",
       "      <td>0.0</td>\n",
       "    </tr>\n",
       "    <tr>\n",
       "      <th>4</th>\n",
       "      <td>5</td>\n",
       "      <td>Enrique HernandezBOS</td>\n",
       "      <td>CF</td>\n",
       "      <td>11</td>\n",
       "      <td>49</td>\n",
       "      <td>9</td>\n",
       "      <td>20</td>\n",
       "      <td>0.408</td>\n",
       "      <td>4</td>\n",
       "      <td>1</td>\n",
       "      <td>5</td>\n",
       "      <td>9</td>\n",
       "      <td>41</td>\n",
       "      <td>1</td>\n",
       "      <td>6</td>\n",
       "      <td>0</td>\n",
       "      <td>0.423</td>\n",
       "      <td>0.837</td>\n",
       "      <td>1.260</td>\n",
       "      <td>0.0</td>\n",
       "    </tr>\n",
       "  </tbody>\n",
       "</table>\n",
       "</div>"
      ],
      "text/plain": [
       "   RK                  Name POS  GP  AB  R   H    AVG  2B  3B  HR  RBI  TB  \\\n",
       "0   1  Giancarlo StantonNYY  DH   1   4  1   3  0.750   0   0   1    1   6   \n",
       "1   2        Tommy EdmanSTL  2B   1   5  1   3  0.600   0   0   0    0   3   \n",
       "2   3         Kris BryantSF  RF   5  17  1   8  0.471   0   0   1    2  11   \n",
       "3   4        Luis RobertCHW  CF   4  15  4   7  0.467   0   0   0    1   7   \n",
       "4   5  Enrique HernandezBOS  CF  11  49  9  20  0.408   4   1   5    9  41   \n",
       "\n",
       "   BB  K  SB    OBP    SLG    OPS  WAR  \n",
       "0   0  1   0  0.750  1.500  2.250  0.0  \n",
       "1   0  1   2  0.600  0.600  1.200  0.0  \n",
       "2   1  3   0  0.500  0.647  1.147  0.0  \n",
       "3   2  2   0  0.556  0.467  1.022  0.0  \n",
       "4   1  6   0  0.423  0.837  1.260  0.0  "
      ]
     },
     "metadata": {},
     "output_type": "display_data"
    },
    {
     "data": {
      "text/html": [
       "<div>\n",
       "<style scoped>\n",
       "    .dataframe tbody tr th:only-of-type {\n",
       "        vertical-align: middle;\n",
       "    }\n",
       "\n",
       "    .dataframe tbody tr th {\n",
       "        vertical-align: top;\n",
       "    }\n",
       "\n",
       "    .dataframe thead th {\n",
       "        text-align: right;\n",
       "    }\n",
       "</style>\n",
       "<table border=\"1\" class=\"dataframe\">\n",
       "  <thead>\n",
       "    <tr style=\"text-align: right;\">\n",
       "      <th></th>\n",
       "      <th>rank</th>\n",
       "      <th>Name</th>\n",
       "      <th>AVG</th>\n",
       "    </tr>\n",
       "  </thead>\n",
       "  <tbody>\n",
       "    <tr>\n",
       "      <th>0</th>\n",
       "      <td>1</td>\n",
       "      <td>Giancarlo Stanton</td>\n",
       "      <td>0.750</td>\n",
       "    </tr>\n",
       "    <tr>\n",
       "      <th>1</th>\n",
       "      <td>2</td>\n",
       "      <td>Tommy Edman</td>\n",
       "      <td>0.600</td>\n",
       "    </tr>\n",
       "    <tr>\n",
       "      <th>2</th>\n",
       "      <td>3</td>\n",
       "      <td>Kris Bryan</td>\n",
       "      <td>0.471</td>\n",
       "    </tr>\n",
       "    <tr>\n",
       "      <th>3</th>\n",
       "      <td>4</td>\n",
       "      <td>Luis Robert</td>\n",
       "      <td>0.467</td>\n",
       "    </tr>\n",
       "    <tr>\n",
       "      <th>4</th>\n",
       "      <td>5</td>\n",
       "      <td>Enrique Hernandez</td>\n",
       "      <td>0.408</td>\n",
       "    </tr>\n",
       "  </tbody>\n",
       "</table>\n",
       "</div>"
      ],
      "text/plain": [
       "   rank               Name    AVG\n",
       "0     1  Giancarlo Stanton  0.750\n",
       "1     2        Tommy Edman  0.600\n",
       "2     3         Kris Bryan  0.471\n",
       "3     4        Luis Robert  0.467\n",
       "4     5  Enrique Hernandez  0.408"
      ]
     },
     "metadata": {},
     "output_type": "display_data"
    }
   ],
   "source": [
    "leaders = BattingAverageLeaders()\n",
    "display(leaders.raw_data.head())\n",
    "display(leaders.normalized_data.head())"
   ]
  },
  {
   "cell_type": "code",
   "execution_count": null,
   "metadata": {},
   "outputs": [
    {
     "name": "stdout",
     "output_type": "stream",
     "text": [
      "Converted 00_core.ipynb.\n",
      "Converted 01_row_model.ipynb.\n",
      "Converted 98_utils.ipynb.\n",
      "Converted 99_default_standard_lib.ipynb.\n",
      "Converted index.ipynb.\n"
     ]
    }
   ],
   "source": [
    "#hide\n",
    "!nbdev_build_lib"
   ]
  },
  {
   "cell_type": "code",
   "execution_count": null,
   "metadata": {},
   "outputs": [],
   "source": []
  }
 ],
 "metadata": {
  "kernelspec": {
   "display_name": "Python [conda env:py39] *",
   "language": "python",
   "name": "conda-env-py39-py"
  }
 },
 "nbformat": 4,
 "nbformat_minor": 4
}

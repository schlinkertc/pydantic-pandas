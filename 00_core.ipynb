{
 "cells": [
  {
   "cell_type": "code",
   "execution_count": null,
   "metadata": {},
   "outputs": [],
   "source": [
    "# default_exp core"
   ]
  },
  {
   "cell_type": "markdown",
   "metadata": {},
   "source": [
    "# pydantic-pandas\n",
    "\n",
    "> API details."
   ]
  },
  {
   "cell_type": "code",
   "execution_count": null,
   "metadata": {},
   "outputs": [],
   "source": [
    "#hide\n",
    "from nbdev.showdoc import *"
   ]
  },
  {
   "cell_type": "code",
   "execution_count": null,
   "metadata": {},
   "outputs": [],
   "source": [
    "#exporti\n",
    "\n",
    "from pandas.core.frame import DataFrame as PandasDataFrame\n",
    "from pydantic import (\n",
    "    validator,\n",
    "    root_validator\n",
    ")\n",
    "from pydantic import BaseModel as PydanticBaseModel\n",
    "from pydantic.main import ModelMetaclass\n",
    "from pydantic_pandas.default_standard_lib import *\n",
    "from pydantic_pandas.utils import delegates\n",
    "from IPython.display import JSON\n",
    "from typing import Any\n",
    "from pandas.api.types import pandas_dtype\n",
    "from pydantic.utils import update_not_none\n",
    "from pydantic import root_validator"
   ]
  },
  {
   "cell_type": "markdown",
   "metadata": {},
   "source": [
    "## DataFrame"
   ]
  },
  {
   "cell_type": "markdown",
   "metadata": {},
   "source": [
    "> subclass Pandas DataFrame to make it play nicely with pydantic"
   ]
  },
  {
   "cell_type": "code",
   "execution_count": null,
   "metadata": {},
   "outputs": [],
   "source": [
    "#export \n",
    "\n",
    "class DataFrame(PandasDataFrame):\n",
    "    \n",
    "    @classmethod\n",
    "    def __get_validators__(cls):\n",
    "        yield cls.validate\n",
    "    \n",
    "    @classmethod\n",
    "    def __modify_schema__(cls,field_schema):\n",
    "        field_schema.update({'type':'DataFrame'})\n",
    "    \n",
    "    @classmethod\n",
    "    def validate(cls,v):\n",
    "        return cls(v)"
   ]
  },
  {
   "cell_type": "markdown",
   "metadata": {},
   "source": [
    "## Base Model"
   ]
  },
  {
   "cell_type": "markdown",
   "metadata": {},
   "source": [
    "> -  `_repr_json_` for Jupyter display\n",
    "> - json encoders for DataFrame, Array"
   ]
  },
  {
   "cell_type": "code",
   "execution_count": null,
   "metadata": {},
   "outputs": [],
   "source": [
    "#export \n",
    "\n",
    "class BaseModel(PydanticBaseModel):\n",
    "\n",
    "    def _repr_json_(self):\n",
    "        try:\n",
    "            return json.loads(self.json())\n",
    "        except:\n",
    "            pass\n",
    "            \n",
    "    class Config:\n",
    "        json_encoders = {\n",
    "            DataFrame: lambda df: json.loads(df.to_json()),\n",
    "            np.ndarray: lambda arr: arr.tolist(),\n",
    "            pd.Series: lambda ser: json.loads(ser.to_json(date_format='iso'))\n",
    "        }\n",
    "        "
   ]
  },
  {
   "cell_type": "markdown",
   "metadata": {},
   "source": [
    "#### Regular Model"
   ]
  },
  {
   "cell_type": "code",
   "execution_count": null,
   "metadata": {},
   "outputs": [],
   "source": [
    "class Model(BaseModel):\n",
    "    integer: int\n",
    "    string: str"
   ]
  },
  {
   "cell_type": "code",
   "execution_count": null,
   "metadata": {},
   "outputs": [
    {
     "data": {
      "application/json": {
       "integer": 1,
       "string": "a"
      },
      "text/plain": [
       "Model(integer=1, string='a')"
      ]
     },
     "execution_count": null,
     "metadata": {},
     "output_type": "execute_result"
    }
   ],
   "source": [
    "Model(integer=1,string='a')"
   ]
  },
  {
   "cell_type": "markdown",
   "metadata": {},
   "source": [
    "#### Model with a DataFrame"
   ]
  },
  {
   "cell_type": "code",
   "execution_count": null,
   "metadata": {},
   "outputs": [
    {
     "data": {
      "application/json": {
       "df": {
        "a": {
         "0": 1,
         "1": 2,
         "2": 3
        }
       }
      },
      "text/plain": [
       "Model(df=   a\n",
       "0  1\n",
       "1  2\n",
       "2  3)"
      ]
     },
     "execution_count": null,
     "metadata": {},
     "output_type": "execute_result"
    }
   ],
   "source": [
    "class Model(BaseModel):\n",
    "    df: DataFrame\n",
    "Model(df = pd.DataFrame({'a':[1,2,3]}))"
   ]
  },
  {
   "cell_type": "code",
   "execution_count": null,
   "metadata": {},
   "outputs": [
    {
     "data": {
      "text/plain": [
       "{'title': 'Model',\n",
       " 'type': 'object',\n",
       " 'properties': {'df': {'title': 'Df', 'type': 'DataFrame'}},\n",
       " 'required': ['df']}"
      ]
     },
     "execution_count": null,
     "metadata": {},
     "output_type": "execute_result"
    }
   ],
   "source": [
    "Model.schema()"
   ]
  },
  {
   "cell_type": "markdown",
   "metadata": {},
   "source": [
    "## TypedArray"
   ]
  },
  {
   "cell_type": "code",
   "execution_count": null,
   "metadata": {},
   "outputs": [
    {
     "name": "stderr",
     "output_type": "stream",
     "text": [
      "<ipython-input-10-4c5edebb5a2b>:2: DeprecationWarning: Numeric-style type codes are deprecated and will result in an error in the future.\n",
      "  _key_completions_ = list({np.dtype(k).name for k in np.typeDict.keys() if type(k)==str})\n"
     ]
    }
   ],
   "source": [
    "#exporti\n",
    "_key_completions_ = list({np.dtype(k).name for k in np.typeDict.keys() if type(k)==str})"
   ]
  },
  {
   "cell_type": "code",
   "execution_count": null,
   "metadata": {},
   "outputs": [],
   "source": [
    "#export \n",
    "\n",
    "class TypedArray(pd.Series):\n",
    "    dtype: Any = np.object_\n",
    "        \n",
    "    @classmethod\n",
    "    def __get_validators__(cls):\n",
    "\n",
    "        yield cls.validate_array\n",
    "    \n",
    "    @classmethod\n",
    "    def __modify_schema__(cls, field_schema: Dict[str, Any]) -> None:\n",
    "\n",
    "        update_not_none(\n",
    "            field_schema,\n",
    "            type='Numpy Array',\n",
    "            inner_type = cls.dtype\n",
    "        )\n",
    "    \n",
    "    @classmethod\n",
    "    def validate_array(cls, array):\n",
    "        dtype = cls.dtype\n",
    "        \n",
    "        if dtype == dt.date or dtype==dt.datetime or dtype=='datetime64':\n",
    "            dtype = pandas_dtype('datetime64[ns]')\n",
    "            \n",
    "        return pd.Series(array,dtype=pandas_dtype(dtype))\n",
    "\n",
    "\n",
    "#exporti\n",
    "\n",
    "class ArrayMeta(type):\n",
    "    def _ipython_key_completions_(self):\n",
    "        return _key_completions_\n",
    "    \n",
    "    def __getitem__(self, dtype):\n",
    "\n",
    "        return type('ConstrainedArray', (TypedArray,), {'dtype': dtype})\n",
    "    \n",
    "\n",
    "#exporti \n",
    "\n",
    "class ConstrainedArray(DataFrame, metaclass=ArrayMeta):\n",
    "    pass"
   ]
  },
  {
   "cell_type": "code",
   "execution_count": null,
   "metadata": {},
   "outputs": [],
   "source": [
    "class Model(BaseModel):\n",
    "    string: ConstrainedArray[str]\n",
    "    date: ConstrainedArray[dt.date]\n",
    "    number: ConstrainedArray[int]"
   ]
  },
  {
   "cell_type": "code",
   "execution_count": null,
   "metadata": {},
   "outputs": [
    {
     "data": {
      "application/json": {
       "date": {
        "0": "1994-06-01T00:00:00.000Z"
       },
       "number": {
        "0": 1,
        "1": 2,
        "2": 3
       },
       "string": {
        "0": "a",
        "1": "b",
        "2": "c"
       }
      },
      "text/plain": [
       "Model(string=0    a\n",
       "1    b\n",
       "2    c\n",
       "dtype: object, date=0   1994-06-01\n",
       "dtype: datetime64[ns], number=0    1\n",
       "1    2\n",
       "2    3\n",
       "dtype: int64)"
      ]
     },
     "execution_count": null,
     "metadata": {},
     "output_type": "execute_result"
    }
   ],
   "source": [
    "model = Model(\n",
    "    string=['a','b','c'],\n",
    "    number=[1,2,3],\n",
    "    date=['1994-06-01']\n",
    ")\n",
    "model"
   ]
  },
  {
   "cell_type": "code",
   "execution_count": null,
   "metadata": {},
   "outputs": [
    {
     "data": {
      "text/html": [
       "<div>\n",
       "<style scoped>\n",
       "    .dataframe tbody tr th:only-of-type {\n",
       "        vertical-align: middle;\n",
       "    }\n",
       "\n",
       "    .dataframe tbody tr th {\n",
       "        vertical-align: top;\n",
       "    }\n",
       "\n",
       "    .dataframe thead th {\n",
       "        text-align: right;\n",
       "    }\n",
       "</style>\n",
       "<table border=\"1\" class=\"dataframe\">\n",
       "  <thead>\n",
       "    <tr style=\"text-align: right;\">\n",
       "      <th></th>\n",
       "      <th>string</th>\n",
       "      <th>date</th>\n",
       "      <th>number</th>\n",
       "    </tr>\n",
       "  </thead>\n",
       "  <tbody>\n",
       "    <tr>\n",
       "      <th>0</th>\n",
       "      <td>a</td>\n",
       "      <td>1994-06-01</td>\n",
       "      <td>1</td>\n",
       "    </tr>\n",
       "    <tr>\n",
       "      <th>1</th>\n",
       "      <td>b</td>\n",
       "      <td>NaT</td>\n",
       "      <td>2</td>\n",
       "    </tr>\n",
       "    <tr>\n",
       "      <th>2</th>\n",
       "      <td>c</td>\n",
       "      <td>NaT</td>\n",
       "      <td>3</td>\n",
       "    </tr>\n",
       "  </tbody>\n",
       "</table>\n",
       "</div>"
      ],
      "text/plain": [
       "  string       date  number\n",
       "0      a 1994-06-01       1\n",
       "1      b        NaT       2\n",
       "2      c        NaT       3"
      ]
     },
     "execution_count": null,
     "metadata": {},
     "output_type": "execute_result"
    }
   ],
   "source": [
    "pd.DataFrame(model.dict())"
   ]
  },
  {
   "cell_type": "markdown",
   "metadata": {},
   "source": [
    "## Base Frame to add validation to the whole model"
   ]
  },
  {
   "cell_type": "code",
   "execution_count": null,
   "metadata": {},
   "outputs": [],
   "source": [
    "#export\n",
    "\n",
    "class BaseFrame(BaseModel):\n",
    "    index: Any = None\n",
    "    \n",
    "#     class Config:\n",
    "#         allow_population_by_field_name = True\n",
    "    @root_validator\n",
    "    def validate_nan(cls,values):\n",
    "        df = pd.DataFrame(\n",
    "            index= values.pop('index'),\n",
    "            data=values,\n",
    "            \n",
    "        )\n",
    "\n",
    "        for column,field in cls.__fields__.items():\n",
    "            if field.required:\n",
    "                assert df[column].isna().sum() == 0, f\"required column {column} has nan values\"\n",
    "            elif field.default:\n",
    "                df[column] = df[column].fillna(value = field.default)\n",
    "        return df.reset_index().to_dict()\n",
    "    @property\n",
    "    def df(self):\n",
    "        return pd.DataFrame(\n",
    "            index=self.index,\n",
    "            data = self.dict(exclude={'index'})\n",
    "        )"
   ]
  },
  {
   "cell_type": "code",
   "execution_count": null,
   "metadata": {},
   "outputs": [],
   "source": [
    "from pydantic import Field\n",
    "\n",
    "class Model(BaseFrame):\n",
    "    string: ConstrainedArray[str] = Field('default')\n",
    "    date: ConstrainedArray[dt.date] = Field(None,description='a required date field')\n",
    "    number: ConstrainedArray[int] = None"
   ]
  },
  {
   "cell_type": "code",
   "execution_count": null,
   "metadata": {},
   "outputs": [],
   "source": [
    "m = Model(\n",
    "    index = [0,1],\n",
    "    string = ['a','b'],\n",
    "    date = ['1994-06-01',dt.date.today()],\n",
    "    number = [1,2]\n",
    ")"
   ]
  },
  {
   "cell_type": "markdown",
   "metadata": {},
   "source": [
    "#### What about Aliases?"
   ]
  },
  {
   "cell_type": "code",
   "execution_count": null,
   "metadata": {},
   "outputs": [],
   "source": [
    "class Model(BaseFrame):\n",
    "    string:ConstrainedArray[str] = Field(alias='String Column')\n",
    "    numbers:ConstrainedArray[int] = Field(alias='Number Column')"
   ]
  },
  {
   "cell_type": "code",
   "execution_count": null,
   "metadata": {},
   "outputs": [
    {
     "data": {
      "text/html": [
       "<div>\n",
       "<style scoped>\n",
       "    .dataframe tbody tr th:only-of-type {\n",
       "        vertical-align: middle;\n",
       "    }\n",
       "\n",
       "    .dataframe tbody tr th {\n",
       "        vertical-align: top;\n",
       "    }\n",
       "\n",
       "    .dataframe thead th {\n",
       "        text-align: right;\n",
       "    }\n",
       "</style>\n",
       "<table border=\"1\" class=\"dataframe\">\n",
       "  <thead>\n",
       "    <tr style=\"text-align: right;\">\n",
       "      <th></th>\n",
       "      <th>string</th>\n",
       "      <th>numbers</th>\n",
       "    </tr>\n",
       "  </thead>\n",
       "  <tbody>\n",
       "    <tr>\n",
       "      <th>0</th>\n",
       "      <td>a</td>\n",
       "      <td>1</td>\n",
       "    </tr>\n",
       "    <tr>\n",
       "      <th>1</th>\n",
       "      <td>b</td>\n",
       "      <td>2</td>\n",
       "    </tr>\n",
       "    <tr>\n",
       "      <th>2</th>\n",
       "      <td>c</td>\n",
       "      <td>3</td>\n",
       "    </tr>\n",
       "  </tbody>\n",
       "</table>\n",
       "</div>"
      ],
      "text/plain": [
       "  string  numbers\n",
       "0      a        1\n",
       "1      b        2\n",
       "2      c        3"
      ]
     },
     "execution_count": null,
     "metadata": {},
     "output_type": "execute_result"
    }
   ],
   "source": [
    "model = Model.parse_obj({\n",
    "    \"String Column\":['a','b','c'],\n",
    "    \"Number Column\":[1,2,3]\n",
    "}\n",
    ")\n",
    "model.df"
   ]
  },
  {
   "cell_type": "code",
   "execution_count": null,
   "metadata": {},
   "outputs": [
    {
     "data": {
      "text/html": [
       "<div>\n",
       "<style scoped>\n",
       "    .dataframe tbody tr th:only-of-type {\n",
       "        vertical-align: middle;\n",
       "    }\n",
       "\n",
       "    .dataframe tbody tr th {\n",
       "        vertical-align: top;\n",
       "    }\n",
       "\n",
       "    .dataframe thead th {\n",
       "        text-align: right;\n",
       "    }\n",
       "</style>\n",
       "<table border=\"1\" class=\"dataframe\">\n",
       "  <thead>\n",
       "    <tr style=\"text-align: right;\">\n",
       "      <th></th>\n",
       "      <th>index</th>\n",
       "      <th>String Column</th>\n",
       "      <th>Number Column</th>\n",
       "    </tr>\n",
       "  </thead>\n",
       "  <tbody>\n",
       "    <tr>\n",
       "      <th>0</th>\n",
       "      <td>0</td>\n",
       "      <td>a</td>\n",
       "      <td>1</td>\n",
       "    </tr>\n",
       "    <tr>\n",
       "      <th>1</th>\n",
       "      <td>1</td>\n",
       "      <td>b</td>\n",
       "      <td>2</td>\n",
       "    </tr>\n",
       "    <tr>\n",
       "      <th>2</th>\n",
       "      <td>2</td>\n",
       "      <td>c</td>\n",
       "      <td>3</td>\n",
       "    </tr>\n",
       "  </tbody>\n",
       "</table>\n",
       "</div>"
      ],
      "text/plain": [
       "   index String Column  Number Column\n",
       "0      0             a              1\n",
       "1      1             b              2\n",
       "2      2             c              3"
      ]
     },
     "execution_count": null,
     "metadata": {},
     "output_type": "execute_result"
    }
   ],
   "source": [
    "df = pd.DataFrame(model.dict(by_alias=True))\n",
    "df"
   ]
  },
  {
   "cell_type": "code",
   "execution_count": null,
   "metadata": {},
   "outputs": [
    {
     "data": {
      "application/json": {
       "index": {
        "0": 0,
        "1": 1,
        "2": 2
       },
       "numbers": {
        "0": 1,
        "1": 2,
        "2": 3
       },
       "string": {
        "0": "a",
        "1": "b",
        "2": "c"
       }
      },
      "text/plain": [
       "Model(index={0: 0, 1: 1, 2: 2}, string={0: 'a', 1: 'b', 2: 'c'}, numbers={0: 1, 1: 2, 2: 3})"
      ]
     },
     "execution_count": null,
     "metadata": {},
     "output_type": "execute_result"
    }
   ],
   "source": [
    "Model.parse_obj(df)"
   ]
  },
  {
   "cell_type": "markdown",
   "metadata": {},
   "source": [
    "### Validators"
   ]
  },
  {
   "cell_type": "code",
   "execution_count": null,
   "metadata": {},
   "outputs": [],
   "source": [
    "from pydantic import validator\n",
    "\n",
    "class Model(BaseFrame):\n",
    "    numbers: ConstrainedArray[int]\n",
    "    fizz: bool = None\n",
    "    buzz: bool = None\n",
    "    fizz_buzz: bool = None\n",
    "    \n",
    "    @validator('fizz',always=True)\n",
    "    def _is_fizz(cls,v,values):\n",
    "        return values['numbers'].apply(lambda x: x%3==0)\n",
    "    \n",
    "    @validator('buzz',always=True)\n",
    "    def _is_buzz(cls,v,values):\n",
    "        return values['numbers'].apply(lambda x: x%5==0)\n",
    "    \n",
    "    @validator('fizz_buzz',always=True)\n",
    "    def _is_fizz_buzz(cls,v,values):\n",
    "        return pd.DataFrame([values['fizz'],values['buzz']]).sum(axis=0)==2\n",
    "    "
   ]
  },
  {
   "cell_type": "code",
   "execution_count": null,
   "metadata": {},
   "outputs": [
    {
     "data": {
      "text/html": [
       "<div>\n",
       "<style scoped>\n",
       "    .dataframe tbody tr th:only-of-type {\n",
       "        vertical-align: middle;\n",
       "    }\n",
       "\n",
       "    .dataframe tbody tr th {\n",
       "        vertical-align: top;\n",
       "    }\n",
       "\n",
       "    .dataframe thead th {\n",
       "        text-align: right;\n",
       "    }\n",
       "</style>\n",
       "<table border=\"1\" class=\"dataframe\">\n",
       "  <thead>\n",
       "    <tr style=\"text-align: right;\">\n",
       "      <th></th>\n",
       "      <th>numbers</th>\n",
       "      <th>fizz</th>\n",
       "      <th>buzz</th>\n",
       "      <th>fizz_buzz</th>\n",
       "    </tr>\n",
       "  </thead>\n",
       "  <tbody>\n",
       "    <tr>\n",
       "      <th>0</th>\n",
       "      <td>1</td>\n",
       "      <td>False</td>\n",
       "      <td>False</td>\n",
       "      <td>False</td>\n",
       "    </tr>\n",
       "    <tr>\n",
       "      <th>1</th>\n",
       "      <td>2</td>\n",
       "      <td>False</td>\n",
       "      <td>False</td>\n",
       "      <td>False</td>\n",
       "    </tr>\n",
       "    <tr>\n",
       "      <th>2</th>\n",
       "      <td>3</td>\n",
       "      <td>True</td>\n",
       "      <td>False</td>\n",
       "      <td>False</td>\n",
       "    </tr>\n",
       "    <tr>\n",
       "      <th>3</th>\n",
       "      <td>4</td>\n",
       "      <td>False</td>\n",
       "      <td>False</td>\n",
       "      <td>False</td>\n",
       "    </tr>\n",
       "    <tr>\n",
       "      <th>4</th>\n",
       "      <td>5</td>\n",
       "      <td>False</td>\n",
       "      <td>True</td>\n",
       "      <td>False</td>\n",
       "    </tr>\n",
       "  </tbody>\n",
       "</table>\n",
       "</div>"
      ],
      "text/plain": [
       "   numbers   fizz   buzz  fizz_buzz\n",
       "0        1  False  False      False\n",
       "1        2  False  False      False\n",
       "2        3   True  False      False\n",
       "3        4  False  False      False\n",
       "4        5  False   True      False"
      ]
     },
     "execution_count": null,
     "metadata": {},
     "output_type": "execute_result"
    }
   ],
   "source": [
    "df = Model(numbers=range(1,100)).df\n",
    "df.head()"
   ]
  },
  {
   "cell_type": "code",
   "execution_count": null,
   "metadata": {},
   "outputs": [
    {
     "data": {
      "text/plain": [
       "numbers        15\n",
       "fizz         True\n",
       "buzz         True\n",
       "fizz_buzz    True\n",
       "Name: 14, dtype: object"
      ]
     },
     "execution_count": null,
     "metadata": {},
     "output_type": "execute_result"
    }
   ],
   "source": [
    "df.iloc[14]"
   ]
  },
  {
   "cell_type": "code",
   "execution_count": null,
   "metadata": {},
   "outputs": [],
   "source": [
    "class Model(BaseFrame):\n",
    "    numbers: ConstrainedArray[int]\n",
    "    sum: ConstrainedArray[int] = None\n",
    "    \n",
    "    @validator('sum',always=True)\n",
    "    def sum_numbers(cls,v,values):\n",
    "        return values['numbers'].sum()"
   ]
  },
  {
   "cell_type": "code",
   "execution_count": null,
   "metadata": {},
   "outputs": [
    {
     "data": {
      "text/plain": [
       "numbers     6\n",
       "sum        18\n",
       "dtype: int64"
      ]
     },
     "execution_count": null,
     "metadata": {},
     "output_type": "execute_result"
    }
   ],
   "source": [
    "Model(numbers=[1,2,3]).df.sum()"
   ]
  },
  {
   "cell_type": "markdown",
   "metadata": {},
   "source": [
    "### Delegate pandas functions to create custom fields"
   ]
  },
  {
   "cell_type": "code",
   "execution_count": null,
   "metadata": {},
   "outputs": [],
   "source": [
    "from pydantic_pandas.utils import delegates"
   ]
  },
  {
   "cell_type": "code",
   "execution_count": null,
   "metadata": {},
   "outputs": [],
   "source": [
    "class PandasDateTime():\n",
    "    kwargs:dict = {}\n",
    "    \n",
    "    @classmethod\n",
    "    def __get_validators__(cls):\n",
    "        yield cls._to_datetime\n",
    "\n",
    "    @classmethod\n",
    "    def _to_datetime(cls,array):\n",
    "        return pd.to_datetime(array,**cls.kwargs)\n",
    "\n",
    "class PandasNumeric():\n",
    "    kwargs:dict = {}\n",
    "    \n",
    "    @classmethod\n",
    "    def __get_validators__(cls):\n",
    "        yield cls._to_numeric\n",
    "\n",
    "    @classmethod\n",
    "    def _to_numeric(cls,array):\n",
    "        return pd.to_numeric(array,**cls.kwargs)\n"
   ]
  },
  {
   "cell_type": "code",
   "execution_count": null,
   "metadata": {},
   "outputs": [],
   "source": [
    "\n",
    "@delegates(pd.to_datetime)\n",
    "def pandas_datetime(default_value=...,**kwargs):\n",
    "    return type('PandasDateTimeType', (PandasDateTime,), {'kwargs':kwargs})\n",
    "\n",
    "@delegates(pd.to_numeric)\n",
    "def pandas_numeric(default_value=...,**kwargs):\n",
    "    return type('PandasNumericType', (PandasNumeric,), {'kwargs':kwargs})"
   ]
  },
  {
   "cell_type": "code",
   "execution_count": null,
   "metadata": {},
   "outputs": [],
   "source": [
    "class Model(BaseFrame):\n",
    "    date: pandas_datetime(errors='coerce') = None\n",
    "    numbers: pandas_numeric()"
   ]
  },
  {
   "cell_type": "code",
   "execution_count": null,
   "metadata": {},
   "outputs": [
    {
     "data": {
      "application/json": {
       "date": {
        "0": "1994-06-01T00:00:00",
        "1": "NaT"
       },
       "index": {
        "0": 0,
        "1": 1
       },
       "numbers": {
        "0": 0.1111111111111111,
        "1": 2.718281828459045
       }
      },
      "text/plain": [
       "Model(index={0: 0, 1: 1}, date={0: Timestamp('1994-06-01 00:00:00'), 1: NaT}, numbers={0: 0.1111111111111111, 1: 2.718281828459045})"
      ]
     },
     "execution_count": null,
     "metadata": {},
     "output_type": "execute_result"
    }
   ],
   "source": [
    "Model(\n",
    "    date=['1994-06-01','error'],\n",
    "    numbers = [1/9,np.e],\n",
    "    other_numbers = [1/9,np.e],\n",
    ")"
   ]
  },
  {
   "cell_type": "markdown",
   "metadata": {},
   "source": [
    "## Constrained Frame"
   ]
  },
  {
   "cell_type": "code",
   "execution_count": null,
   "metadata": {},
   "outputs": [],
   "source": [
    "#exporti \n",
    "\n",
    "from pydantic import ValidationError\n"
   ]
  },
  {
   "cell_type": "code",
   "execution_count": null,
   "metadata": {},
   "outputs": [],
   "source": [
    "#export \n",
    "\n",
    "class TypedFrame(DataFrame):\n",
    "    columns: Optional[list] = None\n",
    "    row_model: Optional[Type[BaseModel]] = None\n",
    "        \n",
    "    @classmethod\n",
    "    def __get_validators__(cls):\n",
    "        yield cls.validate_columns\n",
    "        yield cls.validate_rows\n",
    "    \n",
    "    @classmethod\n",
    "    def __modify_schema__(cls, field_schema: Dict[str, Any]) -> None:\n",
    "        row_model=None\n",
    "        if cls.row_model:\n",
    "            row_model = cls.row_model.schema()\n",
    "        update_not_none(\n",
    "            field_schema,\n",
    "            columns=cls.columns,\n",
    "            row_model=row_model\n",
    "        )\n",
    "    @classmethod\n",
    "    def validate_columns(cls,df):\n",
    "        if cls.columns:\n",
    "            for c in cls.columns:\n",
    "                if c not in df.columns:\n",
    "                    raise ValueError(f\"{c} not found in columns index: {df.columns}\")\n",
    "        return df\n",
    "    \n",
    "    @classmethod\n",
    "    def validate_rows(cls, df):\n",
    "        \n",
    "        if cls.row_model:\n",
    "            parsed = []\n",
    "            \n",
    "            for record in df.to_dict('records'):\n",
    "                try:\n",
    "                    model = cls.row_model.parse_obj(record)\n",
    "                    parsed.append(model.dict())\n",
    "                except ValidationError as e:\n",
    "                    \n",
    "                    if hasattr(cls.row_model.Config,'on_error'):\n",
    "                        if cls.row_model.Config.on_error=='skip':\n",
    "                            continue\n",
    "                    raise e\n",
    "                            \n",
    "            return pd.DataFrame.from_records(parsed)\n",
    "        return df"
   ]
  },
  {
   "cell_type": "code",
   "execution_count": null,
   "metadata": {},
   "outputs": [],
   "source": [
    "#exporti\n",
    "\n",
    "class FrameMeta(type):\n",
    "    def __getitem__(self, constraint):\n",
    "        if type(constraint)==tuple:\n",
    "            return type('ConstrainedFrame', (TypedFrame,), {'columns': constraint})\n",
    "        elif hasattr(constraint,'__get_validators__'):\n",
    "            return type('ConstrainedFrame', (TypedFrame,), {'row_model': constraint})\n",
    "        else:\n",
    "            raise NotImplementedError(f\"The constraint you provided is to compatible with the 'TypedFrame' Object. {constraint} \")\n",
    "    \n",
    "\n",
    "#exporti \n",
    "\n",
    "class ConstrainedFrame(DataFrame, metaclass=FrameMeta):\n",
    "    pass"
   ]
  },
  {
   "cell_type": "markdown",
   "metadata": {},
   "source": [
    "The `conframe` function will allow us to create a constrained frame type with multiple parameters. This pattern is lifted from Pydantic functions like \"constr\" and \"confloat\"."
   ]
  },
  {
   "cell_type": "code",
   "execution_count": null,
   "metadata": {},
   "outputs": [],
   "source": [
    "#exporti\n",
    "\n",
    "def conframe(\n",
    "    *,\n",
    "    columns: list = None,\n",
    "    row_model: Type[BaseModel] = None\n",
    ") -> Type[DataFrame]:\n",
    "    # use kwargs then define conf in a dict to aid with IDE type hinting\n",
    "    namespace = dict(columns=columns,row_model=row_model)\n",
    "    return type('ConstrainedFrameValue', (ConstrainedFrame,), namespace)"
   ]
  },
  {
   "cell_type": "markdown",
   "metadata": {},
   "source": [
    "### Example uses for `ConstrainedFrame`"
   ]
  },
  {
   "cell_type": "markdown",
   "metadata": {},
   "source": [
    "#### DataFrames as Model Attributes"
   ]
  },
  {
   "cell_type": "code",
   "execution_count": null,
   "metadata": {},
   "outputs": [
    {
     "name": "stdout",
     "output_type": "stream",
     "text": [
      "float64\n",
      "object\n"
     ]
    }
   ],
   "source": [
    "df = pd.DataFrame(\n",
    "    {\"metric\":['a','b','c'],\n",
    "     \"value\":[1,2,'3']\n",
    "    }\n",
    ")\n",
    "\n",
    "class Record(BaseModel):\n",
    "    metric: str\n",
    "    value: float\n",
    "    not_there: Optional[str]\n",
    "\n",
    "class Model(BaseModel):\n",
    "    # a dataframe that is validated using a row model\n",
    "    validate_with_model: ConstrainedFrame[Record]\n",
    "    validate_with_columns: ConstrainedFrame['metric','value']\n",
    "    validate_with_conframe: DataFrame = conframe(\n",
    "        columns=('metric','value'),\n",
    "        row_model=Record\n",
    "    )\n",
    "\n",
    "model = Model(\n",
    "    validate_with_columns=df,\n",
    "    validate_with_model=df,\n",
    "    validate_with_conframe=df\n",
    ")\n",
    "print(model.validate_with_model.dtypes['value']) # the `Record` Model parse input values into floats\n",
    "print(model.validate_with_columns.dtypes['value']) # validating just the column names took the raw values."
   ]
  },
  {
   "cell_type": "code",
   "execution_count": null,
   "metadata": {},
   "outputs": [
    {
     "data": {
      "text/plain": [
       "Model(validate_with_model=  metric  value not_there\n",
       "0      a    1.0      None\n",
       "1      b    2.0      None\n",
       "2      c    3.0      None, validate_with_columns=  metric value\n",
       "0      a     1\n",
       "1      b     2\n",
       "2      c     3)"
      ]
     },
     "execution_count": null,
     "metadata": {},
     "output_type": "execute_result"
    }
   ],
   "source": [
    "model"
   ]
  },
  {
   "cell_type": "markdown",
   "metadata": {},
   "source": [
    "#### Usage with Validate Agruments Decorator"
   ]
  },
  {
   "cell_type": "code",
   "execution_count": null,
   "metadata": {},
   "outputs": [],
   "source": [
    "from pydantic import validate_arguments,Field\n",
    "\n",
    "class PlayerBattingStats(BaseModel):\n",
    "    player: str = Field(alias='PLAYER')\n",
    "    at_bats: int = Field(alias='AB')\n",
    "    games: int = Field(alias='G')\n",
    "    home_runs: int = Field(alias='HR')\n",
    "    \n",
    "    class Config:\n",
    "        on_error = 'skip'"
   ]
  },
  {
   "cell_type": "code",
   "execution_count": null,
   "metadata": {},
   "outputs": [],
   "source": [
    "@validate_arguments\n",
    "def compute_hr_per_game(df:ConstrainedFrame[PlayerBattingStats],precision=3):\n",
    "    df['batting_average'] = (df['home_runs']/df['games']).round(precision)\n",
    "    return df"
   ]
  },
  {
   "cell_type": "markdown",
   "metadata": {},
   "source": [
    "This is our raw DataFrame."
   ]
  },
  {
   "cell_type": "code",
   "execution_count": null,
   "metadata": {},
   "outputs": [
    {
     "data": {
      "text/html": [
       "<div>\n",
       "<style scoped>\n",
       "    .dataframe tbody tr th:only-of-type {\n",
       "        vertical-align: middle;\n",
       "    }\n",
       "\n",
       "    .dataframe tbody tr th {\n",
       "        vertical-align: top;\n",
       "    }\n",
       "\n",
       "    .dataframe thead th {\n",
       "        text-align: right;\n",
       "    }\n",
       "</style>\n",
       "<table border=\"1\" class=\"dataframe\">\n",
       "  <thead>\n",
       "    <tr style=\"text-align: right;\">\n",
       "      <th></th>\n",
       "      <th>PLAYER</th>\n",
       "      <th>YRS</th>\n",
       "      <th>G</th>\n",
       "      <th>AB</th>\n",
       "      <th>R</th>\n",
       "      <th>H</th>\n",
       "      <th>2B</th>\n",
       "      <th>3B</th>\n",
       "      <th>HR</th>\n",
       "      <th>RBI</th>\n",
       "      <th>BB</th>\n",
       "      <th>SO</th>\n",
       "      <th>SB</th>\n",
       "      <th>CS</th>\n",
       "      <th>BA</th>\n",
       "    </tr>\n",
       "  </thead>\n",
       "  <tbody>\n",
       "    <tr>\n",
       "      <th>NaN</th>\n",
       "      <td>Babe Ruth</td>\n",
       "      <td>22</td>\n",
       "      <td>2503</td>\n",
       "      <td>8399</td>\n",
       "      <td>2174</td>\n",
       "      <td>2873</td>\n",
       "      <td>506</td>\n",
       "      <td>136</td>\n",
       "      <td>714</td>\n",
       "      <td>1983</td>\n",
       "      <td>2056</td>\n",
       "      <td>1330</td>\n",
       "      <td>123</td>\n",
       "      <td>117</td>\n",
       "      <td>.342</td>\n",
       "    </tr>\n",
       "    <tr>\n",
       "      <th>NaN</th>\n",
       "      <td>PLAYER</td>\n",
       "      <td>YRS</td>\n",
       "      <td>G</td>\n",
       "      <td>AB</td>\n",
       "      <td>R</td>\n",
       "      <td>H</td>\n",
       "      <td>2B</td>\n",
       "      <td>3B</td>\n",
       "      <td>HR</td>\n",
       "      <td>RBI</td>\n",
       "      <td>BB</td>\n",
       "      <td>SO</td>\n",
       "      <td>SB</td>\n",
       "      <td>CS</td>\n",
       "      <td>BA</td>\n",
       "    </tr>\n",
       "    <tr>\n",
       "      <th>11.0</th>\n",
       "      <td>Bill Terry</td>\n",
       "      <td>14</td>\n",
       "      <td>1721</td>\n",
       "      <td>6428</td>\n",
       "      <td>1120</td>\n",
       "      <td>2193</td>\n",
       "      <td>373</td>\n",
       "      <td>112</td>\n",
       "      <td>154</td>\n",
       "      <td>1078</td>\n",
       "      <td>537</td>\n",
       "      <td>449</td>\n",
       "      <td>56</td>\n",
       "      <td>6</td>\n",
       "      <td>.341</td>\n",
       "    </tr>\n",
       "    <tr>\n",
       "      <th>NaN</th>\n",
       "      <td>Pete Browning</td>\n",
       "      <td>13</td>\n",
       "      <td>1183</td>\n",
       "      <td>4820</td>\n",
       "      <td>954</td>\n",
       "      <td>1646</td>\n",
       "      <td>295</td>\n",
       "      <td>85</td>\n",
       "      <td>46</td>\n",
       "      <td>0</td>\n",
       "      <td>466</td>\n",
       "      <td>167</td>\n",
       "      <td>258</td>\n",
       "      <td>0</td>\n",
       "      <td>.341</td>\n",
       "    </tr>\n",
       "    <tr>\n",
       "      <th>NaN</th>\n",
       "      <td>Willie Keeler</td>\n",
       "      <td>19</td>\n",
       "      <td>2123</td>\n",
       "      <td>8591</td>\n",
       "      <td>1719</td>\n",
       "      <td>2932</td>\n",
       "      <td>241</td>\n",
       "      <td>145</td>\n",
       "      <td>33</td>\n",
       "      <td>0</td>\n",
       "      <td>524</td>\n",
       "      <td>36</td>\n",
       "      <td>495</td>\n",
       "      <td>0</td>\n",
       "      <td>.341</td>\n",
       "    </tr>\n",
       "    <tr>\n",
       "      <th>14.0</th>\n",
       "      <td>Lou Gehrig</td>\n",
       "      <td>17</td>\n",
       "      <td>2164</td>\n",
       "      <td>8001</td>\n",
       "      <td>1888</td>\n",
       "      <td>2721</td>\n",
       "      <td>534</td>\n",
       "      <td>163</td>\n",
       "      <td>493</td>\n",
       "      <td>1995</td>\n",
       "      <td>1508</td>\n",
       "      <td>790</td>\n",
       "      <td>102</td>\n",
       "      <td>101</td>\n",
       "      <td>.340</td>\n",
       "    </tr>\n",
       "  </tbody>\n",
       "</table>\n",
       "</div>"
      ],
      "text/plain": [
       "             PLAYER  YRS     G    AB     R     H   2B   3B   HR   RBI    BB  \\\n",
       "NaN       Babe Ruth   22  2503  8399  2174  2873  506  136  714  1983  2056   \n",
       "NaN          PLAYER  YRS     G    AB     R     H   2B   3B   HR   RBI    BB   \n",
       "11.0     Bill Terry   14  1721  6428  1120  2193  373  112  154  1078   537   \n",
       "NaN   Pete Browning   13  1183  4820   954  1646  295   85   46     0   466   \n",
       "NaN   Willie Keeler   19  2123  8591  1719  2932  241  145   33     0   524   \n",
       "14.0     Lou Gehrig   17  2164  8001  1888  2721  534  163  493  1995  1508   \n",
       "\n",
       "        SO   SB   CS    BA  \n",
       "NaN   1330  123  117  .342  \n",
       "NaN     SO   SB   CS    BA  \n",
       "11.0   449   56    6  .341  \n",
       "NaN    167  258    0  .341  \n",
       "NaN     36  495    0  .341  \n",
       "14.0   790  102  101  .340  "
      ]
     },
     "execution_count": null,
     "metadata": {},
     "output_type": "execute_result"
    }
   ],
   "source": [
    "df = pd.read_html(\"https://www.espn.com/mlb/history/leaders\",header=1,index_col=0)[0]\n",
    "df.iloc[9:15]"
   ]
  },
  {
   "cell_type": "markdown",
   "metadata": {},
   "source": [
    "Some headers are mixed into the table and yield bad data. Those rows are removed during validation because they don't conform to the row model."
   ]
  },
  {
   "cell_type": "code",
   "execution_count": null,
   "metadata": {},
   "outputs": [
    {
     "data": {
      "text/html": [
       "<div>\n",
       "<style scoped>\n",
       "    .dataframe tbody tr th:only-of-type {\n",
       "        vertical-align: middle;\n",
       "    }\n",
       "\n",
       "    .dataframe tbody tr th {\n",
       "        vertical-align: top;\n",
       "    }\n",
       "\n",
       "    .dataframe thead th {\n",
       "        text-align: right;\n",
       "    }\n",
       "</style>\n",
       "<table border=\"1\" class=\"dataframe\">\n",
       "  <thead>\n",
       "    <tr style=\"text-align: right;\">\n",
       "      <th></th>\n",
       "      <th>player</th>\n",
       "      <th>at_bats</th>\n",
       "      <th>games</th>\n",
       "      <th>home_runs</th>\n",
       "      <th>batting_average</th>\n",
       "    </tr>\n",
       "  </thead>\n",
       "  <tbody>\n",
       "    <tr>\n",
       "      <th>9</th>\n",
       "      <td>Babe Ruth</td>\n",
       "      <td>8399</td>\n",
       "      <td>2503</td>\n",
       "      <td>714</td>\n",
       "      <td>0.285</td>\n",
       "    </tr>\n",
       "    <tr>\n",
       "      <th>10</th>\n",
       "      <td>Bill Terry</td>\n",
       "      <td>6428</td>\n",
       "      <td>1721</td>\n",
       "      <td>154</td>\n",
       "      <td>0.089</td>\n",
       "    </tr>\n",
       "    <tr>\n",
       "      <th>11</th>\n",
       "      <td>Pete Browning</td>\n",
       "      <td>4820</td>\n",
       "      <td>1183</td>\n",
       "      <td>46</td>\n",
       "      <td>0.039</td>\n",
       "    </tr>\n",
       "    <tr>\n",
       "      <th>12</th>\n",
       "      <td>Willie Keeler</td>\n",
       "      <td>8591</td>\n",
       "      <td>2123</td>\n",
       "      <td>33</td>\n",
       "      <td>0.016</td>\n",
       "    </tr>\n",
       "    <tr>\n",
       "      <th>13</th>\n",
       "      <td>Lou Gehrig</td>\n",
       "      <td>8001</td>\n",
       "      <td>2164</td>\n",
       "      <td>493</td>\n",
       "      <td>0.228</td>\n",
       "    </tr>\n",
       "    <tr>\n",
       "      <th>14</th>\n",
       "      <td>George Sisler</td>\n",
       "      <td>8267</td>\n",
       "      <td>2055</td>\n",
       "      <td>102</td>\n",
       "      <td>0.050</td>\n",
       "    </tr>\n",
       "  </tbody>\n",
       "</table>\n",
       "</div>"
      ],
      "text/plain": [
       "           player  at_bats  games  home_runs  batting_average\n",
       "9       Babe Ruth     8399   2503        714            0.285\n",
       "10     Bill Terry     6428   1721        154            0.089\n",
       "11  Pete Browning     4820   1183         46            0.039\n",
       "12  Willie Keeler     8591   2123         33            0.016\n",
       "13     Lou Gehrig     8001   2164        493            0.228\n",
       "14  George Sisler     8267   2055        102            0.050"
      ]
     },
     "execution_count": null,
     "metadata": {},
     "output_type": "execute_result"
    }
   ],
   "source": [
    "compute_hr_per_game(df).iloc[9:15]"
   ]
  },
  {
   "cell_type": "code",
   "execution_count": null,
   "metadata": {},
   "outputs": [],
   "source": [
    "from pydantic import HttpUrl,validator\n",
    "\n",
    "class BattingLeaderRecord(BaseModel):\n",
    "    rank: int = Field(alias='RK')\n",
    "    Name: str\n",
    "    AVG: float\n",
    "        \n",
    "    @validator('Name')\n",
    "    def _remove_team_from_name(cls,v):\n",
    "        \"\"\"remove the last 3 letters from the name column\"\"\"\n",
    "        return v[0:-3]"
   ]
  },
  {
   "cell_type": "code",
   "execution_count": null,
   "metadata": {},
   "outputs": [],
   "source": [
    "class BattingAverageLeaders(BaseModel):\n",
    "    url: HttpUrl = \"https://www.espn.com/mlb/stats/player/_/view/batting/table/batting/sort/avg/dir/desc\"\n",
    "    raw_data: DataFrame\n",
    "    normalized_data: ConstrainedFrame[BattingLeaderRecord]\n",
    "    timestamp:dt.date=Field(\n",
    "        default_factory=lambda: dt.date.today()\n",
    "    )\n",
    "    \n",
    "    def __init__(\n",
    "        self,\n",
    "        url = \"https://www.espn.com/mlb/stats/player/_/view/batting/table/batting/sort/avg/dir/desc\",\n",
    "    ):\n",
    "        raw_data = pd.concat(pd.read_html(url)[0:2],axis=1)\n",
    "        super().__init__(\n",
    "            raw_data=raw_data,\n",
    "            normalized_data=raw_data\n",
    "        )\n",
    "        \n",
    "        "
   ]
  },
  {
   "cell_type": "code",
   "execution_count": null,
   "metadata": {},
   "outputs": [
    {
     "data": {
      "text/plain": [
       "__main__.BattingAverageLeaders"
      ]
     },
     "execution_count": null,
     "metadata": {},
     "output_type": "execute_result"
    }
   ],
   "source": [
    "BattingAverageLeaders"
   ]
  },
  {
   "cell_type": "code",
   "execution_count": null,
   "metadata": {},
   "outputs": [
    {
     "data": {
      "text/plain": [
       "BattingAverageLeaders(url='https://www.espn.com/mlb/stats/player/_/view/batting/table/batting/sort/avg/dir/desc', raw_data=    RK                      Name POS   GP   AB    R    H    AVG  2B  3B  HR  \\\n",
       "0    1        Trea TurnerLAD/WSH  SS  144  581  101  188  0.324  33   3  25   \n",
       "1    2              Juan SotoWSH  LF  148  494  110  157  0.318  20   2  29   \n",
       "2    3           Yuli GurrielHOU  1B  140  521   80  165  0.317  31   0  14   \n",
       "3    4  Vladimir Guerrero Jr.TOR  DH  157  588  120  184  0.313  27   1  46   \n",
       "4    5       Michael BrantleyHOU  LF  117  458   68  143  0.312  29   2   8   \n",
       "5    6       Nick CastellanosCIN  RF  135  523   94  162  0.310  37   1  33   \n",
       "6    7           Bryce HarperPHI  RF  137  474   99  146  0.308  40   1  34   \n",
       "7    8     Starling MarteOAK/MIA  CF  117  458   86  141  0.308  27   2  12   \n",
       "8    9        Adam FrazierPIT/SD  2B  151  566   83  174  0.307  35   5   5   \n",
       "9   10           Austin RileyATL  3B  156  577   89  174  0.302  32   1  32   \n",
       "10  11        Brandon CrawfordSF  SS  134  468   75  141  0.301  29   3  23   \n",
       "11  12             Nicky LopezKC  2B  147  485   76  146  0.301  21   6   2   \n",
       "12  13           Tim AndersonCHW  SS  120  515   92  155  0.301  28   2  17   \n",
       "13  14        Freddie FreemanATL  1B  156  591  118  177  0.299  25   2  31   \n",
       "14  15         Bryan ReynoldsPIT  LF  155  550   91  164  0.298  34   7  24   \n",
       "15  16      Teoscar HernandezTOR  RF  139  534   90  159  0.298  29   0  31   \n",
       "16  17         Cedric MullinsBAL  CF  155  586   89  174  0.297  37   5  30   \n",
       "17  18        Xander BogaertsBOS  SS  140  517   88  153  0.296  34   1  23   \n",
       "18  19            Bo BichetteTOR  SS  155  624  117  184  0.295  27   1  28   \n",
       "19  20       Paul GoldschmidtSTL  1B  155  594  101  175  0.295  35   2  31   \n",
       "20  21              Ty FranceSEA  3B  149  560   82  164  0.293  30   1  18   \n",
       "21  22            Jean SeguraPHI  SS  130  510   76  149  0.292  27   3  14   \n",
       "22  23            Kyle TuckerHOU  LF  136  492   80  143  0.291  36   3  28   \n",
       "23  24           Alex VerdugoBOS  LF  143  531   88  154  0.290  31   2  13   \n",
       "24  25          J.D. MartinezBOS  LF  144  558   90  160  0.287  41   3  28   \n",
       "25  26            Aaron JudgeNYY  RF  144  536   87  153  0.285  24   0  37   \n",
       "26  27           Amed RosarioCLE  SS  139  543   74  153  0.282  25   6  11   \n",
       "27  28      Fernando Tatis Jr.SD  SS  126  462   98  130  0.281  29   0  41   \n",
       "28  29    Lourdes Gurriel Jr.TOR  LF  139  492   61  138  0.280  28   2  21   \n",
       "29  30      Josh HarrisonOAK/WSH  2B  137  500   58  140  0.280  33   2   8   \n",
       "30  31          Tyler O'NeillSTL  LF  138  472   85  132  0.280  25   1  32   \n",
       "31  32           Manny MachadoSD  3B  150  555   92  155  0.279  31   2  28   \n",
       "32  33         Whit MerrifieldKC  RF  158  646   95  180  0.279  41   3  10   \n",
       "33  34          Salvador PerezKC   C  157  606   87  168  0.277  23   0  48   \n",
       "34  35          Carlos CorreaHOU  SS  145  545  101  151  0.277  34   1  24   \n",
       "35  36              C.J. CronCOL  1B  139  462   69  128  0.277  30   1  28   \n",
       "36  37        Jonathan SchoopDET  2B  153  611   82  169  0.277  29   1  21   \n",
       "37  38         Yordan AlvarezHOU  DH  140  521   91  144  0.276  33   1  32   \n",
       "38  39          Rafael DeversBOS  3B  152  572   97  158  0.276  37   1  35   \n",
       "39  40      Giancarlo StantonNYY  DH  135  497   62  137  0.276  18   0  35   \n",
       "40  41          Justin TurnerLAD  3B  147  519   83  143  0.276  22   0  25   \n",
       "41  41            Jared WalshLAA  1B  142  519   68  143  0.276  33   1  27   \n",
       "42  43           Raimel TapiaCOL  LF  130  473   69  130  0.275  26   2   6   \n",
       "43  44            Jose AltuveHOU  2B  142  587  114  161  0.274  30   1  31   \n",
       "44  45          J.P. CrawfordSEA  SS  157  608   88  166  0.273  37   0   9   \n",
       "45  46      Jeimer CandelarioDET  3B  147  550   73  150  0.273  42   3  16   \n",
       "46  46       Andrew BenintendiKC  LF  130  484   61  132  0.273  25   2  17   \n",
       "47  48     Isiah Kiner-FalefaTEX  3B  155  624   73  170  0.272  25   3   7   \n",
       "48  49         Randy ArozarenaTB  LF  137  514   91  140  0.272  31   3  20   \n",
       "49  50             Matt OlsonOAK  1B  153  551  100  150  0.272  35   0  38   \n",
       "\n",
       "    RBI   TB   BB    K  SB    OBP    SLG    OPS  WAR  \n",
       "0    68  302   40  109  32  0.371  0.520  0.891  6.0  \n",
       "1    94  268  140   87   9  0.467  0.543  1.010  7.1  \n",
       "2    79  238   59   66   1  0.383  0.457  0.839  3.7  \n",
       "3   106  351   85  107   4  0.403  0.597  1.000  6.7  \n",
       "4    45  200   33   51   1  0.364  0.437  0.801  2.5  \n",
       "5    97  300   39  120   3  0.362  0.574  0.936  3.2  \n",
       "6    82  290   99  129  13  0.430  0.612  1.041  5.7  \n",
       "7    54  208   43   98  45  0.381  0.454  0.835  4.4  \n",
       "8    43  234   47   68  10  0.370  0.413  0.784  4.1  \n",
       "9   103  304   52  163   0  0.367  0.527  0.894  5.7  \n",
       "10   89  245   56  102  11  0.377  0.524  0.901  5.8  \n",
       "11   43  185   46   72  21  0.364  0.381  0.746  4.0  \n",
       "12   59  238   21  119  18  0.329  0.462  0.791  4.0  \n",
       "13   82  299   84  105   8  0.392  0.506  0.898  4.5  \n",
       "14   89  284   74  118   5  0.387  0.516  0.903  5.9  \n",
       "15  112  281   35  143  11  0.348  0.526  0.874  4.2  \n",
       "16   59  311   59  121  30  0.366  0.531  0.897  6.2  \n",
       "17   79  258   55  110   5  0.365  0.499  0.864  4.8  \n",
       "18  101  297   39  135  24  0.340  0.476  0.816  5.5  \n",
       "19   98  307   67  134  12  0.367  0.517  0.884  6.2  \n",
       "20   73  250   44  106   0  0.368  0.446  0.814  4.1  \n",
       "21   58  224   39   76   9  0.351  0.439  0.790  3.7  \n",
       "22   88  269   51   88  14  0.355  0.547  0.902  5.1  \n",
       "23   61  228   51   92   6  0.354  0.429  0.783  2.4  \n",
       "24   99  291   54  146   0  0.349  0.522  0.870  2.9  \n",
       "25   95  288   73  156   6  0.371  0.537  0.908  5.6  \n",
       "26   55  223   28  119  12  0.318  0.411  0.729  2.0  \n",
       "27   95  282   62  146  25  0.366  0.610  0.976  6.5  \n",
       "28   84  233   32  102   1  0.323  0.474  0.797  2.9  \n",
       "29   59  201   31   74   9  0.342  0.402  0.744  2.2  \n",
       "30   77  255   38  166  14  0.346  0.540  0.886  5.7  \n",
       "31  103  274   62  100  12  0.349  0.494  0.842  5.3  \n",
       "32   73  257   39  100  40  0.318  0.398  0.716  3.7  \n",
       "33  121  335   27  165   1  0.318  0.553  0.871  5.5  \n",
       "34   88  259   74  114   0  0.363  0.475  0.838  6.9  \n",
       "35   90  244   58  116   1  0.371  0.528  0.899  3.2  \n",
       "36   82  263   36  130   1  0.319  0.430  0.750  2.0  \n",
       "37  101  275   50  140   1  0.347  0.528  0.875  2.8  \n",
       "38  108  302   62  141   5  0.352  0.528  0.880  3.1  \n",
       "39   96  260   61  151   0  0.356  0.523  0.880  3.2  \n",
       "40   83  240   60   97   3  0.360  0.462  0.823  3.6  \n",
       "41   92  259   47  150   2  0.339  0.499  0.838  2.6  \n",
       "42   50  178   40   69  20  0.330  0.376  0.706  1.4  \n",
       "43   82  286   66   90   5  0.348  0.487  0.836  4.4  \n",
       "44   52  230   56  111   3  0.336  0.378  0.715  3.8  \n",
       "45   66  246   63  135   0  0.352  0.447  0.799  3.5  \n",
       "46   71  212   33   97   8  0.317  0.438  0.755  2.3  \n",
       "47   52  222   27   89  20  0.313  0.356  0.669  4.1  \n",
       "48   69  237   52  163  16  0.352  0.461  0.813  3.8  \n",
       "49  109  299   88  108   4  0.375  0.543  0.917  5.7  , normalized_data=    rank                   Name    AVG\n",
       "0      1        Trea TurnerLAD/  0.324\n",
       "1      2              Juan Soto  0.318\n",
       "2      3           Yuli Gurriel  0.317\n",
       "3      4  Vladimir Guerrero Jr.  0.313\n",
       "4      5       Michael Brantley  0.312\n",
       "5      6       Nick Castellanos  0.310\n",
       "6      7           Bryce Harper  0.308\n",
       "7      8     Starling MarteOAK/  0.308\n",
       "8      9        Adam FrazierPIT  0.307\n",
       "9     10           Austin Riley  0.302\n",
       "10    11        Brandon Crawfor  0.301\n",
       "11    12             Nicky Lope  0.301\n",
       "12    13           Tim Anderson  0.301\n",
       "13    14        Freddie Freeman  0.299\n",
       "14    15         Bryan Reynolds  0.298\n",
       "15    16      Teoscar Hernandez  0.298\n",
       "16    17         Cedric Mullins  0.297\n",
       "17    18        Xander Bogaerts  0.296\n",
       "18    19            Bo Bichette  0.295\n",
       "19    20       Paul Goldschmidt  0.295\n",
       "20    21              Ty France  0.293\n",
       "21    22            Jean Segura  0.292\n",
       "22    23            Kyle Tucker  0.291\n",
       "23    24           Alex Verdugo  0.290\n",
       "24    25          J.D. Martinez  0.287\n",
       "25    26            Aaron Judge  0.285\n",
       "26    27           Amed Rosario  0.282\n",
       "27    28      Fernando Tatis Jr  0.281\n",
       "28    29    Lourdes Gurriel Jr.  0.280\n",
       "29    30      Josh HarrisonOAK/  0.280\n",
       "30    31          Tyler O'Neill  0.280\n",
       "31    32           Manny Machad  0.279\n",
       "32    33         Whit Merrifiel  0.279\n",
       "33    34          Salvador Pere  0.277\n",
       "34    35          Carlos Correa  0.277\n",
       "35    36              C.J. Cron  0.277\n",
       "36    37        Jonathan Schoop  0.277\n",
       "37    38         Yordan Alvarez  0.276\n",
       "38    39          Rafael Devers  0.276\n",
       "39    40      Giancarlo Stanton  0.276\n",
       "40    41          Justin Turner  0.276\n",
       "41    41            Jared Walsh  0.276\n",
       "42    43           Raimel Tapia  0.275\n",
       "43    44            Jose Altuve  0.274\n",
       "44    45          J.P. Crawford  0.273\n",
       "45    46      Jeimer Candelario  0.273\n",
       "46    46       Andrew Benintend  0.273\n",
       "47    48     Isiah Kiner-Falefa  0.272\n",
       "48    49         Randy Arozaren  0.272\n",
       "49    50             Matt Olson  0.272, timestamp=datetime.date(2021, 9, 30))"
      ]
     },
     "execution_count": null,
     "metadata": {},
     "output_type": "execute_result"
    }
   ],
   "source": [
    "leaders = BattingAverageLeaders()\n",
    "leaders"
   ]
  },
  {
   "cell_type": "code",
   "execution_count": null,
   "metadata": {},
   "outputs": [
    {
     "data": {
      "text/html": [
       "<div>\n",
       "<style scoped>\n",
       "    .dataframe tbody tr th:only-of-type {\n",
       "        vertical-align: middle;\n",
       "    }\n",
       "\n",
       "    .dataframe tbody tr th {\n",
       "        vertical-align: top;\n",
       "    }\n",
       "\n",
       "    .dataframe thead th {\n",
       "        text-align: right;\n",
       "    }\n",
       "</style>\n",
       "<table border=\"1\" class=\"dataframe\">\n",
       "  <thead>\n",
       "    <tr style=\"text-align: right;\">\n",
       "      <th></th>\n",
       "      <th>RK</th>\n",
       "      <th>Name</th>\n",
       "      <th>POS</th>\n",
       "      <th>GP</th>\n",
       "      <th>AB</th>\n",
       "      <th>R</th>\n",
       "      <th>H</th>\n",
       "      <th>AVG</th>\n",
       "      <th>2B</th>\n",
       "      <th>3B</th>\n",
       "      <th>HR</th>\n",
       "      <th>RBI</th>\n",
       "      <th>TB</th>\n",
       "      <th>BB</th>\n",
       "      <th>K</th>\n",
       "      <th>SB</th>\n",
       "      <th>OBP</th>\n",
       "      <th>SLG</th>\n",
       "      <th>OPS</th>\n",
       "      <th>WAR</th>\n",
       "    </tr>\n",
       "  </thead>\n",
       "  <tbody>\n",
       "    <tr>\n",
       "      <th>0</th>\n",
       "      <td>1</td>\n",
       "      <td>Trea TurnerLAD/WSH</td>\n",
       "      <td>SS</td>\n",
       "      <td>144</td>\n",
       "      <td>581</td>\n",
       "      <td>101</td>\n",
       "      <td>188</td>\n",
       "      <td>0.324</td>\n",
       "      <td>33</td>\n",
       "      <td>3</td>\n",
       "      <td>25</td>\n",
       "      <td>68</td>\n",
       "      <td>302</td>\n",
       "      <td>40</td>\n",
       "      <td>109</td>\n",
       "      <td>32</td>\n",
       "      <td>0.371</td>\n",
       "      <td>0.520</td>\n",
       "      <td>0.891</td>\n",
       "      <td>6.0</td>\n",
       "    </tr>\n",
       "    <tr>\n",
       "      <th>1</th>\n",
       "      <td>2</td>\n",
       "      <td>Juan SotoWSH</td>\n",
       "      <td>LF</td>\n",
       "      <td>148</td>\n",
       "      <td>494</td>\n",
       "      <td>110</td>\n",
       "      <td>157</td>\n",
       "      <td>0.318</td>\n",
       "      <td>20</td>\n",
       "      <td>2</td>\n",
       "      <td>29</td>\n",
       "      <td>94</td>\n",
       "      <td>268</td>\n",
       "      <td>140</td>\n",
       "      <td>87</td>\n",
       "      <td>9</td>\n",
       "      <td>0.467</td>\n",
       "      <td>0.543</td>\n",
       "      <td>1.010</td>\n",
       "      <td>7.1</td>\n",
       "    </tr>\n",
       "    <tr>\n",
       "      <th>2</th>\n",
       "      <td>3</td>\n",
       "      <td>Yuli GurrielHOU</td>\n",
       "      <td>1B</td>\n",
       "      <td>140</td>\n",
       "      <td>521</td>\n",
       "      <td>80</td>\n",
       "      <td>165</td>\n",
       "      <td>0.317</td>\n",
       "      <td>31</td>\n",
       "      <td>0</td>\n",
       "      <td>14</td>\n",
       "      <td>79</td>\n",
       "      <td>238</td>\n",
       "      <td>59</td>\n",
       "      <td>66</td>\n",
       "      <td>1</td>\n",
       "      <td>0.383</td>\n",
       "      <td>0.457</td>\n",
       "      <td>0.839</td>\n",
       "      <td>3.7</td>\n",
       "    </tr>\n",
       "    <tr>\n",
       "      <th>3</th>\n",
       "      <td>4</td>\n",
       "      <td>Vladimir Guerrero Jr.TOR</td>\n",
       "      <td>DH</td>\n",
       "      <td>157</td>\n",
       "      <td>588</td>\n",
       "      <td>120</td>\n",
       "      <td>184</td>\n",
       "      <td>0.313</td>\n",
       "      <td>27</td>\n",
       "      <td>1</td>\n",
       "      <td>46</td>\n",
       "      <td>106</td>\n",
       "      <td>351</td>\n",
       "      <td>85</td>\n",
       "      <td>107</td>\n",
       "      <td>4</td>\n",
       "      <td>0.403</td>\n",
       "      <td>0.597</td>\n",
       "      <td>1.000</td>\n",
       "      <td>6.7</td>\n",
       "    </tr>\n",
       "    <tr>\n",
       "      <th>4</th>\n",
       "      <td>5</td>\n",
       "      <td>Michael BrantleyHOU</td>\n",
       "      <td>LF</td>\n",
       "      <td>117</td>\n",
       "      <td>458</td>\n",
       "      <td>68</td>\n",
       "      <td>143</td>\n",
       "      <td>0.312</td>\n",
       "      <td>29</td>\n",
       "      <td>2</td>\n",
       "      <td>8</td>\n",
       "      <td>45</td>\n",
       "      <td>200</td>\n",
       "      <td>33</td>\n",
       "      <td>51</td>\n",
       "      <td>1</td>\n",
       "      <td>0.364</td>\n",
       "      <td>0.437</td>\n",
       "      <td>0.801</td>\n",
       "      <td>2.5</td>\n",
       "    </tr>\n",
       "  </tbody>\n",
       "</table>\n",
       "</div>"
      ],
      "text/plain": [
       "   RK                      Name POS   GP   AB    R    H    AVG  2B  3B  HR  \\\n",
       "0   1        Trea TurnerLAD/WSH  SS  144  581  101  188  0.324  33   3  25   \n",
       "1   2              Juan SotoWSH  LF  148  494  110  157  0.318  20   2  29   \n",
       "2   3           Yuli GurrielHOU  1B  140  521   80  165  0.317  31   0  14   \n",
       "3   4  Vladimir Guerrero Jr.TOR  DH  157  588  120  184  0.313  27   1  46   \n",
       "4   5       Michael BrantleyHOU  LF  117  458   68  143  0.312  29   2   8   \n",
       "\n",
       "   RBI   TB   BB    K  SB    OBP    SLG    OPS  WAR  \n",
       "0   68  302   40  109  32  0.371  0.520  0.891  6.0  \n",
       "1   94  268  140   87   9  0.467  0.543  1.010  7.1  \n",
       "2   79  238   59   66   1  0.383  0.457  0.839  3.7  \n",
       "3  106  351   85  107   4  0.403  0.597  1.000  6.7  \n",
       "4   45  200   33   51   1  0.364  0.437  0.801  2.5  "
      ]
     },
     "metadata": {},
     "output_type": "display_data"
    },
    {
     "data": {
      "text/html": [
       "<div>\n",
       "<style scoped>\n",
       "    .dataframe tbody tr th:only-of-type {\n",
       "        vertical-align: middle;\n",
       "    }\n",
       "\n",
       "    .dataframe tbody tr th {\n",
       "        vertical-align: top;\n",
       "    }\n",
       "\n",
       "    .dataframe thead th {\n",
       "        text-align: right;\n",
       "    }\n",
       "</style>\n",
       "<table border=\"1\" class=\"dataframe\">\n",
       "  <thead>\n",
       "    <tr style=\"text-align: right;\">\n",
       "      <th></th>\n",
       "      <th>rank</th>\n",
       "      <th>Name</th>\n",
       "      <th>AVG</th>\n",
       "    </tr>\n",
       "  </thead>\n",
       "  <tbody>\n",
       "    <tr>\n",
       "      <th>0</th>\n",
       "      <td>1</td>\n",
       "      <td>Trea TurnerLAD/</td>\n",
       "      <td>0.324</td>\n",
       "    </tr>\n",
       "    <tr>\n",
       "      <th>1</th>\n",
       "      <td>2</td>\n",
       "      <td>Juan Soto</td>\n",
       "      <td>0.318</td>\n",
       "    </tr>\n",
       "    <tr>\n",
       "      <th>2</th>\n",
       "      <td>3</td>\n",
       "      <td>Yuli Gurriel</td>\n",
       "      <td>0.317</td>\n",
       "    </tr>\n",
       "    <tr>\n",
       "      <th>3</th>\n",
       "      <td>4</td>\n",
       "      <td>Vladimir Guerrero Jr.</td>\n",
       "      <td>0.313</td>\n",
       "    </tr>\n",
       "    <tr>\n",
       "      <th>4</th>\n",
       "      <td>5</td>\n",
       "      <td>Michael Brantley</td>\n",
       "      <td>0.312</td>\n",
       "    </tr>\n",
       "  </tbody>\n",
       "</table>\n",
       "</div>"
      ],
      "text/plain": [
       "   rank                   Name    AVG\n",
       "0     1        Trea TurnerLAD/  0.324\n",
       "1     2              Juan Soto  0.318\n",
       "2     3           Yuli Gurriel  0.317\n",
       "3     4  Vladimir Guerrero Jr.  0.313\n",
       "4     5       Michael Brantley  0.312"
      ]
     },
     "metadata": {},
     "output_type": "display_data"
    }
   ],
   "source": [
    "\n",
    "display(leaders.raw_data.head())\n",
    "display(leaders.normalized_data.head())"
   ]
  },
  {
   "cell_type": "code",
   "execution_count": null,
   "metadata": {},
   "outputs": [
    {
     "name": "stdout",
     "output_type": "stream",
     "text": [
      "Converted 00_core.ipynb.\n",
      "Converted 98_utils.ipynb.\n",
      "Converted 99_default_standard_lib.ipynb.\n",
      "Converted index.ipynb.\n"
     ]
    }
   ],
   "source": [
    "!nbdev_build_lib"
   ]
  },
  {
   "cell_type": "code",
   "execution_count": null,
   "metadata": {},
   "outputs": [],
   "source": []
  }
 ],
 "metadata": {
  "kernelspec": {
   "display_name": "Python [conda env:py39] *",
   "language": "python",
   "name": "conda-env-py39-py"
  }
 },
 "nbformat": 4,
 "nbformat_minor": 4
}

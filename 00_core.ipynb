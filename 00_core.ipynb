{
 "cells": [
  {
   "cell_type": "code",
   "execution_count": null,
   "metadata": {},
   "outputs": [],
   "source": [
    "# default_exp core"
   ]
  },
  {
   "cell_type": "markdown",
   "metadata": {},
   "source": [
    "# pydantic-pandas\n",
    "\n",
    "> API details."
   ]
  },
  {
   "cell_type": "code",
   "execution_count": null,
   "metadata": {},
   "outputs": [],
   "source": [
    "#hide\n",
    "from nbdev.showdoc import *"
   ]
  },
  {
   "cell_type": "code",
   "execution_count": null,
   "metadata": {},
   "outputs": [],
   "source": [
    "#exporti\n",
    "\n",
    "from pandas.core.frame import DataFrame\n",
    "from pydantic import (\n",
    "    validator,\n",
    "    root_validator\n",
    ")\n",
    "from pydantic import BaseModel as PydanticBaseModel\n",
    "from pydantic.main import ModelMetaclass\n",
    "from pydantic_pandas.default_standard_lib import *\n",
    "from pydantic_pandas.utils import delegates"
   ]
  },
  {
   "cell_type": "code",
   "execution_count": null,
   "metadata": {},
   "outputs": [],
   "source": [
    "#export \n",
    "\n",
    "class TypedArray(pd.Series):\n",
    "    \n",
    "    @classmethod\n",
    "    def __get_validators__(cls):\n",
    "        yield cls.validate_type\n",
    "        \n",
    "    @classmethod\n",
    "    def __modify_schema__(cls,field_schema:Dict)->Dict:\n",
    "        field_schema.update(\n",
    "            type=\"<Pandas Series>\"\n",
    "        )\n",
    "        \n",
    "    @classmethod\n",
    "    def validate_type(cls,val):\n",
    "        print('validating array')\n",
    "        print(val)\n",
    "        return cls(val)\n",
    "    \n",
    "class ArrayMeta(type):\n",
    "    def __getitem__(self,t):\n",
    "        return type('Array', (TypedArray,), {'inner_type':t})\n",
    "    \n",
    "class Array(pd.Series,metaclass=ArrayMeta):\n",
    "    pass\n",
    "\n",
    "def conarray(*args,**kwargs) -> Type[TypedArray]:\n",
    "    \n",
    "    return type('ConstrainedArray',(TypedArray,), kwargs)"
   ]
  },
  {
   "cell_type": "code",
   "execution_count": null,
   "metadata": {},
   "outputs": [],
   "source": [
    "#export \n",
    "\n",
    "class PandasDataFrame(DataFrame):\n",
    "    \"\"\"\n",
    "    Pandas DataFrame Validation\n",
    "    \"\"\"\n",
    "\n",
    "    @classmethod\n",
    "    def __get_validators__(cls):\n",
    "        # one or more validators may be yielded which will be called in the\n",
    "        # order to validate the input, each validator will receive as an input\n",
    "        # the value returned from the previous validator\n",
    "        yield cls.validate\n",
    "\n",
    "    @classmethod\n",
    "    def __modify_schema__(cls, field_schema):\n",
    "        # __modify_schema__ should mutate the dict it receives in place,\n",
    "        # the returned value will be ignored\n",
    "        field_schema.update(\n",
    "            type='Pandas DataFrame'\n",
    "        )\n",
    "\n",
    "    @classmethod\n",
    "    def validate(cls, v):\n",
    "        if not isinstance(v, pd.DataFrame):\n",
    "            raise TypeError(f'Dataframe required. Got {type(v)} instead')\n",
    "        if v.empty:\n",
    "            raise ValueError(\"Dataframe can't be empty\")\n",
    "        return v\n",
    "    def __init__(self,*args,**kwargs):\n",
    "        print('making the pandas data frame')\n",
    "        super(PandasDataFrame,self).__init__(*args,**kwargs)"
   ]
  },
  {
   "cell_type": "code",
   "execution_count": null,
   "metadata": {},
   "outputs": [],
   "source": [
    "#exporti \n",
    "\n",
    "DataFrameModelMetaclass = ForwardRef('DataFrameModelMetaclass')\n",
    "\n",
    "def extract_ddf_from_model_fields(model:ModelMetaclass) -> 'PandasDataFrame':\n",
    "    \"\"\"Returns default df for DataFrameModelMetaclass ._repr_html_() method\"\"\"\n",
    "    d={}\n",
    "    for k,v in model.__fields__.items():\n",
    "        d[k]=[v.required,v.type_]\n",
    "    return pd.DataFrame(d,index=['required','type'])"
   ]
  },
  {
   "cell_type": "code",
   "execution_count": null,
   "metadata": {},
   "outputs": [
    {
     "name": "stdout",
     "output_type": "stream",
     "text": [
      "in DF Meta __new__\n",
      "BaseFrame\n",
      "(<class 'pydantic.main.BaseModel'>, <class '__main__.PandasDataFrame'>)\n",
      "{'__module__': '__main__', '__qualname__': 'BaseFrame', '__doc__': 'Doc from BaseFame', '__init__': <function BaseFrame.__init__ at 0x7fbb2d226c20>, '_base_frame_root_validator': <classmethod object at 0x7fbb2d230650>, '__classcell__': <cell at 0x7fbb2d2304d0: empty>}\n"
     ]
    }
   ],
   "source": [
    "#export \n",
    "\n",
    "class DataFrameModelMetaclass(ModelMetaclass):\n",
    "    def __new__(cls,name,bases,dct):\n",
    "        print(\"in DF Meta __new__\")\n",
    "        print(name)\n",
    "        print(bases)\n",
    "\n",
    "        d = dct.get('__annotations__')\n",
    "        if d:\n",
    "            d = {k:conarray(v) for k,v in d.items()}\n",
    "            dct['__annotations__']=d\n",
    "        print(dct)\n",
    "        model = ModelMetaclass.__new__(cls,name,bases,dct)\n",
    "        model._default_df_ = extract_ddf_from_model_fields(model)\n",
    "        \n",
    "        return model\n",
    "#     def __getitem__(self,t):\n",
    "#         return type('Array', (TypedArray,), {'inner_type':t})\n",
    "    \n",
    "#     def _repr_json_(cls):\n",
    "        \n",
    "#         both_schemas = dict(\n",
    "#             pandas_schema = json.loads(cls._default_df_.to_json()),\n",
    "#             pydantic_schema = cls.schema()\n",
    "#         )\n",
    "#         return both_schemas\n",
    "    \n",
    "    def _repr_html_(cls):\n",
    "        return cls._default_df_.to_html()\n",
    "\n",
    "class BaseFrame(PydanticBaseModel,PandasDataFrame,metaclass=DataFrameModelMetaclass):\n",
    "    \"\"\"Doc from BaseFame\"\"\"\n",
    "    def __init__(self,*args,**kwargs):\n",
    "        print(\"base frame init\")\n",
    "        super(BaseFrame,self).__init__(**kwargs)\n",
    "        super(PandasDataFrame,self).__init__(self.dict())\n",
    "    \n",
    "    @root_validator()\n",
    "    def _base_frame_root_validator(cls,values):\n",
    "        print('In Base Frame Root validator')\n",
    "        return values\n",
    "    "
   ]
  },
  {
   "cell_type": "code",
   "execution_count": null,
   "metadata": {},
   "outputs": [
    {
     "name": "stdout",
     "output_type": "stream",
     "text": [
      "in DF Meta __new__\n",
      "MovieModel\n",
      "(<class '__main__.BaseFrame'>,)\n",
      "{'__module__': '__main__', '__qualname__': 'MovieModel', '__annotations__': {'title': <class '__main__.ConstrainedArray'>, 'year': <class '__main__.ConstrainedArray'>}}\n"
     ]
    }
   ],
   "source": [
    "class MovieModel(BaseFrame):\n",
    "    title: str\n",
    "    year: int"
   ]
  },
  {
   "cell_type": "code",
   "execution_count": null,
   "metadata": {},
   "outputs": [
    {
     "data": {
      "text/plain": [
       "__main__.MovieModel"
      ]
     },
     "execution_count": null,
     "metadata": {},
     "output_type": "execute_result"
    }
   ],
   "source": [
    "MovieModel"
   ]
  },
  {
   "cell_type": "code",
   "execution_count": null,
   "metadata": {},
   "outputs": [
    {
     "data": {
      "text/markdown": [
       "<h2 id=\"MovieModel\" class=\"doc_header\"><code>class</code> <code>MovieModel</code><a href=\"\" class=\"source_link\" style=\"float:right\">[source]</a></h2>\n",
       "\n",
       "> <code>MovieModel</code>(**\\*`args`**, **`title`**:`ConstrainedArray`, **`year`**:`ConstrainedArray`) :: [`BaseFrame`](/pydantic_pandas/core.html#BaseFrame)\n",
       "\n",
       "Doc from BaseFame"
      ],
      "text/plain": [
       "<IPython.core.display.Markdown object>"
      ]
     },
     "metadata": {},
     "output_type": "display_data"
    }
   ],
   "source": [
    "show_doc(MovieModel)"
   ]
  },
  {
   "cell_type": "code",
   "execution_count": null,
   "metadata": {},
   "outputs": [],
   "source": [
    "#MovieModel(title='cocktail',year=1988)"
   ]
  },
  {
   "cell_type": "code",
   "execution_count": null,
   "metadata": {},
   "outputs": [
    {
     "name": "stdout",
     "output_type": "stream",
     "text": [
      "base frame init\n",
      "validating array\n",
      "['Cocktail', 'Cheers', 'That Thing You Do!']\n",
      "validating array\n",
      "[1988, 1982, 1996]\n",
      "In Base Frame Root validator\n"
     ]
    }
   ],
   "source": [
    "movies = MovieModel(\n",
    "        title=['Cocktail','Cheers','That Thing You Do!'],\n",
    "        year=[1988,1982,1996]\n",
    "    )\n"
   ]
  },
  {
   "cell_type": "code",
   "execution_count": null,
   "metadata": {},
   "outputs": [
    {
     "data": {
      "text/html": [
       "<div>\n",
       "<style scoped>\n",
       "    .dataframe tbody tr th:only-of-type {\n",
       "        vertical-align: middle;\n",
       "    }\n",
       "\n",
       "    .dataframe tbody tr th {\n",
       "        vertical-align: top;\n",
       "    }\n",
       "\n",
       "    .dataframe thead th {\n",
       "        text-align: right;\n",
       "    }\n",
       "</style>\n",
       "<table border=\"1\" class=\"dataframe\">\n",
       "  <thead>\n",
       "    <tr style=\"text-align: right;\">\n",
       "      <th></th>\n",
       "      <th>title</th>\n",
       "      <th>year</th>\n",
       "    </tr>\n",
       "  </thead>\n",
       "  <tbody>\n",
       "    <tr>\n",
       "      <th>0</th>\n",
       "      <td>Cocktail</td>\n",
       "      <td>1988</td>\n",
       "    </tr>\n",
       "    <tr>\n",
       "      <th>1</th>\n",
       "      <td>Cheers</td>\n",
       "      <td>1982</td>\n",
       "    </tr>\n",
       "    <tr>\n",
       "      <th>2</th>\n",
       "      <td>That Thing You Do!</td>\n",
       "      <td>1996</td>\n",
       "    </tr>\n",
       "  </tbody>\n",
       "</table>\n",
       "</div>"
      ],
      "text/plain": [
       "MovieModel(title=0              Cocktail\n",
       "1                Cheers\n",
       "2    That Thing You Do!\n",
       "dtype: object, year=0    1988\n",
       "1    1982\n",
       "2    1996\n",
       "dtype: int64, _is_copy=None, _mgr=BlockManager\n",
       "Items: Index(['title', 'year'], dtype='object')\n",
       "Axis 1: RangeIndex(start=0, stop=3, step=1)\n",
       "IntBlock: slice(1, 2, 1), 1 x 3, dtype: int64\n",
       "ObjectBlock: slice(0, 1, 1), 1 x 3, dtype: object, _item_cache={}, _attrs={}, _flags=<Flags(allows_duplicate_labels=True)>)"
      ]
     },
     "execution_count": null,
     "metadata": {},
     "output_type": "execute_result"
    }
   ],
   "source": [
    "movies"
   ]
  },
  {
   "cell_type": "code",
   "execution_count": null,
   "metadata": {},
   "outputs": [
    {
     "name": "stdout",
     "output_type": "stream",
     "text": [
      "base frame init\n",
      "In Base Frame Root validator\n",
      "I wish this worked\n",
      "2 validation errors for MovieModel\n",
      "title\n",
      "  field required (type=value_error.missing)\n",
      "year\n",
      "  field required (type=value_error.missing)\n"
     ]
    }
   ],
   "source": [
    "try:\n",
    "    MovieModel.from_records(movies.to_dict('records'))\n",
    "except Exception as e:\n",
    "    print(\"I wish this worked\")\n",
    "    print(e)"
   ]
  },
  {
   "cell_type": "markdown",
   "metadata": {},
   "source": [
    "## How about Sub-classing ? "
   ]
  },
  {
   "cell_type": "code",
   "execution_count": null,
   "metadata": {},
   "outputs": [
    {
     "name": "stdout",
     "output_type": "stream",
     "text": [
      "in DF Meta __new__\n",
      "DetailedMovieModel\n",
      "(<class '__main__.MovieModel'>,)\n",
      "{'__module__': '__main__', '__qualname__': 'DetailedMovieModel', '__annotations__': {'review': <class '__main__.ConstrainedArray'>, 'stars': <class '__main__.ConstrainedArray'>}}\n"
     ]
    }
   ],
   "source": [
    "class DetailedMovieModel(MovieModel):\n",
    "    review: str\n",
    "    stars: int"
   ]
  },
  {
   "cell_type": "code",
   "execution_count": null,
   "metadata": {},
   "outputs": [
    {
     "name": "stdout",
     "output_type": "stream",
     "text": [
      "base frame init\n",
      "validating array\n",
      "0              Cocktail\n",
      "1                Cheers\n",
      "2    That Thing You Do!\n",
      "dtype: object\n",
      "validating array\n",
      "0    1988\n",
      "1    1982\n",
      "2    1996\n",
      "dtype: int64\n",
      "validating array\n",
      "['Perfect', 'Amazing', 'The Best']\n",
      "validating array\n",
      "[10, 10, 10]\n",
      "In Base Frame Root validator\n"
     ]
    },
    {
     "data": {
      "text/html": [
       "<div>\n",
       "<style scoped>\n",
       "    .dataframe tbody tr th:only-of-type {\n",
       "        vertical-align: middle;\n",
       "    }\n",
       "\n",
       "    .dataframe tbody tr th {\n",
       "        vertical-align: top;\n",
       "    }\n",
       "\n",
       "    .dataframe thead th {\n",
       "        text-align: right;\n",
       "    }\n",
       "</style>\n",
       "<table border=\"1\" class=\"dataframe\">\n",
       "  <thead>\n",
       "    <tr style=\"text-align: right;\">\n",
       "      <th></th>\n",
       "      <th>title</th>\n",
       "      <th>year</th>\n",
       "      <th>review</th>\n",
       "      <th>stars</th>\n",
       "    </tr>\n",
       "  </thead>\n",
       "  <tbody>\n",
       "    <tr>\n",
       "      <th>0</th>\n",
       "      <td>Cocktail</td>\n",
       "      <td>1988</td>\n",
       "      <td>Perfect</td>\n",
       "      <td>10</td>\n",
       "    </tr>\n",
       "    <tr>\n",
       "      <th>1</th>\n",
       "      <td>Cheers</td>\n",
       "      <td>1982</td>\n",
       "      <td>Amazing</td>\n",
       "      <td>10</td>\n",
       "    </tr>\n",
       "    <tr>\n",
       "      <th>2</th>\n",
       "      <td>That Thing You Do!</td>\n",
       "      <td>1996</td>\n",
       "      <td>The Best</td>\n",
       "      <td>10</td>\n",
       "    </tr>\n",
       "  </tbody>\n",
       "</table>\n",
       "</div>"
      ],
      "text/plain": [
       "DetailedMovieModel(title=0              Cocktail\n",
       "1                Cheers\n",
       "2    That Thing You Do!\n",
       "dtype: object, year=0    1988\n",
       "1    1982\n",
       "2    1996\n",
       "dtype: int64, review=0     Perfect\n",
       "1     Amazing\n",
       "2    The Best\n",
       "dtype: object, stars=0    10\n",
       "1    10\n",
       "2    10\n",
       "dtype: int64, _is_copy=None, _mgr=BlockManager\n",
       "Items: Index(['title', 'year', 'review', 'stars'], dtype='object')\n",
       "Axis 1: RangeIndex(start=0, stop=3, step=1)\n",
       "IntBlock: slice(1, 5, 2), 2 x 3, dtype: int64\n",
       "ObjectBlock: slice(0, 4, 2), 2 x 3, dtype: object, _item_cache={}, _attrs={}, _flags=<Flags(allows_duplicate_labels=True)>)"
      ]
     },
     "execution_count": null,
     "metadata": {},
     "output_type": "execute_result"
    }
   ],
   "source": [
    "DetailedMovieModel(\n",
    "    review=['Perfect','Amazing','The Best'],\n",
    "    stars=[10,10,10],\n",
    "    **movies.dict(\n",
    "        include=set(movies.__fields__.keys()),\n",
    "    )\n",
    ")"
   ]
  },
  {
   "cell_type": "code",
   "execution_count": null,
   "metadata": {},
   "outputs": [
    {
     "name": "stdout",
     "output_type": "stream",
     "text": [
      "Converted 00_core.ipynb.\n",
      "Converted 98_utils.ipynb.\n",
      "Converted 99_default_standard_lib.ipynb.\n",
      "Converted core.ipynb.\n",
      "Converted index.ipynb.\n"
     ]
    }
   ],
   "source": [
    "!nbdev_build_lib"
   ]
  },
  {
   "cell_type": "code",
   "execution_count": null,
   "metadata": {},
   "outputs": [],
   "source": []
  }
 ],
 "metadata": {
  "kernelspec": {
   "display_name": "Python 3",
   "language": "python",
   "name": "python3"
  }
 },
 "nbformat": 4,
 "nbformat_minor": 4
}

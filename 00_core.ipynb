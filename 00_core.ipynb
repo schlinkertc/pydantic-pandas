{
 "cells": [
  {
   "cell_type": "code",
   "execution_count": null,
   "metadata": {},
   "outputs": [],
   "source": [
    "# default_exp core"
   ]
  },
  {
   "cell_type": "markdown",
   "metadata": {},
   "source": [
    "# pydantic-pandas\n",
    "\n",
    "> API details."
   ]
  },
  {
   "cell_type": "code",
   "execution_count": null,
   "metadata": {},
   "outputs": [],
   "source": [
    "#hide\n",
    "from nbdev.showdoc import *"
   ]
  },
  {
   "cell_type": "code",
   "execution_count": null,
   "metadata": {},
   "outputs": [],
   "source": [
    "#exporti\n",
    "\n",
    "from pandas.core.frame import DataFrame as PandasDataFrame\n",
    "from pydantic import (\n",
    "    validator,\n",
    "    root_validator\n",
    ")\n",
    "from pydantic import BaseModel as PydanticBaseModel\n",
    "from pydantic.main import ModelMetaclass\n",
    "from pydantic_pandas.default_standard_lib import *\n",
    "from pydantic_pandas.utils import delegates\n",
    "from IPython.display import JSON"
   ]
  },
  {
   "cell_type": "markdown",
   "metadata": {},
   "source": [
    "## DataFrame"
   ]
  },
  {
   "cell_type": "markdown",
   "metadata": {},
   "source": [
    "> subclass Pandas DataFrame to make it play nicely with pydantic"
   ]
  },
  {
   "cell_type": "code",
   "execution_count": null,
   "metadata": {},
   "outputs": [],
   "source": [
    "class DataFrame(PandasDataFrame):\n",
    "    \n",
    "    @classmethod\n",
    "    def __get_validators__(cls):\n",
    "        yield cls.validate\n",
    "    \n",
    "    @classmethod\n",
    "    def __modify_schema__(cls,field_schema):\n",
    "        field_schema.update({'type':'DataFrame'})\n",
    "    \n",
    "    @classmethod\n",
    "    def validate(cls,v):\n",
    "        return cls(v)"
   ]
  },
  {
   "cell_type": "markdown",
   "metadata": {},
   "source": [
    "## Base Model"
   ]
  },
  {
   "cell_type": "markdown",
   "metadata": {},
   "source": [
    "> -  `_repr_json_` for Jupyter display\n",
    "> - json encoders for DataFrame, Array"
   ]
  },
  {
   "cell_type": "code",
   "execution_count": null,
   "metadata": {},
   "outputs": [],
   "source": [
    "class BaseModel(PydanticBaseModel):\n",
    "\n",
    "    def _repr_json_(self):\n",
    "        try:\n",
    "            return json.loads(self.json())\n",
    "        except:\n",
    "            pass\n",
    "            \n",
    "    class Config:\n",
    "        json_encoders = {\n",
    "            DataFrame: lambda df: json.loads(df.to_json()),\n",
    "            np.ndarray: lambda arr: arr.tolist(),\n",
    "            pd.Series: lambda ser: json.loads(ser.to_json(date_format='iso'))\n",
    "        }\n",
    "        "
   ]
  },
  {
   "cell_type": "markdown",
   "metadata": {},
   "source": [
    "#### Regular Model"
   ]
  },
  {
   "cell_type": "code",
   "execution_count": null,
   "metadata": {},
   "outputs": [],
   "source": [
    "class Model(BaseModel):\n",
    "    integer: int\n",
    "    string: str"
   ]
  },
  {
   "cell_type": "code",
   "execution_count": null,
   "metadata": {},
   "outputs": [
    {
     "data": {
      "application/json": {
       "integer": 1,
       "string": "a"
      },
      "text/plain": [
       "Model(integer=1, string='a')"
      ]
     },
     "execution_count": null,
     "metadata": {},
     "output_type": "execute_result"
    }
   ],
   "source": [
    "Model(integer=1,string='a')"
   ]
  },
  {
   "cell_type": "markdown",
   "metadata": {},
   "source": [
    "#### Model with a DataFrame"
   ]
  },
  {
   "cell_type": "code",
   "execution_count": null,
   "metadata": {},
   "outputs": [
    {
     "data": {
      "application/json": {
       "df": {
        "a": {
         "0": 1,
         "1": 2,
         "2": 3
        }
       }
      },
      "text/plain": [
       "Model(df=   a\n",
       "0  1\n",
       "1  2\n",
       "2  3)"
      ]
     },
     "execution_count": null,
     "metadata": {},
     "output_type": "execute_result"
    }
   ],
   "source": [
    "class Model(BaseModel):\n",
    "    df: DataFrame\n",
    "Model(df = pd.DataFrame({'a':[1,2,3]}))"
   ]
  },
  {
   "cell_type": "code",
   "execution_count": null,
   "metadata": {},
   "outputs": [
    {
     "data": {
      "text/plain": [
       "{'title': 'Model',\n",
       " 'type': 'object',\n",
       " 'properties': {'df': {'title': 'Df', 'type': 'DataFrame'}},\n",
       " 'required': ['df']}"
      ]
     },
     "execution_count": null,
     "metadata": {},
     "output_type": "execute_result"
    }
   ],
   "source": [
    "Model.schema()"
   ]
  },
  {
   "cell_type": "markdown",
   "metadata": {},
   "source": [
    "## TypedArray"
   ]
  },
  {
   "cell_type": "code",
   "execution_count": null,
   "metadata": {},
   "outputs": [
    {
     "name": "stderr",
     "output_type": "stream",
     "text": [
      "<ipython-input-99-fe0015481123>:1: DeprecationWarning: Numeric-style type codes are deprecated and will result in an error in the future.\n",
      "  _key_completions_ = list({np.dtype(k).name for k in np.typeDict.keys() if type(k)==str})\n"
     ]
    },
    {
     "data": {
      "text/plain": [
       "['float16',\n",
       " 'uint16',\n",
       " 'bytes',\n",
       " 'complex128',\n",
       " 'uint32',\n",
       " 'object',\n",
       " 'str',\n",
       " 'bool',\n",
       " 'datetime64',\n",
       " 'complex64',\n",
       " 'uint8',\n",
       " 'float64',\n",
       " 'int64',\n",
       " 'int32',\n",
       " 'timedelta64',\n",
       " 'float32',\n",
       " 'void',\n",
       " 'uint64',\n",
       " 'float128',\n",
       " 'int16',\n",
       " 'int8',\n",
       " 'complex256']"
      ]
     },
     "execution_count": null,
     "metadata": {},
     "output_type": "execute_result"
    }
   ],
   "source": [
    "_key_completions_ = list({np.dtype(k).name for k in np.typeDict.keys() if type(k)==str})\n",
    "_key_completions_"
   ]
  },
  {
   "cell_type": "code",
   "execution_count": null,
   "metadata": {},
   "outputs": [],
   "source": [
    "#export \n",
    "from typing import Any\n",
    "from pandas.api.types import pandas_dtype\n",
    "from pydantic.utils import update_not_none\n",
    "\n",
    "class TypedArray(pd.Series):\n",
    "    dtype: Any = np.object_\n",
    "        \n",
    "    @classmethod\n",
    "    def __get_validators__(cls):\n",
    "\n",
    "        yield cls.validate_array\n",
    "    \n",
    "    @classmethod\n",
    "    def __modify_schema__(cls, field_schema: Dict[str, Any]) -> None:\n",
    "\n",
    "        update_not_none(\n",
    "            field_schema,\n",
    "            type='Numpy Array',\n",
    "            inner_type = cls.dtype\n",
    "        )\n",
    "    \n",
    "    @classmethod\n",
    "    def validate_array(cls, array):\n",
    "        dtype = cls.dtype\n",
    "        \n",
    "        if dtype == dt.date or dtype==dt.datetime or dtype=='datetime64':\n",
    "            dtype = pandas_dtype('datetime64[ns]')\n",
    "            \n",
    "        return pd.Series(array,dtype=pandas_dtype(dtype))\n",
    "\n",
    "\n",
    "#exporti\n",
    "\n",
    "class ArrayMeta(type):\n",
    "    def _ipython_key_completions_(self):\n",
    "        return _key_completions_\n",
    "    \n",
    "    def __getitem__(self, dtype):\n",
    "\n",
    "        return type('ConstrainedArray', (TypedArray,), {'dtype': dtype})\n",
    "    \n",
    "\n",
    "#exporti \n",
    "\n",
    "class ConstrainedArray(DataFrame, metaclass=ArrayMeta):\n",
    "    pass"
   ]
  },
  {
   "cell_type": "code",
   "execution_count": null,
   "metadata": {},
   "outputs": [],
   "source": [
    "class Model(BaseModel):\n",
    "    string: ConstrainedArray[str]\n",
    "    date: ConstrainedArray[dt.date]\n",
    "    number: ConstrainedArray[int]"
   ]
  },
  {
   "cell_type": "code",
   "execution_count": null,
   "metadata": {},
   "outputs": [
    {
     "data": {
      "application/json": {
       "date": {
        "0": "1994-06-01T00:00:00.000Z"
       },
       "number": {
        "0": 1,
        "1": 2,
        "2": 3
       },
       "string": {
        "0": "a",
        "1": "b",
        "2": "c"
       }
      },
      "text/plain": [
       "Model(string=0    a\n",
       "1    b\n",
       "2    c\n",
       "dtype: object, date=0   1994-06-01\n",
       "dtype: datetime64[ns], number=0    1\n",
       "1    2\n",
       "2    3\n",
       "dtype: int64)"
      ]
     },
     "execution_count": null,
     "metadata": {},
     "output_type": "execute_result"
    }
   ],
   "source": [
    "model = Model(\n",
    "    string=['a','b','c'],\n",
    "    number=[1,2,3],\n",
    "    date=['1994-06-01']\n",
    ")\n",
    "model"
   ]
  },
  {
   "cell_type": "code",
   "execution_count": null,
   "metadata": {},
   "outputs": [
    {
     "data": {
      "text/html": [
       "<div>\n",
       "<style scoped>\n",
       "    .dataframe tbody tr th:only-of-type {\n",
       "        vertical-align: middle;\n",
       "    }\n",
       "\n",
       "    .dataframe tbody tr th {\n",
       "        vertical-align: top;\n",
       "    }\n",
       "\n",
       "    .dataframe thead th {\n",
       "        text-align: right;\n",
       "    }\n",
       "</style>\n",
       "<table border=\"1\" class=\"dataframe\">\n",
       "  <thead>\n",
       "    <tr style=\"text-align: right;\">\n",
       "      <th></th>\n",
       "      <th>string</th>\n",
       "      <th>date</th>\n",
       "      <th>number</th>\n",
       "    </tr>\n",
       "  </thead>\n",
       "  <tbody>\n",
       "    <tr>\n",
       "      <th>0</th>\n",
       "      <td>a</td>\n",
       "      <td>1994-06-01</td>\n",
       "      <td>1</td>\n",
       "    </tr>\n",
       "    <tr>\n",
       "      <th>1</th>\n",
       "      <td>b</td>\n",
       "      <td>NaT</td>\n",
       "      <td>2</td>\n",
       "    </tr>\n",
       "    <tr>\n",
       "      <th>2</th>\n",
       "      <td>c</td>\n",
       "      <td>NaT</td>\n",
       "      <td>3</td>\n",
       "    </tr>\n",
       "  </tbody>\n",
       "</table>\n",
       "</div>"
      ],
      "text/plain": [
       "  string       date  number\n",
       "0      a 1994-06-01       1\n",
       "1      b        NaT       2\n",
       "2      c        NaT       3"
      ]
     },
     "execution_count": null,
     "metadata": {},
     "output_type": "execute_result"
    }
   ],
   "source": [
    "pd.DataFrame(model.dict())"
   ]
  },
  {
   "cell_type": "markdown",
   "metadata": {},
   "source": [
    "## Base Frame to add validation to the whole model"
   ]
  },
  {
   "cell_type": "code",
   "execution_count": null,
   "metadata": {},
   "outputs": [],
   "source": [
    "from pydantic import root_validator\n",
    "\n",
    "class BaseFrame(BaseModel):\n",
    "    index: Any = None\n",
    "    \n",
    "#     class Config:\n",
    "#         allow_population_by_field_name = True\n",
    "    @root_validator\n",
    "    def validate_nan(cls,values):\n",
    "        df = pd.DataFrame(\n",
    "            index= values.pop('index'),\n",
    "            data=values,\n",
    "            \n",
    "        )\n",
    "\n",
    "        for column,field in cls.__fields__.items():\n",
    "            if field.required:\n",
    "                assert df[column].isna().sum() == 0, f\"required column {column} has nan values\"\n",
    "            elif field.default:\n",
    "                df[column] = df[column].fillna(value = field.default)\n",
    "        return df.reset_index().to_dict()\n",
    "    @property\n",
    "    def df(self):\n",
    "        return pd.DataFrame(\n",
    "            index=self.index,\n",
    "            data = self.dict(exclude={'index'})\n",
    "        )"
   ]
  },
  {
   "cell_type": "code",
   "execution_count": null,
   "metadata": {},
   "outputs": [],
   "source": [
    "from pydantic import Field\n",
    "\n",
    "class Model(BaseFrame):\n",
    "    string: ConstrainedArray[str] = Field('default')\n",
    "    date: ConstrainedArray[dt.date] = Field(None,description='a required date field')\n",
    "    number: ConstrainedArray[int] = None"
   ]
  },
  {
   "cell_type": "code",
   "execution_count": null,
   "metadata": {},
   "outputs": [],
   "source": [
    "m = Model(\n",
    "    index = [0,1],\n",
    "    string = ['a','b'],\n",
    "    date = ['1994-06-01',dt.date.today()],\n",
    "    number = [1,2]\n",
    ")"
   ]
  },
  {
   "cell_type": "markdown",
   "metadata": {},
   "source": [
    "#### What about Aliases?"
   ]
  },
  {
   "cell_type": "code",
   "execution_count": null,
   "metadata": {},
   "outputs": [],
   "source": [
    "class Model(BaseFrame):\n",
    "    string:ConstrainedArray[str] = Field(alias='String Column')\n",
    "    numbers:ConstrainedArray[int] = Field(alias='Number Column')"
   ]
  },
  {
   "cell_type": "code",
   "execution_count": null,
   "metadata": {},
   "outputs": [
    {
     "data": {
      "text/html": [
       "<div>\n",
       "<style scoped>\n",
       "    .dataframe tbody tr th:only-of-type {\n",
       "        vertical-align: middle;\n",
       "    }\n",
       "\n",
       "    .dataframe tbody tr th {\n",
       "        vertical-align: top;\n",
       "    }\n",
       "\n",
       "    .dataframe thead th {\n",
       "        text-align: right;\n",
       "    }\n",
       "</style>\n",
       "<table border=\"1\" class=\"dataframe\">\n",
       "  <thead>\n",
       "    <tr style=\"text-align: right;\">\n",
       "      <th></th>\n",
       "      <th>string</th>\n",
       "      <th>numbers</th>\n",
       "    </tr>\n",
       "  </thead>\n",
       "  <tbody>\n",
       "    <tr>\n",
       "      <th>0</th>\n",
       "      <td>a</td>\n",
       "      <td>1</td>\n",
       "    </tr>\n",
       "    <tr>\n",
       "      <th>1</th>\n",
       "      <td>b</td>\n",
       "      <td>2</td>\n",
       "    </tr>\n",
       "    <tr>\n",
       "      <th>2</th>\n",
       "      <td>c</td>\n",
       "      <td>3</td>\n",
       "    </tr>\n",
       "  </tbody>\n",
       "</table>\n",
       "</div>"
      ],
      "text/plain": [
       "  string  numbers\n",
       "0      a        1\n",
       "1      b        2\n",
       "2      c        3"
      ]
     },
     "execution_count": null,
     "metadata": {},
     "output_type": "execute_result"
    }
   ],
   "source": [
    "model = Model.parse_obj({\n",
    "    \"String Column\":['a','b','c'],\n",
    "    \"Number Column\":[1,2,3]\n",
    "}\n",
    ")\n",
    "model.df"
   ]
  },
  {
   "cell_type": "code",
   "execution_count": null,
   "metadata": {},
   "outputs": [
    {
     "data": {
      "text/html": [
       "<div>\n",
       "<style scoped>\n",
       "    .dataframe tbody tr th:only-of-type {\n",
       "        vertical-align: middle;\n",
       "    }\n",
       "\n",
       "    .dataframe tbody tr th {\n",
       "        vertical-align: top;\n",
       "    }\n",
       "\n",
       "    .dataframe thead th {\n",
       "        text-align: right;\n",
       "    }\n",
       "</style>\n",
       "<table border=\"1\" class=\"dataframe\">\n",
       "  <thead>\n",
       "    <tr style=\"text-align: right;\">\n",
       "      <th></th>\n",
       "      <th>index</th>\n",
       "      <th>String Column</th>\n",
       "      <th>Number Column</th>\n",
       "    </tr>\n",
       "  </thead>\n",
       "  <tbody>\n",
       "    <tr>\n",
       "      <th>0</th>\n",
       "      <td>0</td>\n",
       "      <td>a</td>\n",
       "      <td>1</td>\n",
       "    </tr>\n",
       "    <tr>\n",
       "      <th>1</th>\n",
       "      <td>1</td>\n",
       "      <td>b</td>\n",
       "      <td>2</td>\n",
       "    </tr>\n",
       "    <tr>\n",
       "      <th>2</th>\n",
       "      <td>2</td>\n",
       "      <td>c</td>\n",
       "      <td>3</td>\n",
       "    </tr>\n",
       "  </tbody>\n",
       "</table>\n",
       "</div>"
      ],
      "text/plain": [
       "   index String Column  Number Column\n",
       "0      0             a              1\n",
       "1      1             b              2\n",
       "2      2             c              3"
      ]
     },
     "execution_count": null,
     "metadata": {},
     "output_type": "execute_result"
    }
   ],
   "source": [
    "df = pd.DataFrame(model.dict(by_alias=True))\n",
    "df"
   ]
  },
  {
   "cell_type": "code",
   "execution_count": null,
   "metadata": {},
   "outputs": [
    {
     "data": {
      "application/json": {
       "index": {
        "0": 0,
        "1": 1,
        "2": 2
       },
       "numbers": {
        "0": 1,
        "1": 2,
        "2": 3
       },
       "string": {
        "0": "a",
        "1": "b",
        "2": "c"
       }
      },
      "text/plain": [
       "Model(index={0: 0, 1: 1, 2: 2}, string={0: 'a', 1: 'b', 2: 'c'}, numbers={0: 1, 1: 2, 2: 3})"
      ]
     },
     "execution_count": null,
     "metadata": {},
     "output_type": "execute_result"
    }
   ],
   "source": [
    "Model.parse_obj(df)"
   ]
  },
  {
   "cell_type": "markdown",
   "metadata": {},
   "source": [
    "### Validators"
   ]
  },
  {
   "cell_type": "code",
   "execution_count": null,
   "metadata": {},
   "outputs": [
    {
     "data": {
      "text/plain": [
       "0"
      ]
     },
     "execution_count": null,
     "metadata": {},
     "output_type": "execute_result"
    }
   ],
   "source": [
    "3%3"
   ]
  },
  {
   "cell_type": "code",
   "execution_count": null,
   "metadata": {},
   "outputs": [],
   "source": [
    "from pydantic import validator\n",
    "\n",
    "class Model(BaseFrame):\n",
    "    numbers: ConstrainedArray[int]\n",
    "    fizz: bool = None\n",
    "    buzz: bool = None\n",
    "    \n",
    "    @validator('fizz',always=True)\n",
    "    def _is_fizz(cls,v,values):\n",
    "        return values['numbers'].apply(lambda x: x%3==0)\n",
    "    def"
   ]
  },
  {
   "cell_type": "code",
   "execution_count": null,
   "metadata": {},
   "outputs": [
    {
     "data": {
      "text/html": [
       "<div>\n",
       "<style scoped>\n",
       "    .dataframe tbody tr th:only-of-type {\n",
       "        vertical-align: middle;\n",
       "    }\n",
       "\n",
       "    .dataframe tbody tr th {\n",
       "        vertical-align: top;\n",
       "    }\n",
       "\n",
       "    .dataframe thead th {\n",
       "        text-align: right;\n",
       "    }\n",
       "</style>\n",
       "<table border=\"1\" class=\"dataframe\">\n",
       "  <thead>\n",
       "    <tr style=\"text-align: right;\">\n",
       "      <th></th>\n",
       "      <th>numbers</th>\n",
       "      <th>fizz</th>\n",
       "      <th>buzz</th>\n",
       "    </tr>\n",
       "  </thead>\n",
       "  <tbody>\n",
       "    <tr>\n",
       "      <th>0</th>\n",
       "      <td>1</td>\n",
       "      <td>False</td>\n",
       "      <td>None</td>\n",
       "    </tr>\n",
       "    <tr>\n",
       "      <th>1</th>\n",
       "      <td>2</td>\n",
       "      <td>False</td>\n",
       "      <td>None</td>\n",
       "    </tr>\n",
       "    <tr>\n",
       "      <th>2</th>\n",
       "      <td>3</td>\n",
       "      <td>True</td>\n",
       "      <td>None</td>\n",
       "    </tr>\n",
       "    <tr>\n",
       "      <th>3</th>\n",
       "      <td>4</td>\n",
       "      <td>False</td>\n",
       "      <td>None</td>\n",
       "    </tr>\n",
       "    <tr>\n",
       "      <th>4</th>\n",
       "      <td>5</td>\n",
       "      <td>False</td>\n",
       "      <td>None</td>\n",
       "    </tr>\n",
       "    <tr>\n",
       "      <th>...</th>\n",
       "      <td>...</td>\n",
       "      <td>...</td>\n",
       "      <td>...</td>\n",
       "    </tr>\n",
       "    <tr>\n",
       "      <th>94</th>\n",
       "      <td>95</td>\n",
       "      <td>False</td>\n",
       "      <td>None</td>\n",
       "    </tr>\n",
       "    <tr>\n",
       "      <th>95</th>\n",
       "      <td>96</td>\n",
       "      <td>True</td>\n",
       "      <td>None</td>\n",
       "    </tr>\n",
       "    <tr>\n",
       "      <th>96</th>\n",
       "      <td>97</td>\n",
       "      <td>False</td>\n",
       "      <td>None</td>\n",
       "    </tr>\n",
       "    <tr>\n",
       "      <th>97</th>\n",
       "      <td>98</td>\n",
       "      <td>False</td>\n",
       "      <td>None</td>\n",
       "    </tr>\n",
       "    <tr>\n",
       "      <th>98</th>\n",
       "      <td>99</td>\n",
       "      <td>True</td>\n",
       "      <td>None</td>\n",
       "    </tr>\n",
       "  </tbody>\n",
       "</table>\n",
       "<p>99 rows × 3 columns</p>\n",
       "</div>"
      ],
      "text/plain": [
       "    numbers   fizz  buzz\n",
       "0         1  False  None\n",
       "1         2  False  None\n",
       "2         3   True  None\n",
       "3         4  False  None\n",
       "4         5  False  None\n",
       "..      ...    ...   ...\n",
       "94       95  False  None\n",
       "95       96   True  None\n",
       "96       97  False  None\n",
       "97       98  False  None\n",
       "98       99   True  None\n",
       "\n",
       "[99 rows x 3 columns]"
      ]
     },
     "execution_count": null,
     "metadata": {},
     "output_type": "execute_result"
    }
   ],
   "source": [
    "Model(numbers=range(1,100)).df"
   ]
  },
  {
   "cell_type": "markdown",
   "metadata": {},
   "source": [
    "### Delegate pandas functions to create custom fields"
   ]
  },
  {
   "cell_type": "code",
   "execution_count": null,
   "metadata": {},
   "outputs": [],
   "source": [
    "from pydantic_pandas.utils import delegates"
   ]
  },
  {
   "cell_type": "code",
   "execution_count": null,
   "metadata": {},
   "outputs": [],
   "source": [
    "class PandasDateTime():\n",
    "    kwargs:dict = {}\n",
    "    \n",
    "    @classmethod\n",
    "    def __get_validators__(cls):\n",
    "        yield cls._to_datetime\n",
    "\n",
    "    @classmethod\n",
    "    def _to_datetime(cls,array):\n",
    "        return pd.to_datetime(array,**cls.kwargs)\n",
    "\n",
    "class PandasNumeric():\n",
    "    kwargs:dict = {}\n",
    "    \n",
    "    @classmethod\n",
    "    def __get_validators__(cls):\n",
    "        yield cls._to_numeric\n",
    "\n",
    "    @classmethod\n",
    "    def _to_numeric(cls,array):\n",
    "        return pd.to_numeric(array,**cls.kwargs)\n"
   ]
  },
  {
   "cell_type": "code",
   "execution_count": null,
   "metadata": {},
   "outputs": [],
   "source": [
    "\n",
    "@delegates(pd.to_datetime)\n",
    "def pandas_datetime(default_value=...,**kwargs):\n",
    "    return type('PandasDateTimeType', (PandasDateTime,), {'kwargs':kwargs})\n",
    "\n",
    "@delegates(pd.to_numeric)\n",
    "def pandas_numeric(default_value=...,**kwargs):\n",
    "    return type('PandasNumericType', (PandasNumeric,), {'kwargs':kwargs})"
   ]
  },
  {
   "cell_type": "code",
   "execution_count": null,
   "metadata": {},
   "outputs": [],
   "source": [
    "pd.Categorical()"
   ]
  },
  {
   "cell_type": "code",
   "execution_count": null,
   "metadata": {},
   "outputs": [
    {
     "data": {
      "text/plain": [
       "Period('2021-09', 'M')"
      ]
     },
     "execution_count": null,
     "metadata": {},
     "output_type": "execute_result"
    }
   ],
   "source": [
    "pd.Period(dt.date.today(),freq='m')"
   ]
  },
  {
   "cell_type": "code",
   "execution_count": null,
   "metadata": {},
   "outputs": [],
   "source": [
    "class Model(BaseFrame):\n",
    "    date: pandas_datetime(errors='coerce') = None\n",
    "    numbers: pandas_numeric()"
   ]
  },
  {
   "cell_type": "code",
   "execution_count": null,
   "metadata": {},
   "outputs": [
    {
     "data": {
      "application/json": {
       "date": {
        "0": "1994-06-01T00:00:00",
        "1": "NaT"
       },
       "index": {
        "0": 0,
        "1": 1
       },
       "numbers": {
        "0": 0.1111111111111111,
        "1": 2.718281828459045
       }
      },
      "text/plain": [
       "Model(index={0: 0, 1: 1}, date={0: Timestamp('1994-06-01 00:00:00'), 1: NaT}, numbers={0: 0.1111111111111111, 1: 2.718281828459045})"
      ]
     },
     "execution_count": null,
     "metadata": {},
     "output_type": "execute_result"
    }
   ],
   "source": [
    "Model(\n",
    "    date=['1994-06-01','error'],\n",
    "    numbers = [1/9,np.e],\n",
    "    other_numbers = [1/9,np.e],\n",
    ")"
   ]
  },
  {
   "cell_type": "markdown",
   "metadata": {},
   "source": [
    "## Constrained Frame"
   ]
  },
  {
   "cell_type": "code",
   "execution_count": null,
   "metadata": {},
   "outputs": [],
   "source": [
    "#exporti \n",
    "\n",
    "from typing import Dict, Any, Type\n",
    "from pydantic import ValidationError\n",
    "def update_not_none(mapping: Dict[Any, Any], **update: Any) -> None:\n",
    "    mapping.update({k: v for k, v in update.items() if v is not None})"
   ]
  },
  {
   "cell_type": "code",
   "execution_count": null,
   "metadata": {},
   "outputs": [],
   "source": [
    "#export \n",
    "\n",
    "class TypedFrame(DataFrame):\n",
    "    columns: Optional[list] = None\n",
    "    row_model: Optional[Type[BaseModel]] = None\n",
    "        \n",
    "    @classmethod\n",
    "    def __get_validators__(cls):\n",
    "        yield cls.validate_columns\n",
    "        yield cls.validate_rows\n",
    "    \n",
    "    @classmethod\n",
    "    def __modify_schema__(cls, field_schema: Dict[str, Any]) -> None:\n",
    "        row_model=None\n",
    "        if cls.row_model:\n",
    "            row_model = cls.row_model.schema()\n",
    "        update_not_none(\n",
    "            field_schema,\n",
    "            columns=cls.columns,\n",
    "            row_model=row_model\n",
    "        )\n",
    "    @classmethod\n",
    "    def validate_columns(cls,df):\n",
    "        if cls.columns:\n",
    "            for c in cls.columns:\n",
    "                if c not in df.columns:\n",
    "                    raise ValueError(f\"{c} not found in columns index: {df.columns}\")\n",
    "        return df\n",
    "    \n",
    "    @classmethod\n",
    "    def validate_rows(cls, df):\n",
    "        \n",
    "        if cls.row_model:\n",
    "            parsed = []\n",
    "            \n",
    "            for record in df.to_dict('records'):\n",
    "                try:\n",
    "                    model = cls.row_model.parse_obj(record)\n",
    "                    parsed.append(model.dict())\n",
    "                except ValidationError as e:\n",
    "                    \n",
    "                    if hasattr(cls.row_model.Config,'on_error'):\n",
    "                        if cls.row_model.Config.on_error=='skip':\n",
    "                            continue\n",
    "                    raise e\n",
    "                            \n",
    "            return pd.DataFrame.from_records(parsed)\n",
    "        return df"
   ]
  },
  {
   "cell_type": "code",
   "execution_count": null,
   "metadata": {},
   "outputs": [],
   "source": [
    "#exporti\n",
    "\n",
    "class FrameMeta(type):\n",
    "    def __getitem__(self, constraint):\n",
    "        if type(constraint)==tuple:\n",
    "            return type('ConstrainedFrame', (TypedFrame,), {'columns': constraint})\n",
    "        elif hasattr(constraint,'__get_validators__'):\n",
    "            return type('ConstrainedFrame', (TypedFrame,), {'row_model': constraint})\n",
    "        else:\n",
    "            raise NotImplementedError(f\"The constraint you provided is to compatible with the 'TypedFrame' Object. {constraint} \")\n",
    "    \n",
    "\n",
    "#exporti \n",
    "\n",
    "class ConstrainedFrame(DataFrame, metaclass=FrameMeta):\n",
    "    pass"
   ]
  },
  {
   "cell_type": "markdown",
   "metadata": {},
   "source": [
    "The `conframe` function will allow us to create a constrained frame type with multiple parameters at the expense of some operational overhead and some extra typing. This pattern is lifted from Pydantic functions like \"constr\" and \"confloat\"."
   ]
  },
  {
   "cell_type": "code",
   "execution_count": null,
   "metadata": {},
   "outputs": [],
   "source": [
    "#exporti\n",
    "\n",
    "def conframe(\n",
    "    *,\n",
    "    columns: list = None,\n",
    "    row_model: Type[BaseModel] = None\n",
    ") -> Type[DataFrame]:\n",
    "    # use kwargs then define conf in a dict to aid with IDE type hinting\n",
    "    namespace = dict(columns=columns,row_model=row_model)\n",
    "    return type('ConstrainedFrameValue', (ConstrainedFrame,), namespace)"
   ]
  },
  {
   "cell_type": "markdown",
   "metadata": {},
   "source": [
    "### Example uses for `ConstrainedFrame`"
   ]
  },
  {
   "cell_type": "markdown",
   "metadata": {},
   "source": [
    "#### DataFrames as Model Attributes"
   ]
  },
  {
   "cell_type": "code",
   "execution_count": null,
   "metadata": {},
   "outputs": [
    {
     "name": "stdout",
     "output_type": "stream",
     "text": [
      "float64\n",
      "object\n"
     ]
    }
   ],
   "source": [
    "df = pd.DataFrame(\n",
    "    {\"metric\":['a','b','c'],\n",
    "     \"value\":[1,2,'3']\n",
    "    }\n",
    ")\n",
    "\n",
    "class Record(BaseModel):\n",
    "    metric: str\n",
    "    value: float\n",
    "    not_there: Optional[str]\n",
    "\n",
    "class Model(BaseModel):\n",
    "    # a dataframe that is validated using a row model\n",
    "    validate_with_model: ConstrainedFrame[Record]\n",
    "    validate_with_columns: ConstrainedFrame['metric','value']\n",
    "    validate_with_conframe: DataFrame = conframe(\n",
    "        columns=('metric','value'),\n",
    "        row_model=Record\n",
    "    )\n",
    "\n",
    "model = Model(\n",
    "    validate_with_columns=df,\n",
    "    validate_with_model=df,\n",
    "    validate_with_conframe=df\n",
    ")\n",
    "print(model.validate_with_model.dtypes['value']) # the `Record` Model parse input values into floats\n",
    "print(model.validate_with_columns.dtypes['value']) # validating just the column names took the raw values."
   ]
  },
  {
   "cell_type": "code",
   "execution_count": null,
   "metadata": {},
   "outputs": [
    {
     "data": {
      "text/plain": [
       "Model(validate_with_model=  metric  value not_there\n",
       "0      a    1.0      None\n",
       "1      b    2.0      None\n",
       "2      c    3.0      None, validate_with_columns=  metric value\n",
       "0      a     1\n",
       "1      b     2\n",
       "2      c     3)"
      ]
     },
     "execution_count": null,
     "metadata": {},
     "output_type": "execute_result"
    }
   ],
   "source": [
    "model"
   ]
  },
  {
   "cell_type": "markdown",
   "metadata": {},
   "source": [
    "#### Usage with Validate Agruments Decorator"
   ]
  },
  {
   "cell_type": "code",
   "execution_count": null,
   "metadata": {},
   "outputs": [],
   "source": [
    "from pydantic import validate_arguments,Field\n",
    "\n",
    "class PlayerBattingStats(BaseModel):\n",
    "    player: str = Field(alias='PLAYER')\n",
    "    at_bats: int = Field(alias='AB')\n",
    "    games: int = Field(alias='G')\n",
    "    home_runs: int = Field(alias='HR')\n",
    "    \n",
    "    class Config:\n",
    "        on_error = 'skip'"
   ]
  },
  {
   "cell_type": "code",
   "execution_count": null,
   "metadata": {},
   "outputs": [],
   "source": [
    "@validate_arguments\n",
    "def compute_hr_per_game(df:ConstrainedFrame[PlayerBattingStats],precision=3):\n",
    "    df['batting_average'] = (df['home_runs']/df['games']).round(precision)\n",
    "    return df"
   ]
  },
  {
   "cell_type": "markdown",
   "metadata": {},
   "source": [
    "This is our raw DataFrame."
   ]
  },
  {
   "cell_type": "code",
   "execution_count": null,
   "metadata": {},
   "outputs": [
    {
     "data": {
      "text/html": [
       "<div>\n",
       "<style scoped>\n",
       "    .dataframe tbody tr th:only-of-type {\n",
       "        vertical-align: middle;\n",
       "    }\n",
       "\n",
       "    .dataframe tbody tr th {\n",
       "        vertical-align: top;\n",
       "    }\n",
       "\n",
       "    .dataframe thead th {\n",
       "        text-align: right;\n",
       "    }\n",
       "</style>\n",
       "<table border=\"1\" class=\"dataframe\">\n",
       "  <thead>\n",
       "    <tr style=\"text-align: right;\">\n",
       "      <th></th>\n",
       "      <th>PLAYER</th>\n",
       "      <th>YRS</th>\n",
       "      <th>G</th>\n",
       "      <th>AB</th>\n",
       "      <th>R</th>\n",
       "      <th>H</th>\n",
       "      <th>2B</th>\n",
       "      <th>3B</th>\n",
       "      <th>HR</th>\n",
       "      <th>RBI</th>\n",
       "      <th>BB</th>\n",
       "      <th>SO</th>\n",
       "      <th>SB</th>\n",
       "      <th>CS</th>\n",
       "      <th>BA</th>\n",
       "    </tr>\n",
       "  </thead>\n",
       "  <tbody>\n",
       "    <tr>\n",
       "      <th>NaN</th>\n",
       "      <td>Babe Ruth</td>\n",
       "      <td>22</td>\n",
       "      <td>2503</td>\n",
       "      <td>8399</td>\n",
       "      <td>2174</td>\n",
       "      <td>2873</td>\n",
       "      <td>506</td>\n",
       "      <td>136</td>\n",
       "      <td>714</td>\n",
       "      <td>1983</td>\n",
       "      <td>2056</td>\n",
       "      <td>1330</td>\n",
       "      <td>123</td>\n",
       "      <td>117</td>\n",
       "      <td>.342</td>\n",
       "    </tr>\n",
       "    <tr>\n",
       "      <th>NaN</th>\n",
       "      <td>PLAYER</td>\n",
       "      <td>YRS</td>\n",
       "      <td>G</td>\n",
       "      <td>AB</td>\n",
       "      <td>R</td>\n",
       "      <td>H</td>\n",
       "      <td>2B</td>\n",
       "      <td>3B</td>\n",
       "      <td>HR</td>\n",
       "      <td>RBI</td>\n",
       "      <td>BB</td>\n",
       "      <td>SO</td>\n",
       "      <td>SB</td>\n",
       "      <td>CS</td>\n",
       "      <td>BA</td>\n",
       "    </tr>\n",
       "    <tr>\n",
       "      <th>11.0</th>\n",
       "      <td>Bill Terry</td>\n",
       "      <td>14</td>\n",
       "      <td>1721</td>\n",
       "      <td>6428</td>\n",
       "      <td>1120</td>\n",
       "      <td>2193</td>\n",
       "      <td>373</td>\n",
       "      <td>112</td>\n",
       "      <td>154</td>\n",
       "      <td>1078</td>\n",
       "      <td>537</td>\n",
       "      <td>449</td>\n",
       "      <td>56</td>\n",
       "      <td>6</td>\n",
       "      <td>.341</td>\n",
       "    </tr>\n",
       "    <tr>\n",
       "      <th>NaN</th>\n",
       "      <td>Pete Browning</td>\n",
       "      <td>13</td>\n",
       "      <td>1183</td>\n",
       "      <td>4820</td>\n",
       "      <td>954</td>\n",
       "      <td>1646</td>\n",
       "      <td>295</td>\n",
       "      <td>85</td>\n",
       "      <td>46</td>\n",
       "      <td>0</td>\n",
       "      <td>466</td>\n",
       "      <td>167</td>\n",
       "      <td>258</td>\n",
       "      <td>0</td>\n",
       "      <td>.341</td>\n",
       "    </tr>\n",
       "    <tr>\n",
       "      <th>NaN</th>\n",
       "      <td>Willie Keeler</td>\n",
       "      <td>19</td>\n",
       "      <td>2123</td>\n",
       "      <td>8591</td>\n",
       "      <td>1719</td>\n",
       "      <td>2932</td>\n",
       "      <td>241</td>\n",
       "      <td>145</td>\n",
       "      <td>33</td>\n",
       "      <td>0</td>\n",
       "      <td>524</td>\n",
       "      <td>36</td>\n",
       "      <td>495</td>\n",
       "      <td>0</td>\n",
       "      <td>.341</td>\n",
       "    </tr>\n",
       "    <tr>\n",
       "      <th>14.0</th>\n",
       "      <td>Lou Gehrig</td>\n",
       "      <td>17</td>\n",
       "      <td>2164</td>\n",
       "      <td>8001</td>\n",
       "      <td>1888</td>\n",
       "      <td>2721</td>\n",
       "      <td>534</td>\n",
       "      <td>163</td>\n",
       "      <td>493</td>\n",
       "      <td>1995</td>\n",
       "      <td>1508</td>\n",
       "      <td>790</td>\n",
       "      <td>102</td>\n",
       "      <td>101</td>\n",
       "      <td>.340</td>\n",
       "    </tr>\n",
       "  </tbody>\n",
       "</table>\n",
       "</div>"
      ],
      "text/plain": [
       "             PLAYER  YRS     G    AB     R     H   2B   3B   HR   RBI    BB  \\\n",
       "NaN       Babe Ruth   22  2503  8399  2174  2873  506  136  714  1983  2056   \n",
       "NaN          PLAYER  YRS     G    AB     R     H   2B   3B   HR   RBI    BB   \n",
       "11.0     Bill Terry   14  1721  6428  1120  2193  373  112  154  1078   537   \n",
       "NaN   Pete Browning   13  1183  4820   954  1646  295   85   46     0   466   \n",
       "NaN   Willie Keeler   19  2123  8591  1719  2932  241  145   33     0   524   \n",
       "14.0     Lou Gehrig   17  2164  8001  1888  2721  534  163  493  1995  1508   \n",
       "\n",
       "        SO   SB   CS    BA  \n",
       "NaN   1330  123  117  .342  \n",
       "NaN     SO   SB   CS    BA  \n",
       "11.0   449   56    6  .341  \n",
       "NaN    167  258    0  .341  \n",
       "NaN     36  495    0  .341  \n",
       "14.0   790  102  101  .340  "
      ]
     },
     "execution_count": null,
     "metadata": {},
     "output_type": "execute_result"
    }
   ],
   "source": [
    "df = pd.read_html(\"https://www.espn.com/mlb/history/leaders\",header=1,index_col=0)[0]\n",
    "df.iloc[9:15]"
   ]
  },
  {
   "cell_type": "markdown",
   "metadata": {},
   "source": [
    "Some headers are mixed into the table and yield bad data. Those rows are removed during validation because they don't conform to the row model."
   ]
  },
  {
   "cell_type": "code",
   "execution_count": null,
   "metadata": {},
   "outputs": [
    {
     "data": {
      "text/html": [
       "<div>\n",
       "<style scoped>\n",
       "    .dataframe tbody tr th:only-of-type {\n",
       "        vertical-align: middle;\n",
       "    }\n",
       "\n",
       "    .dataframe tbody tr th {\n",
       "        vertical-align: top;\n",
       "    }\n",
       "\n",
       "    .dataframe thead th {\n",
       "        text-align: right;\n",
       "    }\n",
       "</style>\n",
       "<table border=\"1\" class=\"dataframe\">\n",
       "  <thead>\n",
       "    <tr style=\"text-align: right;\">\n",
       "      <th></th>\n",
       "      <th>player</th>\n",
       "      <th>at_bats</th>\n",
       "      <th>games</th>\n",
       "      <th>home_runs</th>\n",
       "      <th>batting_average</th>\n",
       "    </tr>\n",
       "  </thead>\n",
       "  <tbody>\n",
       "    <tr>\n",
       "      <th>9</th>\n",
       "      <td>Babe Ruth</td>\n",
       "      <td>8399</td>\n",
       "      <td>2503</td>\n",
       "      <td>714</td>\n",
       "      <td>0.285</td>\n",
       "    </tr>\n",
       "    <tr>\n",
       "      <th>10</th>\n",
       "      <td>Bill Terry</td>\n",
       "      <td>6428</td>\n",
       "      <td>1721</td>\n",
       "      <td>154</td>\n",
       "      <td>0.089</td>\n",
       "    </tr>\n",
       "    <tr>\n",
       "      <th>11</th>\n",
       "      <td>Pete Browning</td>\n",
       "      <td>4820</td>\n",
       "      <td>1183</td>\n",
       "      <td>46</td>\n",
       "      <td>0.039</td>\n",
       "    </tr>\n",
       "    <tr>\n",
       "      <th>12</th>\n",
       "      <td>Willie Keeler</td>\n",
       "      <td>8591</td>\n",
       "      <td>2123</td>\n",
       "      <td>33</td>\n",
       "      <td>0.016</td>\n",
       "    </tr>\n",
       "    <tr>\n",
       "      <th>13</th>\n",
       "      <td>Lou Gehrig</td>\n",
       "      <td>8001</td>\n",
       "      <td>2164</td>\n",
       "      <td>493</td>\n",
       "      <td>0.228</td>\n",
       "    </tr>\n",
       "    <tr>\n",
       "      <th>14</th>\n",
       "      <td>George Sisler</td>\n",
       "      <td>8267</td>\n",
       "      <td>2055</td>\n",
       "      <td>102</td>\n",
       "      <td>0.050</td>\n",
       "    </tr>\n",
       "  </tbody>\n",
       "</table>\n",
       "</div>"
      ],
      "text/plain": [
       "           player  at_bats  games  home_runs  batting_average\n",
       "9       Babe Ruth     8399   2503        714            0.285\n",
       "10     Bill Terry     6428   1721        154            0.089\n",
       "11  Pete Browning     4820   1183         46            0.039\n",
       "12  Willie Keeler     8591   2123         33            0.016\n",
       "13     Lou Gehrig     8001   2164        493            0.228\n",
       "14  George Sisler     8267   2055        102            0.050"
      ]
     },
     "execution_count": null,
     "metadata": {},
     "output_type": "execute_result"
    }
   ],
   "source": [
    "compute_hr_per_game(df).iloc[9:15]"
   ]
  },
  {
   "cell_type": "code",
   "execution_count": null,
   "metadata": {},
   "outputs": [],
   "source": [
    "from pydantic import HttpUrl,validator\n",
    "\n",
    "class BattingLeaderRecord(BaseModel):\n",
    "    rank: int = Field(alias='RK')\n",
    "    Name: str\n",
    "    AVG: float\n",
    "        \n",
    "    @validator('Name')\n",
    "    def _remove_team_from_name(cls,v):\n",
    "        \"\"\"remove the last 3 letters from the name column\"\"\"\n",
    "        return v[0:-3]"
   ]
  },
  {
   "cell_type": "code",
   "execution_count": null,
   "metadata": {},
   "outputs": [],
   "source": [
    "class BattingAverageLeaders(BaseModel):\n",
    "    url: HttpUrl = \"https://www.espn.com/mlb/stats/player/_/view/batting/table/batting/sort/avg/dir/desc\"\n",
    "    raw_data: DataFrame\n",
    "    normalized_data: ConstrainedFrame[BattingLeaderRecord]\n",
    "    timestamp:dt.date=Field(\n",
    "        default_factory=lambda: dt.date.today()\n",
    "    )\n",
    "    \n",
    "    def __init__(\n",
    "        self,\n",
    "        url = \"https://www.espn.com/mlb/stats/player/_/view/batting/table/batting/sort/avg/dir/desc\",\n",
    "    ):\n",
    "        raw_data = pd.concat(pd.read_html(url)[0:2],axis=1)\n",
    "        super().__init__(\n",
    "            raw_data=raw_data,\n",
    "            normalized_data=raw_data\n",
    "        )\n",
    "        \n",
    "        "
   ]
  },
  {
   "cell_type": "code",
   "execution_count": null,
   "metadata": {},
   "outputs": [
    {
     "data": {
      "text/plain": [
       "__main__.BattingAverageLeaders"
      ]
     },
     "execution_count": null,
     "metadata": {},
     "output_type": "execute_result"
    }
   ],
   "source": [
    "BattingAverageLeaders"
   ]
  },
  {
   "cell_type": "code",
   "execution_count": null,
   "metadata": {},
   "outputs": [
    {
     "data": {
      "text/plain": [
       "BattingAverageLeaders(url='https://www.espn.com/mlb/stats/player/_/view/batting/table/batting/sort/avg/dir/desc', raw_data=    RK                      Name POS   GP   AB    R    H    AVG  2B  3B  HR  \\\n",
       "0    1    Frank SchwindelOAK/CHC  1B   60  224   40   76  0.339  18   1  14   \n",
       "1    2            Trea TurnerWSH  SS  143  576  100  187  0.325  33   3  25   \n",
       "2    3              Juan SotoWSH  LF  149  494  110  157  0.318  20   2  29   \n",
       "3    4           Yuli GurrielHOU  1B  142  521   80  165  0.317  31   0  14   \n",
       "4    5  Vladimir Guerrero Jr.TOR  DH  157  588  120  184  0.313  27   1  46   \n",
       "5    6       Michael BrantleyHOU  LF  118  458   68  143  0.312  29   2   8   \n",
       "6    7         Starling MarteMIA  CF  116  454   86  141  0.311  27   2  12   \n",
       "7    8       Nick CastellanosCIN  RF  135  523   94  162  0.310  37   1  33   \n",
       "8    9           Bryce HarperPHI  RF  137  474   99  146  0.308  40   1  34   \n",
       "9   10        Adam FrazierPIT/SD  2B  150  561   82  172  0.307  34   5   5   \n",
       "10  11        Brandon CrawfordSF  SS  133  464   75  140  0.302  29   3  23   \n",
       "11  12           Austin RileyATL  3B  156  577   89  174  0.302  32   1  32   \n",
       "12  13             Nicky LopezKC  2B  147  485   76  146  0.301  21   6   2   \n",
       "13  14           Tim AndersonCHW  SS  120  515   92  155  0.301  28   2  17   \n",
       "14  15        Freddie FreemanATL  1B  156  591  118  177  0.299  25   2  31   \n",
       "15  16         Bryan ReynoldsPIT  LF  155  550   91  164  0.298  34   7  24   \n",
       "16  17      Teoscar HernandezTOR  RF  139  534   90  159  0.298  29   0  31   \n",
       "17  18         Cedric MullinsBAL  CF  155  586   89  174  0.297  37   5  30   \n",
       "18  19        Xander BogaertsBOS  SS  141  517   88  153  0.296  34   1  23   \n",
       "19  20       Bryan De La CruzMIA  RF   54  186   17   55  0.296   7   2   5   \n",
       "20  21            Bo BichetteTOR  SS  155  624  117  184  0.295  27   1  28   \n",
       "21  22       Paul GoldschmidtSTL  1B  155  594  101  175  0.295  35   2  31   \n",
       "22  23              Ty FranceSEA  3B  148  557   81  163  0.293  30   1  18   \n",
       "23  24            Jean SeguraPHI  SS  130  510   76  149  0.292  27   3  14   \n",
       "24  25            Kyle TuckerHOU  LF  137  492   80  143  0.291  36   3  28   \n",
       "25  26           Wander FrancoTB  SS   66  262   51   76  0.290  18   5   7   \n",
       "26  27           Alex VerdugoBOS  LF  145  531   88  154  0.290  31   2  13   \n",
       "27  28          J.D. MartinezBOS  LF  147  558   90  160  0.287  41   3  28   \n",
       "28  29        Alcides EscobarWSH  SS   72  307   51   88  0.287  20   2   3   \n",
       "29  30            Aaron JudgeNYY  RF  144  536   87  153  0.285  24   0  37   \n",
       "30  31          Josh HarrisonWSH  2B  136  496   58  140  0.282  33   2   8   \n",
       "31  32          Tyler O'NeillSTL  LF  137  468   85  132  0.282  25   1  32   \n",
       "32  33      Fernando Tatis Jr.SD  SS  125  461   98  130  0.282  29   0  41   \n",
       "33  34           Amed RosarioCLE  SS  140  543   74  153  0.282  25   6  11   \n",
       "34  35    Lourdes Gurriel Jr.TOR  LF  139  492   61  138  0.280  28   2  21   \n",
       "35  36         Whit MerrifieldKC  RF  158  646   95  180  0.279  41   3  10   \n",
       "36  37           Manny MachadoSD  3B  149  551   90  153  0.278  31   2  27   \n",
       "37  38          Salvador PerezKC   C  157  606   87  168  0.277  23   0  48   \n",
       "38  39          Carlos CorreaHOU  SS  145  545  101  151  0.277  34   1  24   \n",
       "39  40              C.J. CronCOL  1B  140  462   69  128  0.277  30   1  28   \n",
       "40  41        Jonathan SchoopDET  2B  155  611   82  169  0.277  29   1  21   \n",
       "41  42         Yordan AlvarezHOU  DH  141  521   91  144  0.276  33   1  32   \n",
       "42  43          Rafael DeversBOS  3B  152  572   97  158  0.276  37   1  35   \n",
       "43  44      Giancarlo StantonNYY  DH  136  497   62  137  0.276  18   0  35   \n",
       "44  45           Raimel TapiaCOL  LF  134  473   69  130  0.275  26   2   6   \n",
       "45  46            Jose AltuveHOU  2B  142  587  114  161  0.274  30   1  31   \n",
       "46  47          Justin TurnerLAD  3B  146  518   82  142  0.274  21   0  25   \n",
       "47  48             Matt OlsonOAK  1B  153  548  100  150  0.274  35   0  38   \n",
       "48  49      Jeimer CandelarioDET  3B  148  550   73  150  0.273  42   3  16   \n",
       "49  49          J.P. CrawfordSEA  SS  156  605   88  165  0.273  37   0   9   \n",
       "\n",
       "    RBI   TB   BB    K  SB    OBP    SLG    OPS  WAR  \n",
       "0    41  138   16   38   2  0.386  0.616  1.002  1.6  \n",
       "1    67  301   40  107  32  0.372  0.523  0.895  6.0  \n",
       "2    94  268  140   87   9  0.467  0.543  1.010  7.1  \n",
       "3    79  238   59   66   1  0.383  0.457  0.839  3.7  \n",
       "4   106  351   85  107   4  0.403  0.597  1.000  6.7  \n",
       "5    45  200   33   51   1  0.364  0.437  0.801  2.5  \n",
       "6    54  208   43   97  45  0.384  0.458  0.842  4.6  \n",
       "7    97  300   39  120   3  0.362  0.574  0.936  3.1  \n",
       "8    82  290   99  129  13  0.430  0.612  1.041  5.7  \n",
       "9    42  231   47   68  10  0.370  0.412  0.782  4.0  \n",
       "10   89  244   56  102  11  0.378  0.526  0.904  5.6  \n",
       "11  103  304   52  163   0  0.367  0.527  0.894  5.7  \n",
       "12   43  185   46   72  21  0.364  0.381  0.746  4.0  \n",
       "13   59  238   21  119  18  0.329  0.462  0.791  4.0  \n",
       "14   82  299   84  105   8  0.392  0.506  0.898  4.5  \n",
       "15   89  284   74  118   5  0.387  0.516  0.903  5.8  \n",
       "16  112  281   35  143  11  0.348  0.526  0.874  4.3  \n",
       "17   59  311   59  121  30  0.366  0.531  0.897  6.0  \n",
       "18   79  258   55  110   5  0.365  0.499  0.864  4.7  \n",
       "19   19   81   17   51   1  0.356  0.435  0.792  1.3  \n",
       "20  101  297   39  135  24  0.340  0.476  0.816  5.2  \n",
       "21   98  307   67  134  12  0.367  0.517  0.884  6.2  \n",
       "22   72  249   44  105   0  0.369  0.447  0.816  4.1  \n",
       "23   58  224   39   76   9  0.351  0.439  0.790  3.8  \n",
       "24   88  269   51   88  14  0.355  0.547  0.902  5.1  \n",
       "25   36  125   24   36   2  0.353  0.477  0.830  3.2  \n",
       "26   61  228   51   92   6  0.354  0.429  0.783  2.3  \n",
       "27   99  291   54  146   0  0.349  0.522  0.870  2.6  \n",
       "28   27  121   15   52   3  0.336  0.394  0.730  1.5  \n",
       "29   95  288   73  156   6  0.371  0.537  0.908  5.8  \n",
       "30   59  201   31   73   9  0.345  0.405  0.750  2.1  \n",
       "31   77  255   38  165  14  0.349  0.545  0.894  5.7  \n",
       "32   95  282   62  145  25  0.367  0.612  0.978  6.5  \n",
       "33   55  223   28  119  12  0.318  0.411  0.729  2.0  \n",
       "34   84  233   32  102   1  0.323  0.474  0.797  3.1  \n",
       "35   73  257   39  100  40  0.318  0.398  0.716  3.6  \n",
       "36  101  269   61  100  12  0.347  0.488  0.835  5.0  \n",
       "37  121  335   27  165   1  0.318  0.553  0.871  5.4  \n",
       "38   88  259   74  114   0  0.363  0.475  0.838  7.0  \n",
       "39   90  244   58  116   1  0.371  0.528  0.899  3.1  \n",
       "40   82  263   36  130   1  0.319  0.430  0.750  2.1  \n",
       "41  101  275   50  140   1  0.347  0.528  0.875  2.9  \n",
       "42  108  302   62  141   5  0.352  0.528  0.880  3.2  \n",
       "43   96  260   61  151   0  0.356  0.523  0.880  3.3  \n",
       "44   50  178   40   69  20  0.330  0.376  0.706  1.4  \n",
       "45   82  286   66   90   5  0.348  0.487  0.836  4.3  \n",
       "46   83  238   60   97   2  0.359  0.459  0.819  3.6  \n",
       "47  109  299   87  108   4  0.376  0.546  0.921  5.6  \n",
       "48   66  246   63  135   0  0.352  0.447  0.799  3.5  \n",
       "49   52  229   55  111   3  0.335  0.379  0.714  3.7  , normalized_data=    rank                   Name    AVG\n",
       "0      1    Frank SchwindelOAK/  0.339\n",
       "1      2            Trea Turner  0.325\n",
       "2      3              Juan Soto  0.318\n",
       "3      4           Yuli Gurriel  0.317\n",
       "4      5  Vladimir Guerrero Jr.  0.313\n",
       "5      6       Michael Brantley  0.312\n",
       "6      7         Starling Marte  0.311\n",
       "7      8       Nick Castellanos  0.310\n",
       "8      9           Bryce Harper  0.308\n",
       "9     10        Adam FrazierPIT  0.307\n",
       "10    11        Brandon Crawfor  0.302\n",
       "11    12           Austin Riley  0.302\n",
       "12    13             Nicky Lope  0.301\n",
       "13    14           Tim Anderson  0.301\n",
       "14    15        Freddie Freeman  0.299\n",
       "15    16         Bryan Reynolds  0.298\n",
       "16    17      Teoscar Hernandez  0.298\n",
       "17    18         Cedric Mullins  0.297\n",
       "18    19        Xander Bogaerts  0.296\n",
       "19    20       Bryan De La Cruz  0.296\n",
       "20    21            Bo Bichette  0.295\n",
       "21    22       Paul Goldschmidt  0.295\n",
       "22    23              Ty France  0.293\n",
       "23    24            Jean Segura  0.292\n",
       "24    25            Kyle Tucker  0.291\n",
       "25    26           Wander Franc  0.290\n",
       "26    27           Alex Verdugo  0.290\n",
       "27    28          J.D. Martinez  0.287\n",
       "28    29        Alcides Escobar  0.287\n",
       "29    30            Aaron Judge  0.285\n",
       "30    31          Josh Harrison  0.282\n",
       "31    32          Tyler O'Neill  0.282\n",
       "32    33      Fernando Tatis Jr  0.282\n",
       "33    34           Amed Rosario  0.282\n",
       "34    35    Lourdes Gurriel Jr.  0.280\n",
       "35    36         Whit Merrifiel  0.279\n",
       "36    37           Manny Machad  0.278\n",
       "37    38          Salvador Pere  0.277\n",
       "38    39          Carlos Correa  0.277\n",
       "39    40              C.J. Cron  0.277\n",
       "40    41        Jonathan Schoop  0.277\n",
       "41    42         Yordan Alvarez  0.276\n",
       "42    43          Rafael Devers  0.276\n",
       "43    44      Giancarlo Stanton  0.276\n",
       "44    45           Raimel Tapia  0.275\n",
       "45    46            Jose Altuve  0.274\n",
       "46    47          Justin Turner  0.274\n",
       "47    48             Matt Olson  0.274\n",
       "48    49      Jeimer Candelario  0.273\n",
       "49    49          J.P. Crawford  0.273, timestamp=datetime.date(2021, 9, 30))"
      ]
     },
     "execution_count": null,
     "metadata": {},
     "output_type": "execute_result"
    }
   ],
   "source": [
    "leaders = BattingAverageLeaders()\n",
    "leaders"
   ]
  },
  {
   "cell_type": "code",
   "execution_count": null,
   "metadata": {},
   "outputs": [],
   "source": [
    "assert type(leaders.timestamp)==str\n",
    "display(leaders.raw_data.head())\n",
    "display(leaders.normalized_data.head())"
   ]
  },
  {
   "cell_type": "code",
   "execution_count": null,
   "metadata": {},
   "outputs": [],
   "source": [
    "#export \n",
    "\n",
    "class TypedArray(pd.Series):\n",
    "    \n",
    "    @classmethod\n",
    "    def __get_validators__(cls):\n",
    "        yield cls.validate_type\n",
    "        \n",
    "    @classmethod\n",
    "    def __modify_schema__(cls,field_schema:Dict)->Dict:\n",
    "        field_schema.update(\n",
    "            type=\"<Pandas Series>\"\n",
    "        )\n",
    "        \n",
    "    @classmethod\n",
    "    def validate_type(cls,val):\n",
    "        print('validating array')\n",
    "        print(val)\n",
    "        return cls(val)\n",
    "    \n",
    "class ArrayMeta(type):\n",
    "    def __getitem__(self,t):\n",
    "        return type('Array', (TypedArray,), {'inner_type':t})\n",
    "    \n",
    "class Array(pd.Series,metaclass=ArrayMeta):\n",
    "    pass\n",
    "\n",
    "def conarray(*args,**kwargs) -> Type[TypedArray]:\n",
    "    \n",
    "    return type('ConstrainedArray',(TypedArray,), kwargs)"
   ]
  },
  {
   "cell_type": "code",
   "execution_count": null,
   "metadata": {},
   "outputs": [],
   "source": [
    "#export \n",
    "\n",
    "class PandasDataFrame(DataFrame):\n",
    "    \"\"\"\n",
    "    Pandas DataFrame Validation\n",
    "    \"\"\"\n",
    "\n",
    "    @classmethod\n",
    "    def __get_validators__(cls):\n",
    "        # one or more validators may be yielded which will be called in the\n",
    "        # order to validate the input, each validator will receive as an input\n",
    "        # the value returned from the previous validator\n",
    "        yield cls.validate\n",
    "\n",
    "    @classmethod\n",
    "    def __modify_schema__(cls, field_schema):\n",
    "        # __modify_schema__ should mutate the dict it receives in place,\n",
    "        # the returned value will be ignored\n",
    "        field_schema.update(\n",
    "            type='Pandas DataFrame'\n",
    "        )\n",
    "\n",
    "    @classmethod\n",
    "    def validate(cls, v):\n",
    "        if not isinstance(v, pd.DataFrame):\n",
    "            raise TypeError(f'Dataframe required. Got {type(v)} instead')\n",
    "        if v.empty:\n",
    "            raise ValueError(\"Dataframe can't be empty\")\n",
    "        return v\n",
    "    def __init__(self,*args,**kwargs):\n",
    "        print('making the pandas data frame')\n",
    "        super(PandasDataFrame,self).__init__(*args,**kwargs)"
   ]
  },
  {
   "cell_type": "code",
   "execution_count": null,
   "metadata": {},
   "outputs": [],
   "source": [
    "#exporti \n",
    "\n",
    "DataFrameModelMetaclass = ForwardRef('DataFrameModelMetaclass')\n",
    "\n",
    "def extract_ddf_from_model_fields(model:ModelMetaclass) -> 'PandasDataFrame':\n",
    "    \"\"\"Returns default df for DataFrameModelMetaclass ._repr_html_() method\"\"\"\n",
    "    d={}\n",
    "    for k,v in model.__fields__.items():\n",
    "        d[k]=[v.required,v.type_]\n",
    "    return pd.DataFrame(d,index=['required','type'])"
   ]
  },
  {
   "cell_type": "code",
   "execution_count": null,
   "metadata": {},
   "outputs": [],
   "source": [
    "#export \n",
    "\n",
    "class DataFrameModelMetaclass(ModelMetaclass):\n",
    "    def __new__(cls,name,bases,dct):\n",
    "        print(\"in DF Meta __new__\")\n",
    "        print(name)\n",
    "        print(bases)\n",
    "\n",
    "        d = dct.get('__annotations__')\n",
    "        if d:\n",
    "            d = {k:conarray(v) for k,v in d.items()}\n",
    "            dct['__annotations__']=d\n",
    "        print(dct)\n",
    "        model = ModelMetaclass.__new__(cls,name,bases,dct)\n",
    "        model._default_df_ = extract_ddf_from_model_fields(model)\n",
    "        \n",
    "        return model\n",
    "#     def __getitem__(self,t):\n",
    "#         return type('Array', (TypedArray,), {'inner_type':t})\n",
    "    \n",
    "#     def _repr_json_(cls):\n",
    "        \n",
    "#         both_schemas = dict(\n",
    "#             pandas_schema = json.loads(cls._default_df_.to_json()),\n",
    "#             pydantic_schema = cls.schema()\n",
    "#         )\n",
    "#         return both_schemas\n",
    "    \n",
    "    def _repr_html_(cls):\n",
    "        return cls._default_df_.to_html()\n",
    "\n",
    "class BaseFrame(PydanticBaseModel,PandasDataFrame,metaclass=DataFrameModelMetaclass):\n",
    "    \"\"\"Doc from BaseFame\"\"\"\n",
    "    def __init__(self,*args,**kwargs):\n",
    "        print(\"base frame init\")\n",
    "        super(BaseFrame,self).__init__(**kwargs)\n",
    "        super(PandasDataFrame,self).__init__(self.dict())\n",
    "    \n",
    "    @root_validator()\n",
    "    def _base_frame_root_validator(cls,values):\n",
    "        print('In Base Frame Root validator')\n",
    "        return values\n",
    "    "
   ]
  },
  {
   "cell_type": "code",
   "execution_count": null,
   "metadata": {},
   "outputs": [],
   "source": [
    "class MovieModel(BaseFrame):\n",
    "    title: str\n",
    "    year: int"
   ]
  },
  {
   "cell_type": "code",
   "execution_count": null,
   "metadata": {},
   "outputs": [],
   "source": [
    "MovieModel"
   ]
  },
  {
   "cell_type": "code",
   "execution_count": null,
   "metadata": {},
   "outputs": [],
   "source": [
    "#MovieModel(title='cocktail',year=1988)"
   ]
  },
  {
   "cell_type": "code",
   "execution_count": null,
   "metadata": {},
   "outputs": [],
   "source": [
    "movies = MovieModel(\n",
    "        title=['Cocktail','Cheers','That Thing You Do!'],\n",
    "        year=[1988,1982,1996]\n",
    "    )\n"
   ]
  },
  {
   "cell_type": "code",
   "execution_count": null,
   "metadata": {},
   "outputs": [],
   "source": [
    "movies"
   ]
  },
  {
   "cell_type": "code",
   "execution_count": null,
   "metadata": {},
   "outputs": [],
   "source": [
    "try:\n",
    "    MovieModel.from_records(movies.to_dict('records'))\n",
    "except Exception as e:\n",
    "    print(\"I wish this worked\")\n",
    "    print(e)"
   ]
  },
  {
   "cell_type": "markdown",
   "metadata": {},
   "source": [
    "## How about Sub-classing ? "
   ]
  },
  {
   "cell_type": "code",
   "execution_count": null,
   "metadata": {},
   "outputs": [],
   "source": [
    "class DetailedMovieModel(MovieModel):\n",
    "    review: str\n",
    "    stars: int"
   ]
  },
  {
   "cell_type": "code",
   "execution_count": null,
   "metadata": {},
   "outputs": [],
   "source": [
    "DetailedMovieModel(\n",
    "    review=['Perfect','Amazing','The Best'],\n",
    "    stars=[10,10,10],\n",
    "    **movies.dict(\n",
    "        include=set(movies.__fields__.keys()),\n",
    "    )\n",
    ")"
   ]
  },
  {
   "cell_type": "code",
   "execution_count": null,
   "metadata": {},
   "outputs": [],
   "source": [
    "!nbdev_build_lib"
   ]
  },
  {
   "cell_type": "code",
   "execution_count": null,
   "metadata": {},
   "outputs": [],
   "source": []
  }
 ],
 "metadata": {
  "kernelspec": {
   "display_name": "Python [conda env:py39] *",
   "language": "python",
   "name": "conda-env-py39-py"
  }
 },
 "nbformat": 4,
 "nbformat_minor": 4
}

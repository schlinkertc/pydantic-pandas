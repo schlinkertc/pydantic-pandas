{
 "cells": [
  {
   "cell_type": "code",
   "execution_count": null,
   "id": "4f698f52-4cb2-49fb-92f1-96338fa0da40",
   "metadata": {},
   "outputs": [],
   "source": [
    "# default_exp default_standard_lib"
   ]
  },
  {
   "cell_type": "code",
   "execution_count": null,
   "id": "8f5fe55f-20f8-480a-b47e-a05882c436a2",
   "metadata": {},
   "outputs": [],
   "source": [
    "#export \n",
    "\n",
    "import pandas as pd\n",
    "import numpy as np\n",
    "import datetime as dt\n",
    "import re\n",
    "import json\n",
    "\n",
    "from typing import (\n",
    "    List,Dict,Tuple,\n",
    "    Optional,Union,\n",
    "    Any,Type,ForwardRef\n",
    ")\n",
    "\n",
    "_all_ = ['pd','np','dt','List', 'Dict', 'Tuple', 'Optional', 'Union', 'Any', 'Type', 'ForwardRef','json']"
   ]
  },
  {
   "cell_type": "code",
   "execution_count": null,
   "id": "294f2512-7703-4927-af7d-ca3be03d6972",
   "metadata": {},
   "outputs": [
    {
     "name": "stdout",
     "output_type": "stream",
     "text": [
      "Converted 00_core.ipynb.\n",
      "Converted 98_utils.ipynb.\n",
      "Converted 99_default_standard_lib.ipynb.\n",
      "Converted core.ipynb.\n",
      "Converted index.ipynb.\n"
     ]
    }
   ],
   "source": [
    "!nbdev_build_lib"
   ]
  },
  {
   "cell_type": "code",
   "execution_count": null,
   "id": "a8c6c7d9-dce5-4120-9733-4b66ee06e33d",
   "metadata": {},
   "outputs": [],
   "source": []
  }
 ],
 "metadata": {
  "kernelspec": {
   "display_name": "Python [conda env:py39] *",
   "language": "python",
   "name": "conda-env-py39-py"
  }
 },
 "nbformat": 4,
 "nbformat_minor": 5
}
